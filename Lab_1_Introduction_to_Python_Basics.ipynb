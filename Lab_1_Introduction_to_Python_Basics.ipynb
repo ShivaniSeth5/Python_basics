{
  "nbformat": 4,
  "nbformat_minor": 0,
  "metadata": {
    "colab": {
      "provenance": []
    },
    "kernelspec": {
      "name": "python3",
      "display_name": "Python 3"
    },
    "language_info": {
      "name": "python"
    }
  },
  "cells": [
    {
      "cell_type": "markdown",
      "source": [
        "* **Module Code:** B9DA108\n",
        "* **Module Title:** Programming for Data Analysis"
      ],
      "metadata": {
        "id": "6nkeQCITtueY"
      }
    },
    {
      "cell_type": "markdown",
      "source": [
        "# **What is Python?**"
      ],
      "metadata": {
        "id": "BDZ1Z8pMohLv"
      }
    },
    {
      "cell_type": "markdown",
      "source": [
        "Python is a popular programming language. It was created by Guido van Rossum, and released in 1991.\n"
      ],
      "metadata": {
        "id": "C9IbnKwFomFb"
      }
    },
    {
      "cell_type": "markdown",
      "source": [
        "# **What Can Python Do?**\n",
        "\n",
        "   * Python can be used on a server to create web applications.\n",
        "   * Python can be used alongside software to create workflows.\n",
        "   * Python can connect to database systems. It can also read and modify files.\n",
        "   * Python can be used to handle big data and perform complex mathematics.\n",
        "   * Python can be used for rapid prototyping, or for production-ready software development."
      ],
      "metadata": {
        "id": "9JnuOfY7s75O"
      }
    },
    {
      "cell_type": "markdown",
      "source": [
        "\n",
        "# **Why Python?**\n",
        "\n",
        "   * Python works on different platforms (Windows, Mac, Linux, Raspberry Pi, etc).\n",
        "   * Python has a simple syntax similar to the English language.\n",
        "   * Python has syntax that allows developers to write programs with fewer lines than some other programming languages.\n",
        "   * Python runs on an interpreter system, meaning that code can be executed as soon as it is written. This means that prototyping can be very quick.\n",
        "   * Python can be treated in a procedural way, an object-oriented way or a functional way.\n",
        "\n"
      ],
      "metadata": {
        "id": "e8tcwfAUtANa"
      }
    },
    {
      "cell_type": "markdown",
      "source": [
        "# **Python Syntax compared to other programming languages**\n",
        "\n",
        "\n",
        "  * Python was designed for readability, and has some similarities to the English language with influence from mathematics.\n",
        "  *  Python uses new lines to complete a command, as opposed to other programming languages which often use semicolons or parentheses.\n",
        "  *  Python relies on indentation, using whitespace, to define scope; such as the scope of loops, functions and classes. Other programming languages often use curly-brackets for this purpose.\n"
      ],
      "metadata": {
        "id": "icRrj1JbtfxT"
      }
    },
    {
      "cell_type": "code",
      "source": [
        "print(\"Hello, World!\")"
      ],
      "metadata": {
        "colab": {
          "base_uri": "https://localhost:8080/"
        },
        "id": "v7HURinCi3XV",
        "outputId": "831c26ec-4aa3-4450-e7a4-c3e80d1c10fd"
      },
      "execution_count": null,
      "outputs": [
        {
          "output_type": "stream",
          "name": "stdout",
          "text": [
            "Hello, World!\n"
          ]
        }
      ]
    },
    {
      "cell_type": "code",
      "source": [
        "2+3"
      ],
      "metadata": {
        "id": "IGI2zhyAi63r",
        "colab": {
          "base_uri": "https://localhost:8080/"
        },
        "outputId": "6cbdb683-194e-4a42-b68c-776225c15c27"
      },
      "execution_count": null,
      "outputs": [
        {
          "output_type": "execute_result",
          "data": {
            "text/plain": [
              "5"
            ]
          },
          "metadata": {},
          "execution_count": 2
        }
      ]
    },
    {
      "cell_type": "code",
      "source": [
        "4*5"
      ],
      "metadata": {
        "id": "V4LaYlD2i7bz",
        "colab": {
          "base_uri": "https://localhost:8080/"
        },
        "outputId": "3601b90d-9589-4fbd-b0bd-416ac90c5309"
      },
      "execution_count": null,
      "outputs": [
        {
          "output_type": "execute_result",
          "data": {
            "text/plain": [
              "20"
            ]
          },
          "metadata": {},
          "execution_count": 3
        }
      ]
    },
    {
      "cell_type": "code",
      "source": [
        "print(45-5)"
      ],
      "metadata": {
        "colab": {
          "base_uri": "https://localhost:8080/"
        },
        "id": "1OXAzerDppPY",
        "outputId": "0be1780c-5d19-4d3a-8455-fe996b886e0f"
      },
      "execution_count": null,
      "outputs": [
        {
          "output_type": "stream",
          "name": "stdout",
          "text": [
            "40\n"
          ]
        }
      ]
    },
    {
      "cell_type": "markdown",
      "source": [
        "# **Python Indentation**\n",
        "Indentation refers to the spaces at the beginning of a code line.\n",
        "\n",
        "Where in other programming languages the indentation in code is for readability only, the indentation in Python is very important.\n",
        "\n",
        "Python uses indentation to indicate a block of code."
      ],
      "metadata": {
        "id": "1l3GP00qwVm3"
      }
    },
    {
      "cell_type": "code",
      "source": [
        "if 5>7:\n",
        "  print(\"Anything\")"
      ],
      "metadata": {
        "id": "I0-rS2YfBE1i"
      },
      "execution_count": null,
      "outputs": []
    },
    {
      "cell_type": "code",
      "source": [
        "if 6>3:\n",
        "  print(\"Today is Friday\")"
      ],
      "metadata": {
        "colab": {
          "base_uri": "https://localhost:8080/"
        },
        "id": "x6gAyOXnwfmT",
        "outputId": "236ae806-671a-4f3e-8228-d87749b8826d"
      },
      "execution_count": null,
      "outputs": [
        {
          "output_type": "stream",
          "name": "stdout",
          "text": [
            "Today is Friday\n"
          ]
        }
      ]
    },
    {
      "cell_type": "markdown",
      "source": [
        "Python will give you an error if you skip the indentation:"
      ],
      "metadata": {
        "id": "6BM6QQqHwkzW"
      }
    },
    {
      "cell_type": "code",
      "source": [
        "if 5 > 2:\n",
        "print(\"Five is greater than two!\")"
      ],
      "metadata": {
        "colab": {
          "base_uri": "https://localhost:8080/",
          "height": 106
        },
        "id": "5rsYSJ0nwl3J",
        "outputId": "54db4591-e19c-4065-db9d-964f1c03fc6e"
      },
      "execution_count": null,
      "outputs": [
        {
          "output_type": "error",
          "ename": "IndentationError",
          "evalue": "expected an indented block after 'if' statement on line 1 (<ipython-input-7-a314491c53bb>, line 2)",
          "traceback": [
            "\u001b[0;36m  File \u001b[0;32m\"<ipython-input-7-a314491c53bb>\"\u001b[0;36m, line \u001b[0;32m2\u001b[0m\n\u001b[0;31m    print(\"Five is greater than two!\")\u001b[0m\n\u001b[0m    ^\u001b[0m\n\u001b[0;31mIndentationError\u001b[0m\u001b[0;31m:\u001b[0m expected an indented block after 'if' statement on line 1\n"
          ]
        }
      ]
    },
    {
      "cell_type": "code",
      "source": [
        "if True:\n",
        "   print (\"True\")\n",
        "else:\n",
        "   print (\"False\")"
      ],
      "metadata": {
        "colab": {
          "base_uri": "https://localhost:8080/"
        },
        "id": "aENHQ6M_7oP6",
        "outputId": "cd6bee70-f344-4395-a75d-e0250ec5037d"
      },
      "execution_count": null,
      "outputs": [
        {
          "output_type": "stream",
          "name": "stdout",
          "text": [
            "True\n"
          ]
        }
      ]
    },
    {
      "cell_type": "code",
      "source": [
        "if True:\n",
        "\n",
        "print (\"True\")\n",
        "else:\n",
        "  print (\"False\")"
      ],
      "metadata": {
        "colab": {
          "base_uri": "https://localhost:8080/",
          "height": 106
        },
        "id": "Bxg4FPnM75B3",
        "outputId": "f57009d1-c233-43ba-a0f4-8b39eb122f74"
      },
      "execution_count": null,
      "outputs": [
        {
          "output_type": "error",
          "ename": "IndentationError",
          "evalue": "expected an indented block after 'if' statement on line 1 (<ipython-input-10-4a505e8e0366>, line 3)",
          "traceback": [
            "\u001b[0;36m  File \u001b[0;32m\"<ipython-input-10-4a505e8e0366>\"\u001b[0;36m, line \u001b[0;32m3\u001b[0m\n\u001b[0;31m    print (\"True\")\u001b[0m\n\u001b[0m    ^\u001b[0m\n\u001b[0;31mIndentationError\u001b[0m\u001b[0;31m:\u001b[0m expected an indented block after 'if' statement on line 1\n"
          ]
        }
      ]
    },
    {
      "cell_type": "markdown",
      "source": [
        "**Comments in Python**"
      ],
      "metadata": {
        "id": "EcBYsc8fHNFN"
      }
    },
    {
      "cell_type": "code",
      "source": [
        "# This is a single-line comment\n",
        "x = 10  # This comment explains the variable assignment\n",
        "print(x)  # Output the value of x\n"
      ],
      "metadata": {
        "colab": {
          "base_uri": "https://localhost:8080/"
        },
        "id": "5XmzwsPZKbcB",
        "outputId": "6d122f85-7f82-4091-dc99-1fa2a3e74f14"
      },
      "execution_count": null,
      "outputs": [
        {
          "output_type": "stream",
          "name": "stdout",
          "text": [
            "10\n"
          ]
        }
      ]
    },
    {
      "cell_type": "code",
      "source": [
        "x = 10  # Initialize variable x with value 10\n",
        "y = 20  # Initialize variable y with value 20\n",
        "result = x + y  # Calculate the sum of x and y\n",
        "print(result)  # Print the result\n"
      ],
      "metadata": {
        "colab": {
          "base_uri": "https://localhost:8080/"
        },
        "id": "0UuiTauFLR6B",
        "outputId": "e2c45279-9f31-46df-a730-663b058cc909"
      },
      "execution_count": null,
      "outputs": [
        {
          "output_type": "stream",
          "name": "stdout",
          "text": [
            "30\n"
          ]
        }
      ]
    },
    {
      "cell_type": "markdown",
      "source": [
        "**Multi-line comments**"
      ],
      "metadata": {
        "id": "nq3WGV2brhd2"
      }
    },
    {
      "cell_type": "code",
      "source": [
        "# This is a multi-line comment.\n",
        "# It spans multiple lines,\n",
        "# providing a detailed explanation."
      ],
      "metadata": {
        "id": "aFgzJtaLK-rw"
      },
      "execution_count": null,
      "outputs": []
    },
    {
      "cell_type": "code",
      "source": [
        "# Using double quotes\n",
        "double_quoted_string = \"Python's syntax is clean and easy to learn.\"\n",
        "print(double_quoted_string)"
      ],
      "metadata": {
        "colab": {
          "base_uri": "https://localhost:8080/"
        },
        "id": "RBq6lY-rHMOz",
        "outputId": "4631d0a6-b0d4-4f50-a2a1-c714bc4adf49"
      },
      "execution_count": null,
      "outputs": [
        {
          "output_type": "stream",
          "name": "stdout",
          "text": [
            "Python's syntax is clean and easy to learn.\n"
          ]
        }
      ]
    },
    {
      "cell_type": "code",
      "source": [
        "# Using triple quotes\n",
        "triple_quoted_string = '''This is a multi-line string.\n",
        "It can span multiple lines,\n",
        "and include both \"double\" and 'single' quotes.'''\n",
        "print(triple_quoted_string)"
      ],
      "metadata": {
        "colab": {
          "base_uri": "https://localhost:8080/"
        },
        "id": "NMEa7u3wH5Pz",
        "outputId": "de22400a-cedf-4b9e-fcc8-55b0b99b22a7"
      },
      "execution_count": null,
      "outputs": [
        {
          "output_type": "stream",
          "name": "stdout",
          "text": [
            "This is a multi-line string.\n",
            "It can span multiple lines,\n",
            "and include both \"double\" and 'single' quotes.\n"
          ]
        }
      ]
    },
    {
      "cell_type": "code",
      "source": [
        "# Variable assignment\n",
        "x = 5\n",
        "\n",
        "# Print statement\n",
        "print(x)\n",
        "\n",
        "# Function call\n",
        "def greet():\n",
        "    print(\"Hello, World!\")\n",
        "\n",
        "greet()"
      ],
      "metadata": {
        "colab": {
          "base_uri": "https://localhost:8080/"
        },
        "id": "0NZCOujTBvEw",
        "outputId": "4602a432-a902-48ff-ef3e-59120735ec11"
      },
      "execution_count": null,
      "outputs": [
        {
          "output_type": "stream",
          "name": "stdout",
          "text": [
            "5\n",
            "Hello, World!\n"
          ]
        }
      ]
    },
    {
      "cell_type": "code",
      "source": [
        "# This is a comment\n",
        "# This line of code prints\n",
        "# Hello World\n",
        "# Name: Sree Aakash\n",
        "# Student number:\n",
        "# Module Code:\n",
        "print(\"Hello, World!\")"
      ],
      "metadata": {
        "id": "eYnoVj-i3Mhq"
      },
      "execution_count": null,
      "outputs": []
    },
    {
      "cell_type": "code",
      "source": [
        "print(\"Hello, World!\") #This is a comment"
      ],
      "metadata": {
        "colab": {
          "base_uri": "https://localhost:8080/"
        },
        "id": "0630Bom43cSX",
        "outputId": "1d23ca42-c77d-4776-e1c0-a52ddf750da4"
      },
      "execution_count": null,
      "outputs": [
        {
          "output_type": "stream",
          "name": "stdout",
          "text": [
            "Hello, World!\n"
          ]
        }
      ]
    },
    {
      "cell_type": "markdown",
      "source": [
        "**Using Python as a Calculator**"
      ],
      "metadata": {
        "id": "zjkBf4Xca4hk"
      }
    },
    {
      "cell_type": "markdown",
      "source": [
        "**1. Numbers**"
      ],
      "metadata": {
        "id": "eJ3r5igebDMB"
      }
    },
    {
      "cell_type": "code",
      "execution_count": null,
      "metadata": {
        "colab": {
          "base_uri": "https://localhost:8080/"
        },
        "id": "ov-Zp2MtZcQB",
        "outputId": "2f4292cd-af85-4cfd-f921-a40d15a652ca"
      },
      "outputs": [
        {
          "output_type": "execute_result",
          "data": {
            "text/plain": [
              "13"
            ]
          },
          "metadata": {},
          "execution_count": 12
        }
      ],
      "source": [
        "7+6"
      ]
    },
    {
      "cell_type": "code",
      "source": [
        "15+12"
      ],
      "metadata": {
        "colab": {
          "base_uri": "https://localhost:8080/"
        },
        "id": "9oBIyHB0-rCI",
        "outputId": "0f5bbe75-e545-4929-c9a2-33014111a047"
      },
      "execution_count": null,
      "outputs": [
        {
          "output_type": "execute_result",
          "data": {
            "text/plain": [
              "27"
            ]
          },
          "metadata": {},
          "execution_count": 13
        }
      ]
    },
    {
      "cell_type": "code",
      "source": [
        "x+5"
      ],
      "metadata": {
        "colab": {
          "base_uri": "https://localhost:8080/"
        },
        "id": "O9vvAuDA1NwJ",
        "outputId": "cd30fdeb-0101-43c8-d62c-c50c91fd74df"
      },
      "execution_count": null,
      "outputs": [
        {
          "output_type": "execute_result",
          "data": {
            "text/plain": [
              "15"
            ]
          },
          "metadata": {},
          "execution_count": 16
        }
      ]
    },
    {
      "cell_type": "code",
      "source": [
        "s=17\n",
        "s+6"
      ],
      "metadata": {
        "colab": {
          "base_uri": "https://localhost:8080/"
        },
        "id": "c4F8Z6W8jrUv",
        "outputId": "ebe7a9ce-e208-483d-f503-ebf3e945f16a"
      },
      "execution_count": null,
      "outputs": [
        {
          "output_type": "execute_result",
          "data": {
            "text/plain": [
              "23"
            ]
          },
          "metadata": {},
          "execution_count": 17
        }
      ]
    },
    {
      "cell_type": "code",
      "source": [
        "2+5"
      ],
      "metadata": {
        "id": "m524tZlCFdzB",
        "colab": {
          "base_uri": "https://localhost:8080/"
        },
        "outputId": "af55b075-cf68-43a6-ec92-ba0d7f35523c"
      },
      "execution_count": null,
      "outputs": [
        {
          "output_type": "execute_result",
          "data": {
            "text/plain": [
              "7"
            ]
          },
          "metadata": {},
          "execution_count": 5
        }
      ]
    },
    {
      "cell_type": "code",
      "source": [
        "(50-5*6)//4"
      ],
      "metadata": {
        "colab": {
          "base_uri": "https://localhost:8080/"
        },
        "id": "X85g0wLYZjez",
        "outputId": "5a0564d9-60c6-46e7-d48c-654385c523b7"
      },
      "execution_count": null,
      "outputs": [
        {
          "output_type": "execute_result",
          "data": {
            "text/plain": [
              "5"
            ]
          },
          "metadata": {},
          "execution_count": 19
        }
      ]
    },
    {
      "cell_type": "code",
      "source": [
        "8/6"
      ],
      "metadata": {
        "colab": {
          "base_uri": "https://localhost:8080/"
        },
        "id": "VqFoHCYtZnoV",
        "outputId": "f1a0731f-9d5b-4b22-fbd8-41658207a0aa"
      },
      "execution_count": null,
      "outputs": [
        {
          "output_type": "execute_result",
          "data": {
            "text/plain": [
              "1.3333333333333333"
            ]
          },
          "metadata": {},
          "execution_count": 16
        }
      ]
    },
    {
      "cell_type": "code",
      "source": [
        "8//6 #Floor division discards the fractional part"
      ],
      "metadata": {
        "colab": {
          "base_uri": "https://localhost:8080/"
        },
        "id": "jjF8oP-sZptn",
        "outputId": "fd179ecf-d65c-4dad-eeda-285867bfcbef"
      },
      "execution_count": null,
      "outputs": [
        {
          "output_type": "execute_result",
          "data": {
            "text/plain": [
              "1"
            ]
          },
          "metadata": {},
          "execution_count": 17
        }
      ]
    },
    {
      "cell_type": "code",
      "source": [
        "5/4"
      ],
      "metadata": {
        "colab": {
          "base_uri": "https://localhost:8080/"
        },
        "id": "alIdxSDCG1oy",
        "outputId": "44d08162-2524-47c1-9e71-ee9199edd111"
      },
      "execution_count": null,
      "outputs": [
        {
          "output_type": "execute_result",
          "data": {
            "text/plain": [
              "1.25"
            ]
          },
          "metadata": {},
          "execution_count": 18
        }
      ]
    },
    {
      "cell_type": "code",
      "source": [
        "17%5 #Returns the remainder"
      ],
      "metadata": {
        "colab": {
          "base_uri": "https://localhost:8080/"
        },
        "id": "lnduARk9Zr3F",
        "outputId": "e8b8433a-914d-4526-c40d-2c2ba8c0629f"
      },
      "execution_count": null,
      "outputs": [
        {
          "output_type": "execute_result",
          "data": {
            "text/plain": [
              "2"
            ]
          },
          "metadata": {},
          "execution_count": 25
        }
      ]
    },
    {
      "cell_type": "code",
      "source": [
        "5*3+2"
      ],
      "metadata": {
        "colab": {
          "base_uri": "https://localhost:8080/"
        },
        "id": "RNLHS1gIZ4Ge",
        "outputId": "dcd2e146-5b7a-472e-f3bf-1a2a7d31cc3e"
      },
      "execution_count": null,
      "outputs": [
        {
          "output_type": "execute_result",
          "data": {
            "text/plain": [
              "17"
            ]
          },
          "metadata": {},
          "execution_count": 26
        }
      ]
    },
    {
      "cell_type": "markdown",
      "source": [
        "# **Creating Variables**\n",
        "\n",
        "* Python has no command for declaring a variable.\n",
        "\n",
        "* A variable is created the moment you first assign a value to it."
      ],
      "metadata": {
        "id": "TTvD_2JV4mas"
      }
    },
    {
      "cell_type": "markdown",
      "source": [
        "**Variable Names**\n",
        "* A variable can have a short name (like x and y) or a more descriptive name (age, carname, total_volume). Rules for Python variables:\n",
        "\n",
        "    * A variable name must start with a letter or the underscore character\n",
        "    * A variable name cannot start with a number\n",
        "    * A variable name can only contain alpha-numeric characters and underscores (A-z, 0-9, and _ )\n",
        "    * Variable names are case-sensitive (age, Age and AGE are three different variables)\n",
        "    * A variable name cannot be any of the Python keywords.\n"
      ],
      "metadata": {
        "id": "q-C9nZbx6Mxq"
      }
    },
    {
      "cell_type": "code",
      "source": [
        "x = 5\n",
        "x=7\n",
        "y = \"John\"\n",
        "y=9\n",
        "print(x)\n",
        "print(y)"
      ],
      "metadata": {
        "id": "Q-kNvaP944IZ",
        "colab": {
          "base_uri": "https://localhost:8080/"
        },
        "outputId": "3d98e96d-d065-4801-a6bb-46dba1911396"
      },
      "execution_count": null,
      "outputs": [
        {
          "output_type": "stream",
          "name": "stdout",
          "text": [
            "7\n",
            "9\n"
          ]
        }
      ]
    },
    {
      "cell_type": "code",
      "source": [
        "x = 4       # x is of type int\n",
        "x = \"Sally\" # x is now of type str\n",
        "print(x)"
      ],
      "metadata": {
        "id": "cl7fj0Eu47Is",
        "colab": {
          "base_uri": "https://localhost:8080/"
        },
        "outputId": "ce7177d5-46f2-45e6-d49f-d413b814fdfe"
      },
      "execution_count": null,
      "outputs": [
        {
          "output_type": "stream",
          "name": "stdout",
          "text": [
            "Sally\n"
          ]
        }
      ]
    },
    {
      "cell_type": "markdown",
      "source": [
        "**Casting**\n",
        "\n",
        "If you want to specify the data type of a variable, this can be done with casting."
      ],
      "metadata": {
        "id": "fk8y5EAV5DE3"
      }
    },
    {
      "cell_type": "code",
      "source": [
        "var = str(3)    # var will be '3'\n",
        "var1 = int(3)    # var1 will be 3\n",
        "var2 = float(3)  # var2 will be 3.0\n",
        "print(var)\n",
        "print(var1)\n",
        "print(var2)"
      ],
      "metadata": {
        "id": "bcksofSj5L-9",
        "colab": {
          "base_uri": "https://localhost:8080/"
        },
        "outputId": "2b846698-5594-43fe-92ec-9b381d347e1a"
      },
      "execution_count": null,
      "outputs": [
        {
          "output_type": "stream",
          "name": "stdout",
          "text": [
            "3\n",
            "3\n",
            "3.0\n"
          ]
        }
      ]
    },
    {
      "cell_type": "code",
      "source": [
        "var=33\n",
        "var"
      ],
      "metadata": {
        "colab": {
          "base_uri": "https://localhost:8080/"
        },
        "id": "9wVRQ3gi4Ss6",
        "outputId": "88033ae1-acea-4a26-c7a7-9a0cb365f8c2"
      },
      "execution_count": null,
      "outputs": [
        {
          "output_type": "execute_result",
          "data": {
            "text/plain": [
              "33"
            ]
          },
          "metadata": {},
          "execution_count": 30
        }
      ]
    },
    {
      "cell_type": "markdown",
      "source": [
        "Legal variable names:"
      ],
      "metadata": {
        "id": "XyO8mxOv7Y3e"
      }
    },
    {
      "cell_type": "code",
      "source": [
        "# Valid or Legal Identifiers\n",
        "myvar = \"John\"\n",
        "my_var = \"John\"\n",
        "_my_var = \"John\"\n",
        "myVar = \"John\"\n",
        "MYVAR = \"John\"\n",
        "myvar27 = \"John\"\n",
        "print(my_var)\n",
        "print(myvar)\n",
        "print(_my_var)\n",
        "print(myVar)\n",
        "print(MYVAR)"
      ],
      "metadata": {
        "id": "ibrxR8k97cZp",
        "colab": {
          "base_uri": "https://localhost:8080/"
        },
        "outputId": "bec54085-c15a-47a3-9052-766dd5b0ce7b"
      },
      "execution_count": null,
      "outputs": [
        {
          "output_type": "stream",
          "name": "stdout",
          "text": [
            "John\n",
            "John\n",
            "John\n",
            "John\n",
            "John\n"
          ]
        }
      ]
    },
    {
      "cell_type": "code",
      "source": [
        "print(\"My name is:\", myVar)"
      ],
      "metadata": {
        "colab": {
          "base_uri": "https://localhost:8080/"
        },
        "id": "6Wx0xwFxJNZJ",
        "outputId": "e6e07fba-d4fa-4a7c-b15b-bf9304d6aa66"
      },
      "execution_count": null,
      "outputs": [
        {
          "output_type": "stream",
          "name": "stdout",
          "text": [
            "My name is: John\n"
          ]
        }
      ]
    },
    {
      "cell_type": "code",
      "source": [
        "name=\"Alexander\"\n",
        "height=\"1.75cm\"\n",
        "weight=90\n",
        "address=\"Dublin\"\n",
        "Workplace=\"DBS\""
      ],
      "metadata": {
        "id": "ulXBQeLVS_Y4"
      },
      "execution_count": null,
      "outputs": []
    },
    {
      "cell_type": "code",
      "source": [
        "print(f\"I work at {Workplace}, and my name is {name}, I have a height of, {height} and weigh a total of {weight}kg\")"
      ],
      "metadata": {
        "colab": {
          "base_uri": "https://localhost:8080/"
        },
        "id": "ofGvHXU1tNIv",
        "outputId": "a36270c3-8aa9-4012-a729-aec44ce9ec03"
      },
      "execution_count": null,
      "outputs": [
        {
          "output_type": "stream",
          "name": "stdout",
          "text": [
            "I work at DBS, and my name is Alexander, I have a height of, 1.75cm and weigh a total of 90kg\n"
          ]
        }
      ]
    },
    {
      "cell_type": "code",
      "source": [
        "print(\"I work at\", Workplace, \"My name is\", name, \"My height is\", height, \"and I weigh about\", weight, \"Kg\")"
      ],
      "metadata": {
        "colab": {
          "base_uri": "https://localhost:8080/"
        },
        "id": "kWcj1a11TOle",
        "outputId": "47b0df83-5582-4168-a568-e42e2e9b9ea9"
      },
      "execution_count": null,
      "outputs": [
        {
          "output_type": "stream",
          "name": "stdout",
          "text": [
            "I work at DBS My name is Alexander My height is 1.75 and I weigh about 90 Kg\n"
          ]
        }
      ]
    },
    {
      "cell_type": "code",
      "source": [
        "myvar\n",
        "my_var\n",
        "_my_var\n",
        "myVar\n",
        "MYVAR\n",
        "myvar27"
      ],
      "metadata": {
        "colab": {
          "base_uri": "https://localhost:8080/",
          "height": 35
        },
        "id": "HnJNplmv4rhM",
        "outputId": "80df8ea0-10c0-487d-91f9-b6770b247669"
      },
      "execution_count": null,
      "outputs": [
        {
          "output_type": "execute_result",
          "data": {
            "text/plain": [
              "'John'"
            ],
            "application/vnd.google.colaboratory.intrinsic+json": {
              "type": "string"
            }
          },
          "metadata": {},
          "execution_count": 29
        }
      ]
    },
    {
      "cell_type": "markdown",
      "source": [
        "Illegal variable names:"
      ],
      "metadata": {
        "id": "LuKT4_e17hyX"
      }
    },
    {
      "cell_type": "code",
      "source": [
        "# Invalid or Illegal Identifies\n",
        "2myvar = \"John\"\n",
        "my-var = \"John\"\n",
        "my var = \"John\""
      ],
      "metadata": {
        "id": "UG87bQkc7mBt",
        "colab": {
          "base_uri": "https://localhost:8080/",
          "height": 105
        },
        "outputId": "9bfda9ee-de18-4db0-a1a6-4635df951af7"
      },
      "execution_count": null,
      "outputs": [
        {
          "output_type": "error",
          "ename": "SyntaxError",
          "evalue": "invalid decimal literal (<ipython-input-30-14a598c60896>, line 2)",
          "traceback": [
            "\u001b[0;36m  File \u001b[0;32m\"<ipython-input-30-14a598c60896>\"\u001b[0;36m, line \u001b[0;32m2\u001b[0m\n\u001b[0;31m    2myvar = \"John\"\u001b[0m\n\u001b[0m    ^\u001b[0m\n\u001b[0;31mSyntaxError\u001b[0m\u001b[0;31m:\u001b[0m invalid decimal literal\n"
          ]
        }
      ]
    },
    {
      "cell_type": "markdown",
      "source": [
        "**Examples of Valid and Invalid Variables**"
      ],
      "metadata": {
        "id": "r-gRiF8anQdG"
      }
    },
    {
      "cell_type": "code",
      "source": [
        "# Valid variable names\n",
        "name = \"Alice\"\n",
        "_age = 30\n",
        "favorite_color = \"blue\"\n",
        "\n",
        "print(name)\n",
        "print(_age)\n",
        "print(favorite_color)"
      ],
      "metadata": {
        "colab": {
          "base_uri": "https://localhost:8080/"
        },
        "id": "i56fvDj2nI8r",
        "outputId": "c675798f-b278-4400-d943-a093eb8d3d61"
      },
      "execution_count": null,
      "outputs": [
        {
          "output_type": "stream",
          "name": "stdout",
          "text": [
            "Alice\n",
            "30\n",
            "blue\n"
          ]
        }
      ]
    },
    {
      "cell_type": "code",
      "source": [
        "# Invalid variable names\n",
        "1st_name = \"Bob\"  # Starts with a digit\n",
        "age$ = 25  # Contains special character $\n",
        "class = \"Python\"  # Uses a Python keyword\n",
        "\n",
        "print(1st_name)\n",
        "print(age$)\n",
        "print(class)"
      ],
      "metadata": {
        "colab": {
          "base_uri": "https://localhost:8080/",
          "height": 105
        },
        "id": "WFjJl90dnWcE",
        "outputId": "4da6cca7-07c9-473e-ed64-db521a4637fe"
      },
      "execution_count": null,
      "outputs": [
        {
          "output_type": "error",
          "ename": "SyntaxError",
          "evalue": "invalid decimal literal (<ipython-input-3-536ad9558576>, line 2)",
          "traceback": [
            "\u001b[0;36m  File \u001b[0;32m\"<ipython-input-3-536ad9558576>\"\u001b[0;36m, line \u001b[0;32m2\u001b[0m\n\u001b[0;31m    1st_name = \"Bob\"  # Starts with a digit\u001b[0m\n\u001b[0m    ^\u001b[0m\n\u001b[0;31mSyntaxError\u001b[0m\u001b[0;31m:\u001b[0m invalid decimal literal\n"
          ]
        }
      ]
    },
    {
      "cell_type": "markdown",
      "source": [
        "**Declaring and Redeclaring Variables**"
      ],
      "metadata": {
        "id": "FbVrT3lkzAeg"
      }
    },
    {
      "cell_type": "code",
      "source": [
        "# Assigning values to variables\n",
        "counter = 10\n",
        "marker = \"Hello, World!\"\n",
        "\n",
        "# Reassigning variables to different data types\n",
        "counter = \"Python\"\n",
        "marker = 3.14\n",
        "\n",
        "print(counter)\n",
        "print(marker)"
      ],
      "metadata": {
        "colab": {
          "base_uri": "https://localhost:8080/"
        },
        "id": "uTQSr7HDqnpy",
        "outputId": "600c89c0-db17-4dca-e9dc-0a0216701c19"
      },
      "execution_count": null,
      "outputs": [
        {
          "output_type": "stream",
          "name": "stdout",
          "text": [
            "Python\n",
            "3.14\n"
          ]
        }
      ]
    },
    {
      "cell_type": "code",
      "source": [
        "# declaring the var\n",
        "Number = 100\n",
        "\n",
        "# display\n",
        "print(\"Before declare: \", Number)\n",
        "\n",
        "# re-declare the var\n",
        "Number = 120.3\n",
        "\n",
        "print(\"After re-declare:\", Number)"
      ],
      "metadata": {
        "colab": {
          "base_uri": "https://localhost:8080/"
        },
        "id": "d-l9976WzFST",
        "outputId": "e3aee240-d920-46fe-e0e9-8984087b449f"
      },
      "execution_count": null,
      "outputs": [
        {
          "output_type": "stream",
          "name": "stdout",
          "text": [
            "Before declare:  100\n",
            "After re-declare: 120.3\n"
          ]
        }
      ]
    },
    {
      "cell_type": "markdown",
      "source": [
        "**Variable Types**\n",
        "\n",
        "Variable data types depend on the data types of the data assigned to them."
      ],
      "metadata": {
        "id": "oCyodq-0zHJJ"
      }
    },
    {
      "cell_type": "code",
      "source": [
        "# Different variable types\n",
        "age = 25  # Integer\n",
        "height = 5.8  # Float\n",
        "name = \"Alice\"  # String\n",
        "fruits = [\"apple\", \"banana\", \"cherry\"]  # List\n",
        "person = {\"name\": \"Bob\", \"age\": 30}  # Dictionary"
      ],
      "metadata": {
        "id": "ZG7AFJ4EwBCy"
      },
      "execution_count": null,
      "outputs": []
    },
    {
      "cell_type": "code",
      "source": [
        "# Variable example\n",
        "name = \"Alice\"\n",
        "age = 25\n",
        "height = 5.6\n",
        "\n",
        "# Print variables\n",
        "print(\"Name:\", name)\n",
        "print(\"Age:\", age)\n",
        "print(\"Height:\", height)\n",
        "\n",
        "# Calculate BMI using variables\n",
        "weight = 65\n",
        "bmi = weight / (height ** 2)\n",
        "print(\"BMI:\", bmi)"
      ],
      "metadata": {
        "colab": {
          "base_uri": "https://localhost:8080/"
        },
        "id": "vDvq_2VPxB-e",
        "outputId": "7b962887-eaae-47e5-fd7d-e44836e36643"
      },
      "execution_count": null,
      "outputs": [
        {
          "output_type": "stream",
          "name": "stdout",
          "text": [
            "Name: Alice\n",
            "Age: 25\n",
            "Height: 5.6\n",
            "BMI: 2.0727040816326534\n"
          ]
        }
      ]
    },
    {
      "cell_type": "markdown",
      "source": [
        "**Local and Global Variable Declaration**"
      ],
      "metadata": {
        "id": "ZjWI70SSzXxq"
      }
    },
    {
      "cell_type": "code",
      "source": [
        "# This function uses local variable s\n",
        "def f():\n",
        "  s = \"Welcome students\"\n",
        "  print(s)"
      ],
      "metadata": {
        "id": "djaI7q6szbnu"
      },
      "execution_count": null,
      "outputs": []
    },
    {
      "cell_type": "code",
      "source": [
        "f()"
      ],
      "metadata": {
        "colab": {
          "base_uri": "https://localhost:8080/",
          "height": 141
        },
        "id": "3ekWb18IzhMg",
        "outputId": "8a855eef-b11d-4f4d-a564-ef029979a87a"
      },
      "execution_count": null,
      "outputs": [
        {
          "output_type": "error",
          "ename": "NameError",
          "evalue": "name 'f' is not defined",
          "traceback": [
            "\u001b[0;31m---------------------------------------------------------------------------\u001b[0m",
            "\u001b[0;31mNameError\u001b[0m                                 Traceback (most recent call last)",
            "\u001b[0;32m<ipython-input-7-c43e34e6d405>\u001b[0m in \u001b[0;36m<cell line: 1>\u001b[0;34m()\u001b[0m\n\u001b[0;32m----> 1\u001b[0;31m \u001b[0mf\u001b[0m\u001b[0;34m(\u001b[0m\u001b[0;34m)\u001b[0m\u001b[0;34m\u001b[0m\u001b[0;34m\u001b[0m\u001b[0m\n\u001b[0m",
            "\u001b[0;31mNameError\u001b[0m: name 'f' is not defined"
          ]
        }
      ]
    },
    {
      "cell_type": "code",
      "source": [
        "s=45"
      ],
      "metadata": {
        "id": "0BfgBZEaznBq"
      },
      "execution_count": null,
      "outputs": []
    },
    {
      "cell_type": "code",
      "source": [
        "f()"
      ],
      "metadata": {
        "colab": {
          "base_uri": "https://localhost:8080/",
          "height": 141
        },
        "id": "ZKK_VEgezoya",
        "outputId": "c4504d33-9fb2-4b3d-b5a1-85140377c4d7"
      },
      "execution_count": null,
      "outputs": [
        {
          "output_type": "error",
          "ename": "NameError",
          "evalue": "name 'f' is not defined",
          "traceback": [
            "\u001b[0;31m---------------------------------------------------------------------------\u001b[0m",
            "\u001b[0;31mNameError\u001b[0m                                 Traceback (most recent call last)",
            "\u001b[0;32m<ipython-input-5-c43e34e6d405>\u001b[0m in \u001b[0;36m<cell line: 1>\u001b[0;34m()\u001b[0m\n\u001b[0;32m----> 1\u001b[0;31m \u001b[0mf\u001b[0m\u001b[0;34m(\u001b[0m\u001b[0;34m)\u001b[0m\u001b[0;34m\u001b[0m\u001b[0;34m\u001b[0m\u001b[0m\n\u001b[0m",
            "\u001b[0;31mNameError\u001b[0m: name 'f' is not defined"
          ]
        }
      ]
    },
    {
      "cell_type": "code",
      "source": [
        "# This function has a variable with\n",
        "# name same as s\n",
        "def f():\n",
        "    print(s)\n",
        "\n",
        "# Global scope\n",
        "s = \"I love Dublin Business School\""
      ],
      "metadata": {
        "id": "3IrIRPQc1bak"
      },
      "execution_count": null,
      "outputs": []
    },
    {
      "cell_type": "code",
      "source": [
        "f()"
      ],
      "metadata": {
        "colab": {
          "base_uri": "https://localhost:8080/"
        },
        "id": "92PN1dOi1ezi",
        "outputId": "81ad89e0-7019-4140-9c32-4e1750383396"
      },
      "execution_count": null,
      "outputs": [
        {
          "output_type": "stream",
          "name": "stdout",
          "text": [
            "45\n"
          ]
        }
      ]
    },
    {
      "cell_type": "code",
      "source": [
        "s=45"
      ],
      "metadata": {
        "id": "zeOMCHR31293"
      },
      "execution_count": null,
      "outputs": []
    },
    {
      "cell_type": "code",
      "source": [
        "f()"
      ],
      "metadata": {
        "colab": {
          "base_uri": "https://localhost:8080/"
        },
        "id": "CYTyY1Wv1gt-",
        "outputId": "4d466d66-e200-460c-d237-e21855ae1790"
      },
      "execution_count": null,
      "outputs": [
        {
          "output_type": "stream",
          "name": "stdout",
          "text": [
            "45\n"
          ]
        }
      ]
    },
    {
      "cell_type": "code",
      "source": [
        "s=\"Bank Holiday\""
      ],
      "metadata": {
        "id": "dr5aT7d-1_7h"
      },
      "execution_count": null,
      "outputs": []
    },
    {
      "cell_type": "code",
      "source": [
        "f()"
      ],
      "metadata": {
        "colab": {
          "base_uri": "https://localhost:8080/"
        },
        "id": "tMFOREjt2BYC",
        "outputId": "bb97ea8f-7ad4-4d0d-ad12-58e249d96db9"
      },
      "execution_count": null,
      "outputs": [
        {
          "output_type": "stream",
          "name": "stdout",
          "text": [
            "Bank Holiday\n"
          ]
        }
      ]
    },
    {
      "cell_type": "code",
      "source": [
        "def f(x):\n",
        "  print(x)\n",
        "x=3"
      ],
      "metadata": {
        "id": "WOV2M4MluA_U"
      },
      "execution_count": null,
      "outputs": []
    },
    {
      "cell_type": "code",
      "source": [
        "f(x)"
      ],
      "metadata": {
        "colab": {
          "base_uri": "https://localhost:8080/"
        },
        "id": "fD9Mbj2FuJ8E",
        "outputId": "c8b43b33-cfbe-4825-c916-bda0e29fc499"
      },
      "execution_count": null,
      "outputs": [
        {
          "output_type": "stream",
          "name": "stdout",
          "text": [
            "3\n"
          ]
        }
      ]
    },
    {
      "cell_type": "code",
      "source": [
        "x=345\n",
        "f(x)"
      ],
      "metadata": {
        "colab": {
          "base_uri": "https://localhost:8080/"
        },
        "id": "_IRbndTnuNel",
        "outputId": "de181b38-8fca-4487-fd42-350661e9cdf6"
      },
      "execution_count": null,
      "outputs": [
        {
          "output_type": "stream",
          "name": "stdout",
          "text": [
            "345\n"
          ]
        }
      ]
    },
    {
      "cell_type": "markdown",
      "source": [
        "**An Example**"
      ],
      "metadata": {
        "id": "Hxl0O5613ixH"
      }
    },
    {
      "cell_type": "code",
      "source": [
        "x = 15\n",
        "\n",
        "def change():\n",
        "\n",
        "    # using a global keyword\n",
        "    global x\n",
        "\n",
        "    # increment value of a by 5\n",
        "    x = x + 5\n",
        "    print(\"Value of x inside a function :\", x)\n",
        "\n",
        "\n",
        "change()\n",
        "print(\"Value of x outside a function :\", x)"
      ],
      "metadata": {
        "colab": {
          "base_uri": "https://localhost:8080/"
        },
        "id": "vMJzfbGN3jhz",
        "outputId": "a3211936-dd4e-40b8-940b-778fb0c580cf"
      },
      "execution_count": null,
      "outputs": [
        {
          "output_type": "stream",
          "name": "stdout",
          "text": [
            "Value of x inside a function : 20\n",
            "Value of x outside a function : 20\n"
          ]
        }
      ]
    },
    {
      "cell_type": "markdown",
      "source": [
        "**Many Values to Multiple Variables**\n",
        "\n",
        "Python allows you to assign values to multiple variables in one line:"
      ],
      "metadata": {
        "id": "EUtt3_Il7v8W"
      }
    },
    {
      "cell_type": "code",
      "source": [
        "x = y = z = \"Orange\"\n",
        "print(x)\n",
        "print(y)\n",
        "print(z)"
      ],
      "metadata": {
        "id": "446gWZ2R9jBJ",
        "colab": {
          "base_uri": "https://localhost:8080/"
        },
        "outputId": "bbc46b22-60d8-4445-bbbc-9b36ed850b26"
      },
      "execution_count": null,
      "outputs": [
        {
          "output_type": "stream",
          "name": "stdout",
          "text": [
            "Orange\n",
            "Orange\n",
            "Orange\n"
          ]
        }
      ]
    },
    {
      "cell_type": "markdown",
      "source": [
        "Unpack a Collection"
      ],
      "metadata": {
        "id": "xzTQgzdr9xTW"
      }
    },
    {
      "cell_type": "code",
      "source": [
        "fruits = [\"apple\", \"banana\", \"cherry\"]\n",
        "x, y, z = fruits\n",
        "print(x)\n",
        "print(y)\n",
        "print(z)"
      ],
      "metadata": {
        "colab": {
          "base_uri": "https://localhost:8080/"
        },
        "id": "DEuf9mr-93sm",
        "outputId": "0fd99bc0-717b-448c-e9b1-f90cdbe2a264"
      },
      "execution_count": null,
      "outputs": [
        {
          "output_type": "stream",
          "name": "stdout",
          "text": [
            "apple\n",
            "banana\n",
            "cherry\n"
          ]
        }
      ]
    },
    {
      "cell_type": "code",
      "source": [
        "tax =12.5/100\n",
        "price=100.5\n",
        "profit=price*tax\n",
        "\n",
        "print(profit)"
      ],
      "metadata": {
        "colab": {
          "base_uri": "https://localhost:8080/"
        },
        "id": "4LhBBVJDaXAl",
        "outputId": "a4de39c2-6a2c-46e4-9669-e3413120894a"
      },
      "execution_count": null,
      "outputs": [
        {
          "output_type": "stream",
          "name": "stdout",
          "text": [
            "12.5625\n"
          ]
        }
      ]
    },
    {
      "cell_type": "code",
      "source": [
        "price +_ #This adds the last estimation above to the original value of price"
      ],
      "metadata": {
        "colab": {
          "base_uri": "https://localhost:8080/"
        },
        "id": "xAdC-m1XamU2",
        "outputId": "2351ba15-f889-4c35-d358-0c7b632f90cf"
      },
      "execution_count": null,
      "outputs": [
        {
          "output_type": "execute_result",
          "data": {
            "text/plain": [
              "414.5625"
            ]
          },
          "metadata": {},
          "execution_count": 43
        }
      ]
    },
    {
      "cell_type": "code",
      "source": [
        "round(_,2) #Rounds the last value to 2 decimal places"
      ],
      "metadata": {
        "colab": {
          "base_uri": "https://localhost:8080/"
        },
        "id": "Ow0YVVHrbGT_",
        "outputId": "dd2b8eaa-dcc7-43e9-84f1-f0d2f8a5f712"
      },
      "execution_count": null,
      "outputs": [
        {
          "output_type": "execute_result",
          "data": {
            "text/plain": [
              "414.56"
            ]
          },
          "metadata": {},
          "execution_count": 44
        }
      ]
    },
    {
      "cell_type": "markdown",
      "source": [
        "**2. Strings**"
      ],
      "metadata": {
        "id": "CwTv8_CibVE-"
      }
    },
    {
      "cell_type": "code",
      "source": [
        "\"First Name\""
      ],
      "metadata": {
        "colab": {
          "base_uri": "https://localhost:8080/",
          "height": 35
        },
        "id": "tx4uiWYXISXu",
        "outputId": "3382901a-294e-4d4b-c65a-770e089571b5"
      },
      "execution_count": null,
      "outputs": [
        {
          "output_type": "execute_result",
          "data": {
            "text/plain": [
              "'First Name'"
            ],
            "application/vnd.google.colaboratory.intrinsic+json": {
              "type": "string"
            }
          },
          "metadata": {},
          "execution_count": 50
        }
      ]
    },
    {
      "cell_type": "code",
      "source": [
        "'spam eggs' #Ensure they are enclosed in single quotes"
      ],
      "metadata": {
        "colab": {
          "base_uri": "https://localhost:8080/",
          "height": 35
        },
        "id": "aJVVcSOzbXYE",
        "outputId": "a0909312-598f-4721-8239-0d48b04d4a0e"
      },
      "execution_count": null,
      "outputs": [
        {
          "output_type": "execute_result",
          "data": {
            "text/plain": [
              "'spam eggs'"
            ],
            "application/vnd.google.colaboratory.intrinsic+json": {
              "type": "string"
            }
          },
          "metadata": {},
          "execution_count": 51
        }
      ]
    },
    {
      "cell_type": "code",
      "source": [
        "'\"Yes,\" they said it.'"
      ],
      "metadata": {
        "colab": {
          "base_uri": "https://localhost:8080/",
          "height": 35
        },
        "id": "n5yiSPRcbz5S",
        "outputId": "dfbae580-452c-4e1d-bbf5-a0bca46ef495"
      },
      "execution_count": null,
      "outputs": [
        {
          "output_type": "execute_result",
          "data": {
            "text/plain": [
              "'\"Yes,\" they said it.'"
            ],
            "application/vnd.google.colaboratory.intrinsic+json": {
              "type": "string"
            }
          },
          "metadata": {},
          "execution_count": 55
        }
      ]
    },
    {
      "cell_type": "code",
      "source": [
        "'Isn\\'t, they said it', 71*2"
      ],
      "metadata": {
        "colab": {
          "base_uri": "https://localhost:8080/"
        },
        "id": "Zns4RaHkb5Q8",
        "outputId": "b4bdf765-6baa-4993-aa44-ecef5527a9d2"
      },
      "execution_count": null,
      "outputs": [
        {
          "output_type": "execute_result",
          "data": {
            "text/plain": [
              "(\"Isn't, they said it\", 142)"
            ]
          },
          "metadata": {},
          "execution_count": 24
        }
      ]
    },
    {
      "cell_type": "code",
      "source": [
        "s= 'First line. Second line. Third Line'\n",
        "s"
      ],
      "metadata": {
        "colab": {
          "base_uri": "https://localhost:8080/",
          "height": 35
        },
        "id": "XmmZbqRkr8nZ",
        "outputId": "f1581a5b-0017-4591-c7d4-7223dd04109d"
      },
      "execution_count": null,
      "outputs": [
        {
          "output_type": "execute_result",
          "data": {
            "text/plain": [
              "'First line. Second line. Third Line'"
            ],
            "application/vnd.google.colaboratory.intrinsic+json": {
              "type": "string"
            }
          },
          "metadata": {},
          "execution_count": 28
        }
      ]
    },
    {
      "cell_type": "code",
      "source": [
        "print(s)"
      ],
      "metadata": {
        "colab": {
          "base_uri": "https://localhost:8080/"
        },
        "id": "iSfc8TkvVyZM",
        "outputId": "ab16f83d-376a-43a6-ddfd-97c9e949d509"
      },
      "execution_count": null,
      "outputs": [
        {
          "output_type": "stream",
          "name": "stdout",
          "text": [
            "First line. Second line. Third Line\n"
          ]
        }
      ]
    },
    {
      "cell_type": "code",
      "source": [
        "s='First line.\\nSecond line \\nThird Line' #\\n means a new line\n",
        "s #without using print()"
      ],
      "metadata": {
        "colab": {
          "base_uri": "https://localhost:8080/",
          "height": 36
        },
        "id": "_tisFIiDcBK1",
        "outputId": "c86f025d-6faf-46ed-d452-b31e72e8c4f5"
      },
      "execution_count": null,
      "outputs": [
        {
          "output_type": "execute_result",
          "data": {
            "text/plain": [
              "'First line.\\nSecond line \\nThird Line'"
            ],
            "application/vnd.google.colaboratory.intrinsic+json": {
              "type": "string"
            }
          },
          "metadata": {},
          "execution_count": 34
        }
      ]
    },
    {
      "cell_type": "code",
      "source": [
        "print(s) #using print shows the second line on a new line"
      ],
      "metadata": {
        "colab": {
          "base_uri": "https://localhost:8080/"
        },
        "id": "8DDeidzMccf5",
        "outputId": "f4e8baa4-5bb9-4e4f-92d5-cdbfd7171312"
      },
      "execution_count": null,
      "outputs": [
        {
          "output_type": "stream",
          "name": "stdout",
          "text": [
            "First line.\n",
            "Second line \n",
            "Third Line\n"
          ]
        }
      ]
    },
    {
      "cell_type": "code",
      "source": [
        "x='Today is my second day in the class introduction to Programming. \\nI hope to learn new things. \\nAfter class I am having Kebbab for lunch'\n"
      ],
      "metadata": {
        "id": "S0_UrSadNT2f"
      },
      "execution_count": null,
      "outputs": []
    },
    {
      "cell_type": "code",
      "source": [
        "x"
      ],
      "metadata": {
        "colab": {
          "base_uri": "https://localhost:8080/",
          "height": 36
        },
        "id": "tuQXzB9FJsqv",
        "outputId": "49da5c0c-dd5c-432a-a532-0459dd01bff3"
      },
      "execution_count": null,
      "outputs": [
        {
          "output_type": "execute_result",
          "data": {
            "text/plain": [
              "'Today is my second day in the class introduction to Programming. \\nI hope to learn new things. \\nAfter class I am having Kebbab for lunch'"
            ],
            "application/vnd.google.colaboratory.intrinsic+json": {
              "type": "string"
            }
          },
          "metadata": {},
          "execution_count": 38
        }
      ]
    },
    {
      "cell_type": "code",
      "source": [
        "print(x)"
      ],
      "metadata": {
        "colab": {
          "base_uri": "https://localhost:8080/"
        },
        "id": "4IaENwFMNxuN",
        "outputId": "4e13fea3-aaa2-415d-e319-59d90e0f59c4"
      },
      "execution_count": null,
      "outputs": [
        {
          "output_type": "stream",
          "name": "stdout",
          "text": [
            "Today is my second day in the class introduction to Programming. \n",
            "I hope to learn new things. \n",
            "After class I am having Kebbab for lunch\n"
          ]
        }
      ]
    },
    {
      "cell_type": "code",
      "source": [
        "s='I am learning python today,\\nI now feel like a programmer, \\n I have always wanted to write my own codes, \\n This module will give me the skills to do so.'"
      ],
      "metadata": {
        "id": "08K13M2JcnxC"
      },
      "execution_count": null,
      "outputs": []
    },
    {
      "cell_type": "code",
      "source": [
        "s"
      ],
      "metadata": {
        "id": "_zkFKa1OdBXS",
        "colab": {
          "base_uri": "https://localhost:8080/",
          "height": 52
        },
        "outputId": "90fe816c-6e5f-4bd2-fbc3-83f7f0e23b96"
      },
      "execution_count": null,
      "outputs": [
        {
          "output_type": "execute_result",
          "data": {
            "text/plain": [
              "'I am learning python today,\\nI now feel like a programmer, \\n I have always wanted to write my own codes, \\n This module will give me the skills to do so.'"
            ],
            "application/vnd.google.colaboratory.intrinsic+json": {
              "type": "string"
            }
          },
          "metadata": {},
          "execution_count": 64
        }
      ]
    },
    {
      "cell_type": "code",
      "source": [
        "print(s)"
      ],
      "metadata": {
        "id": "8WeNOVi2dCuV",
        "colab": {
          "base_uri": "https://localhost:8080/"
        },
        "outputId": "7d7b734a-86bc-42d4-9484-aac641441fd9"
      },
      "execution_count": null,
      "outputs": [
        {
          "output_type": "stream",
          "name": "stdout",
          "text": [
            "I am learning python today,\n",
            "I now feel like a programmer, \n",
            " I have always wanted to write my own codes, \n",
            " This module will give me the skills to do so.\n"
          ]
        }
      ]
    },
    {
      "cell_type": "markdown",
      "source": [
        "**Try an exercise, creating your own poem as above**"
      ],
      "metadata": {
        "id": "om9Niq5hdNDt"
      }
    },
    {
      "cell_type": "code",
      "source": [
        "print('C:\\some\\name line') #Note that name was cut to ame in the new line because \\n means new line"
      ],
      "metadata": {
        "id": "QW__aAySdTuP",
        "colab": {
          "base_uri": "https://localhost:8080/"
        },
        "outputId": "82682ccd-4bb2-49ec-c1ec-c722498cfd28"
      },
      "execution_count": null,
      "outputs": [
        {
          "output_type": "stream",
          "name": "stdout",
          "text": [
            "C:\\some\n",
            "ew line\n"
          ]
        }
      ]
    },
    {
      "cell_type": "code",
      "source": [
        "print(r'C:\\some\\name') # The r before the quote made it seem like a raw string"
      ],
      "metadata": {
        "id": "8qZUeYMPdx0f",
        "colab": {
          "base_uri": "https://localhost:8080/"
        },
        "outputId": "75368a7e-91e1-4ba8-9752-94dd66da6412"
      },
      "execution_count": null,
      "outputs": [
        {
          "output_type": "stream",
          "name": "stdout",
          "text": [
            "C:\\some\\name\n"
          ]
        }
      ]
    },
    {
      "cell_type": "code",
      "source": [
        "#String literals can span multiple lines, this can be done by using multiple quotes (triple-quotes)\n",
        "print (\"\"\"\\\n",
        "Usage: thingy [Options]\n",
        "      -h              Display this usage message\n",
        "      -H hostname     Hostname to connet to\n",
        "\"\"\")"
      ],
      "metadata": {
        "id": "e6qQ3YF7d9dl",
        "colab": {
          "base_uri": "https://localhost:8080/"
        },
        "outputId": "2266424e-684d-4c28-a08d-ac2de36a23e5"
      },
      "execution_count": null,
      "outputs": [
        {
          "output_type": "stream",
          "name": "stdout",
          "text": [
            "Usage: thingy [Options]\n",
            "      -h              Display this usage message\n",
            "      -H hostname     Hostname to connet to\n",
            "\n"
          ]
        }
      ]
    },
    {
      "cell_type": "markdown",
      "source": [
        "**String Concatenation**"
      ],
      "metadata": {
        "id": "j2QvYbL-uzx7"
      }
    },
    {
      "cell_type": "code",
      "source": [
        "#Strings can be concatenared with the + operator and repeated multiple times with the * operator\n",
        "3*'Alex'+3*'Victor'"
      ],
      "metadata": {
        "id": "_xvciCE9eoXF",
        "colab": {
          "base_uri": "https://localhost:8080/",
          "height": 35
        },
        "outputId": "d8ddbb49-daf3-4b49-8092-1a61d7cccd61"
      },
      "execution_count": null,
      "outputs": [
        {
          "output_type": "execute_result",
          "data": {
            "text/plain": [
              "'AlexAlexAlexVictorVictorVictor'"
            ],
            "application/vnd.google.colaboratory.intrinsic+json": {
              "type": "string"
            }
          },
          "metadata": {},
          "execution_count": 57
        }
      ]
    },
    {
      "cell_type": "code",
      "source": [
        "3*'hm'+'mmm'"
      ],
      "metadata": {
        "id": "gLp49mZVe-ID",
        "colab": {
          "base_uri": "https://localhost:8080/",
          "height": 35
        },
        "outputId": "c8667246-06e8-405f-d4b1-41bc6aa659e8"
      },
      "execution_count": null,
      "outputs": [
        {
          "output_type": "execute_result",
          "data": {
            "text/plain": [
              "'hmhmhmmmm'"
            ],
            "application/vnd.google.colaboratory.intrinsic+json": {
              "type": "string"
            }
          },
          "metadata": {},
          "execution_count": 58
        }
      ]
    },
    {
      "cell_type": "code",
      "source": [
        "3*'un'+'ium'"
      ],
      "metadata": {
        "id": "u1tmFZaGfCU8",
        "colab": {
          "base_uri": "https://localhost:8080/",
          "height": 35
        },
        "outputId": "f43dc878-15b3-422f-a65f-fac7b9e432e2"
      },
      "execution_count": null,
      "outputs": [
        {
          "output_type": "execute_result",
          "data": {
            "text/plain": [
              "'unununium'"
            ],
            "application/vnd.google.colaboratory.intrinsic+json": {
              "type": "string"
            }
          },
          "metadata": {},
          "execution_count": 98
        }
      ]
    },
    {
      "cell_type": "code",
      "source": [
        "# Two or more strings literals next tow each other are automatically concatenated"
      ],
      "metadata": {
        "id": "foPUom2QfFLI"
      },
      "execution_count": null,
      "outputs": []
    },
    {
      "cell_type": "code",
      "source": [
        "'Alex' 'ander'"
      ],
      "metadata": {
        "id": "gWmpmkGifOCb",
        "colab": {
          "base_uri": "https://localhost:8080/",
          "height": 35
        },
        "outputId": "2e32eea9-773b-4342-c9ea-46751da01e23"
      },
      "execution_count": null,
      "outputs": [
        {
          "output_type": "execute_result",
          "data": {
            "text/plain": [
              "'Alexander'"
            ],
            "application/vnd.google.colaboratory.intrinsic+json": {
              "type": "string"
            }
          },
          "metadata": {},
          "execution_count": 99
        }
      ]
    },
    {
      "cell_type": "code",
      "source": [
        "'Py' 'thon'"
      ],
      "metadata": {
        "id": "ZGTlhpjxfSDa",
        "colab": {
          "base_uri": "https://localhost:8080/",
          "height": 35
        },
        "outputId": "0c405b0e-ca5e-47d6-f54d-7d71e2c05bd9"
      },
      "execution_count": null,
      "outputs": [
        {
          "output_type": "execute_result",
          "data": {
            "text/plain": [
              "'Python'"
            ],
            "application/vnd.google.colaboratory.intrinsic+json": {
              "type": "string"
            }
          },
          "metadata": {},
          "execution_count": 100
        }
      ]
    },
    {
      "cell_type": "code",
      "source": [
        "'Te' 'chn' 'ica' 'lly'"
      ],
      "metadata": {
        "id": "93TPhDNjfWOm",
        "colab": {
          "base_uri": "https://localhost:8080/",
          "height": 35
        },
        "outputId": "2882b34b-2900-4cad-94d8-f412cffc72fa"
      },
      "execution_count": null,
      "outputs": [
        {
          "output_type": "execute_result",
          "data": {
            "text/plain": [
              "'Technically'"
            ],
            "application/vnd.google.colaboratory.intrinsic+json": {
              "type": "string"
            }
          },
          "metadata": {},
          "execution_count": 101
        }
      ]
    },
    {
      "cell_type": "code",
      "source": [
        "text=('we can put several str' 'ing within parenhesis to have them joined together')\n",
        "text"
      ],
      "metadata": {
        "id": "MZufo_vGfchz",
        "colab": {
          "base_uri": "https://localhost:8080/",
          "height": 35
        },
        "outputId": "428e1aba-cea0-4a90-a79d-2382edc63284"
      },
      "execution_count": null,
      "outputs": [
        {
          "output_type": "execute_result",
          "data": {
            "text/plain": [
              "'we can put several string within parenhesis to have them joined together'"
            ],
            "application/vnd.google.colaboratory.intrinsic+json": {
              "type": "string"
            }
          },
          "metadata": {},
          "execution_count": 103
        }
      ]
    },
    {
      "cell_type": "code",
      "source": [
        "s='Py' #Variable s and literals can be concatenated"
      ],
      "metadata": {
        "id": "cN08gHpuf2SF"
      },
      "execution_count": null,
      "outputs": []
    },
    {
      "cell_type": "code",
      "source": [
        "s+'thon'"
      ],
      "metadata": {
        "id": "9JQXywwuf5_X",
        "colab": {
          "base_uri": "https://localhost:8080/",
          "height": 35
        },
        "outputId": "77d21c4e-9143-4460-cb6a-fd3692091cfb"
      },
      "execution_count": null,
      "outputs": [
        {
          "output_type": "execute_result",
          "data": {
            "text/plain": [
              "'Python'"
            ],
            "application/vnd.google.colaboratory.intrinsic+json": {
              "type": "string"
            }
          },
          "metadata": {},
          "execution_count": 31
        }
      ]
    },
    {
      "cell_type": "code",
      "source": [
        "s+'ople'"
      ],
      "metadata": {
        "colab": {
          "base_uri": "https://localhost:8080/",
          "height": 35
        },
        "id": "7xUaTLKuT0Of",
        "outputId": "ce1412b4-4c5c-4bf4-ec84-a7805a5fd486"
      },
      "execution_count": null,
      "outputs": [
        {
          "output_type": "execute_result",
          "data": {
            "text/plain": [
              "'Pyople'"
            ],
            "application/vnd.google.colaboratory.intrinsic+json": {
              "type": "string"
            }
          },
          "metadata": {},
          "execution_count": 32
        }
      ]
    },
    {
      "cell_type": "code",
      "source": [
        "s+'ep'"
      ],
      "metadata": {
        "colab": {
          "base_uri": "https://localhost:8080/",
          "height": 35
        },
        "id": "-WORNYQ0T83V",
        "outputId": "d599c6bd-55a2-4ffa-d33b-e4116ad0ccfd"
      },
      "execution_count": null,
      "outputs": [
        {
          "output_type": "execute_result",
          "data": {
            "text/plain": [
              "'Pyep'"
            ],
            "application/vnd.google.colaboratory.intrinsic+json": {
              "type": "string"
            }
          },
          "metadata": {},
          "execution_count": 33
        }
      ]
    },
    {
      "cell_type": "code",
      "source": [
        "w='ep'"
      ],
      "metadata": {
        "id": "m4kTKNJbUAso"
      },
      "execution_count": null,
      "outputs": []
    },
    {
      "cell_type": "code",
      "source": [
        "s+w"
      ],
      "metadata": {
        "colab": {
          "base_uri": "https://localhost:8080/",
          "height": 35
        },
        "id": "ebx19CGHUEAp",
        "outputId": "50ffc075-ef2a-4890-a4ee-42ca788fef2b"
      },
      "execution_count": null,
      "outputs": [
        {
          "output_type": "execute_result",
          "data": {
            "text/plain": [
              "'Peep'"
            ],
            "application/vnd.google.colaboratory.intrinsic+json": {
              "type": "string"
            }
          },
          "metadata": {},
          "execution_count": 113
        }
      ]
    },
    {
      "cell_type": "code",
      "source": [
        "s+w+'ing'"
      ],
      "metadata": {
        "colab": {
          "base_uri": "https://localhost:8080/",
          "height": 35
        },
        "id": "wpF9z0AzUGGu",
        "outputId": "e88a281a-42a3-4583-f0b0-bad35dc92cf6"
      },
      "execution_count": null,
      "outputs": [
        {
          "output_type": "execute_result",
          "data": {
            "text/plain": [
              "'Peeping'"
            ],
            "application/vnd.google.colaboratory.intrinsic+json": {
              "type": "string"
            }
          },
          "metadata": {},
          "execution_count": 114
        }
      ]
    },
    {
      "cell_type": "markdown",
      "source": [
        "***String Indexing***"
      ],
      "metadata": {
        "id": "8-45oel-lCFx"
      }
    },
    {
      "cell_type": "code",
      "source": [
        "word='Python is an easy programming language'"
      ],
      "metadata": {
        "id": "u9rfrnodgGtf"
      },
      "execution_count": null,
      "outputs": []
    },
    {
      "cell_type": "code",
      "source": [
        "word[0] #This picks the second letter from the left"
      ],
      "metadata": {
        "id": "Nztf1vlJiNnz",
        "colab": {
          "base_uri": "https://localhost:8080/",
          "height": 36
        },
        "outputId": "859ac15b-4e35-46fd-dbfd-4166dd2ad4a3"
      },
      "execution_count": null,
      "outputs": [
        {
          "output_type": "execute_result",
          "data": {
            "text/plain": [
              "'P'"
            ],
            "application/vnd.google.colaboratory.intrinsic+json": {
              "type": "string"
            }
          },
          "metadata": {},
          "execution_count": 41
        }
      ]
    },
    {
      "cell_type": "code",
      "source": [
        "word[4] # This picks the third letter from the right. Recall that it starts counting from 0 not 1"
      ],
      "metadata": {
        "id": "mB92j0wNil4P",
        "colab": {
          "base_uri": "https://localhost:8080/",
          "height": 35
        },
        "outputId": "cc3ec950-d1a6-4684-e056-22152ccdd4af"
      },
      "execution_count": null,
      "outputs": [
        {
          "output_type": "execute_result",
          "data": {
            "text/plain": [
              "'o'"
            ],
            "application/vnd.google.colaboratory.intrinsic+json": {
              "type": "string"
            }
          },
          "metadata": {},
          "execution_count": 40
        }
      ]
    },
    {
      "cell_type": "code",
      "source": [
        "word[15:]"
      ],
      "metadata": {
        "colab": {
          "base_uri": "https://localhost:8080/",
          "height": 36
        },
        "id": "BxyuIhnoYc9x",
        "outputId": "0a441fc8-950c-4cbc-d0cb-10f63807c5aa"
      },
      "execution_count": null,
      "outputs": [
        {
          "output_type": "execute_result",
          "data": {
            "text/plain": [
              "'sy programming language'"
            ],
            "application/vnd.google.colaboratory.intrinsic+json": {
              "type": "string"
            }
          },
          "metadata": {},
          "execution_count": 42
        }
      ]
    },
    {
      "cell_type": "code",
      "source": [
        "word[:15]"
      ],
      "metadata": {
        "id": "opOCOpHGiQRP",
        "colab": {
          "base_uri": "https://localhost:8080/",
          "height": 35
        },
        "outputId": "186201aa-fb01-4008-8492-153b43d5d198"
      },
      "execution_count": null,
      "outputs": [
        {
          "output_type": "execute_result",
          "data": {
            "text/plain": [
              "'Python is an ea'"
            ],
            "application/vnd.google.colaboratory.intrinsic+json": {
              "type": "string"
            }
          },
          "metadata": {},
          "execution_count": 43
        }
      ]
    },
    {
      "cell_type": "code",
      "source": [
        "word[20] #If you pick a number position out of range you get and error message"
      ],
      "metadata": {
        "id": "mhxgehG_ic1y",
        "colab": {
          "base_uri": "https://localhost:8080/",
          "height": 35
        },
        "outputId": "c60b3d13-9bd8-4861-e766-14584c23b0c9"
      },
      "execution_count": null,
      "outputs": [
        {
          "output_type": "execute_result",
          "data": {
            "text/plain": [
              "'o'"
            ],
            "application/vnd.google.colaboratory.intrinsic+json": {
              "type": "string"
            }
          },
          "metadata": {},
          "execution_count": 45
        }
      ]
    },
    {
      "cell_type": "code",
      "source": [
        "word[-5]"
      ],
      "metadata": {
        "id": "RPi3EusijefC",
        "colab": {
          "base_uri": "https://localhost:8080/",
          "height": 35
        },
        "outputId": "0b39832a-79c7-4b1e-8da8-941d8d80a7d1"
      },
      "execution_count": null,
      "outputs": [
        {
          "output_type": "execute_result",
          "data": {
            "text/plain": [
              "'g'"
            ],
            "application/vnd.google.colaboratory.intrinsic+json": {
              "type": "string"
            }
          },
          "metadata": {},
          "execution_count": 126
        }
      ]
    },
    {
      "cell_type": "markdown",
      "source": [
        "***Slicing***"
      ],
      "metadata": {
        "id": "rFQP4IxHlHMX"
      }
    },
    {
      "cell_type": "code",
      "source": [
        "word[0:15] # Characters from position 0 (included) to 2 (excluded)"
      ],
      "metadata": {
        "colab": {
          "base_uri": "https://localhost:8080/",
          "height": 35
        },
        "id": "YIKfOkfZk9KW",
        "outputId": "40951db3-7e26-406e-e4ca-42bbe06c56fd"
      },
      "execution_count": null,
      "outputs": [
        {
          "output_type": "execute_result",
          "data": {
            "text/plain": [
              "'Python is an ea'"
            ],
            "application/vnd.google.colaboratory.intrinsic+json": {
              "type": "string"
            }
          },
          "metadata": {},
          "execution_count": 46
        }
      ]
    },
    {
      "cell_type": "code",
      "source": [
        "word[:15]"
      ],
      "metadata": {
        "colab": {
          "base_uri": "https://localhost:8080/",
          "height": 35
        },
        "id": "HYN1rxtjTkAP",
        "outputId": "36357cc6-346f-4795-de9e-2ce14c985632"
      },
      "execution_count": null,
      "outputs": [
        {
          "output_type": "execute_result",
          "data": {
            "text/plain": [
              "'Python is an ea'"
            ],
            "application/vnd.google.colaboratory.intrinsic+json": {
              "type": "string"
            }
          },
          "metadata": {},
          "execution_count": 47
        }
      ]
    },
    {
      "cell_type": "code",
      "source": [
        "word[2:15]"
      ],
      "metadata": {
        "colab": {
          "base_uri": "https://localhost:8080/",
          "height": 35
        },
        "id": "JngKF_OAlXZh",
        "outputId": "c04622fe-ace4-4c6a-c10a-8a483adcd7eb"
      },
      "execution_count": null,
      "outputs": [
        {
          "output_type": "execute_result",
          "data": {
            "text/plain": [
              "'thon is an ea'"
            ],
            "application/vnd.google.colaboratory.intrinsic+json": {
              "type": "string"
            }
          },
          "metadata": {},
          "execution_count": 48
        }
      ]
    },
    {
      "cell_type": "code",
      "source": [
        "word[:2] + word[2:]"
      ],
      "metadata": {
        "colab": {
          "base_uri": "https://localhost:8080/",
          "height": 36
        },
        "id": "11u99h9Qls7s",
        "outputId": "11638abd-49ca-4c6c-9c83-1549c3dd2067"
      },
      "execution_count": null,
      "outputs": [
        {
          "output_type": "execute_result",
          "data": {
            "text/plain": [
              "'Python is an easy programming language'"
            ],
            "application/vnd.google.colaboratory.intrinsic+json": {
              "type": "string"
            }
          },
          "metadata": {},
          "execution_count": 43
        }
      ]
    },
    {
      "cell_type": "markdown",
      "source": [
        "Always ensure that s[:i]+s[i:] is equal to s"
      ],
      "metadata": {
        "id": "aSnmX-7lmE71"
      }
    },
    {
      "cell_type": "code",
      "source": [
        "word[:3]+word[3:]"
      ],
      "metadata": {
        "colab": {
          "base_uri": "https://localhost:8080/",
          "height": 35
        },
        "id": "YzQOOqCjmCl3",
        "outputId": "a073e1ce-a2e4-4442-d1ca-292777a204b2"
      },
      "execution_count": null,
      "outputs": [
        {
          "output_type": "execute_result",
          "data": {
            "text/plain": [
              "'Python is an easy programming language'"
            ],
            "application/vnd.google.colaboratory.intrinsic+json": {
              "type": "string"
            }
          },
          "metadata": {},
          "execution_count": 50
        }
      ]
    },
    {
      "cell_type": "code",
      "source": [
        "word[:2]+word[3:]"
      ],
      "metadata": {
        "colab": {
          "base_uri": "https://localhost:8080/",
          "height": 36
        },
        "id": "dzXcVKuImL0y",
        "outputId": "91e04a6c-b7fd-4e7f-bd57-22bc46f6f211"
      },
      "execution_count": null,
      "outputs": [
        {
          "output_type": "execute_result",
          "data": {
            "text/plain": [
              "'Pyhon is an easy programming language'"
            ],
            "application/vnd.google.colaboratory.intrinsic+json": {
              "type": "string"
            }
          },
          "metadata": {},
          "execution_count": 44
        }
      ]
    },
    {
      "cell_type": "code",
      "source": [
        "word[:3]+word[1:]"
      ],
      "metadata": {
        "colab": {
          "base_uri": "https://localhost:8080/",
          "height": 35
        },
        "id": "nyYHTng2l0wp",
        "outputId": "b6bd53d5-8d73-4c14-fadf-7630d7bcb622"
      },
      "execution_count": null,
      "outputs": [
        {
          "output_type": "execute_result",
          "data": {
            "text/plain": [
              "'Pytython is an easy programming language'"
            ],
            "application/vnd.google.colaboratory.intrinsic+json": {
              "type": "string"
            }
          },
          "metadata": {},
          "execution_count": 52
        }
      ]
    },
    {
      "cell_type": "markdown",
      "source": [
        "**3. List**"
      ],
      "metadata": {
        "id": "04ro1m2Bmc2A"
      }
    },
    {
      "cell_type": "markdown",
      "source": [
        "Python can put a compound data together in form of list"
      ],
      "metadata": {
        "id": "IroRyeckmtu4"
      }
    },
    {
      "cell_type": "code",
      "source": [
        "squares = [2,5,3,19, 24]"
      ],
      "metadata": {
        "id": "lmC3_5AemyfD"
      },
      "execution_count": null,
      "outputs": []
    },
    {
      "cell_type": "code",
      "source": [
        "squares*2"
      ],
      "metadata": {
        "colab": {
          "base_uri": "https://localhost:8080/"
        },
        "id": "hx1I1zbRm25-",
        "outputId": "7b65436b-463c-4975-c9ec-3f9d8caafba2"
      },
      "execution_count": null,
      "outputs": [
        {
          "output_type": "execute_result",
          "data": {
            "text/plain": [
              "[2, 5, 3, 19, 24, 2, 5, 3, 19, 24]"
            ]
          },
          "metadata": {},
          "execution_count": 47
        }
      ]
    },
    {
      "cell_type": "code",
      "source": [
        "squares"
      ],
      "metadata": {
        "colab": {
          "base_uri": "https://localhost:8080/"
        },
        "id": "bJIztQxZm4f6",
        "outputId": "d8a57e00-aae2-4cc3-aadf-a2b83a1a64f5"
      },
      "execution_count": null,
      "outputs": [
        {
          "output_type": "execute_result",
          "data": {
            "text/plain": [
              "[2, 5, 3, 19, 24]"
            ]
          },
          "metadata": {},
          "execution_count": 59
        }
      ]
    },
    {
      "cell_type": "markdown",
      "source": [
        "***Indexing and Slicing List***"
      ],
      "metadata": {
        "id": "GQ0AaewNnBJl"
      }
    },
    {
      "cell_type": "code",
      "source": [
        "squares[3:]"
      ],
      "metadata": {
        "colab": {
          "base_uri": "https://localhost:8080/"
        },
        "id": "lkMwSuC0VAYm",
        "outputId": "e6bdfa34-16c8-4e1e-dd69-1771262c13eb"
      },
      "execution_count": null,
      "outputs": [
        {
          "output_type": "execute_result",
          "data": {
            "text/plain": [
              "[19, 24]"
            ]
          },
          "metadata": {},
          "execution_count": 48
        }
      ]
    },
    {
      "cell_type": "code",
      "source": [
        "squares [:2]+squares[3:]"
      ],
      "metadata": {
        "colab": {
          "base_uri": "https://localhost:8080/"
        },
        "id": "x-ZXadKBm-Mg",
        "outputId": "ca5e7c84-7a6c-49bf-ea92-6f0d722d4b50"
      },
      "execution_count": null,
      "outputs": [
        {
          "output_type": "execute_result",
          "data": {
            "text/plain": [
              "[2, 5, 19, 24]"
            ]
          },
          "metadata": {},
          "execution_count": 61
        }
      ]
    },
    {
      "cell_type": "code",
      "source": [
        "squares[2:5]"
      ],
      "metadata": {
        "colab": {
          "base_uri": "https://localhost:8080/"
        },
        "id": "xvhSqnTNnRiQ",
        "outputId": "03f00a48-485b-48dc-9850-65dd1e585002"
      },
      "execution_count": null,
      "outputs": [
        {
          "output_type": "execute_result",
          "data": {
            "text/plain": [
              "[3, 19, 24]"
            ]
          },
          "metadata": {},
          "execution_count": 62
        }
      ]
    },
    {
      "cell_type": "markdown",
      "source": [],
      "metadata": {
        "id": "GjFwL6q-tyOq"
      }
    },
    {
      "cell_type": "code",
      "source": [
        "squares[1:42]"
      ],
      "metadata": {
        "colab": {
          "base_uri": "https://localhost:8080/"
        },
        "id": "sywayqlOnT7R",
        "outputId": "a4df2d0c-53ce-4398-938f-0a76b0ff6a03"
      },
      "execution_count": null,
      "outputs": [
        {
          "output_type": "execute_result",
          "data": {
            "text/plain": [
              "[5, 3, 19, 24]"
            ]
          },
          "metadata": {},
          "execution_count": 49
        }
      ]
    },
    {
      "cell_type": "code",
      "source": [
        "squares[:42]"
      ],
      "metadata": {
        "colab": {
          "base_uri": "https://localhost:8080/"
        },
        "id": "VqlZeUWHnYEl",
        "outputId": "7b581d0b-8c51-4443-f304-7180f9df658d"
      },
      "execution_count": null,
      "outputs": [
        {
          "output_type": "execute_result",
          "data": {
            "text/plain": [
              "[2, 5, 3, 19, 24]"
            ]
          },
          "metadata": {},
          "execution_count": 50
        }
      ]
    },
    {
      "cell_type": "code",
      "source": [
        "squares[42:]"
      ],
      "metadata": {
        "colab": {
          "base_uri": "https://localhost:8080/"
        },
        "id": "pdzo6yFnnbQm",
        "outputId": "72bb1dbe-3b0c-498f-8817-6d39f2f07af3"
      },
      "execution_count": null,
      "outputs": [
        {
          "output_type": "execute_result",
          "data": {
            "text/plain": [
              "[]"
            ]
          },
          "metadata": {},
          "execution_count": 51
        }
      ]
    },
    {
      "cell_type": "code",
      "source": [
        "squares[-4]"
      ],
      "metadata": {
        "colab": {
          "base_uri": "https://localhost:8080/"
        },
        "id": "E0OWEDxHnefk",
        "outputId": "a3a0e737-5be4-42c0-9617-3edf88dfef6e"
      },
      "execution_count": null,
      "outputs": [
        {
          "output_type": "execute_result",
          "data": {
            "text/plain": [
              "5"
            ]
          },
          "metadata": {},
          "execution_count": 66
        }
      ]
    },
    {
      "cell_type": "code",
      "source": [
        "squares"
      ],
      "metadata": {
        "colab": {
          "base_uri": "https://localhost:8080/"
        },
        "id": "hRJEoN-y_k7B",
        "outputId": "da3502a6-130f-4d34-df6a-319b77c771ae"
      },
      "execution_count": null,
      "outputs": [
        {
          "output_type": "execute_result",
          "data": {
            "text/plain": [
              "[2, 5, 3, 19, 24]"
            ]
          },
          "metadata": {},
          "execution_count": 67
        }
      ]
    },
    {
      "cell_type": "code",
      "source": [
        "squares+[36,44,62,18,101] # List can support operations like concatenation"
      ],
      "metadata": {
        "colab": {
          "base_uri": "https://localhost:8080/"
        },
        "id": "GW9l5W4ZnhJJ",
        "outputId": "f5b4b754-ac3a-4aca-c279-42751a5ef070"
      },
      "execution_count": null,
      "outputs": [
        {
          "output_type": "execute_result",
          "data": {
            "text/plain": [
              "[2, 5, 3, 19, 24, 36, 44, 62, 18, 101]"
            ]
          },
          "metadata": {},
          "execution_count": 52
        }
      ]
    },
    {
      "cell_type": "code",
      "source": [
        "#The content of list can be changed/replace"
      ],
      "metadata": {
        "id": "Qt6KOtDxnn-h"
      },
      "execution_count": null,
      "outputs": []
    },
    {
      "cell_type": "code",
      "source": [
        "squares"
      ],
      "metadata": {
        "colab": {
          "base_uri": "https://localhost:8080/"
        },
        "id": "nx_3mw0Qax3t",
        "outputId": "981c848e-2780-4f5c-ca81-2f4a3e3ae761"
      },
      "execution_count": null,
      "outputs": [
        {
          "output_type": "execute_result",
          "data": {
            "text/plain": [
              "[2, 5, 3, 19, 24]"
            ]
          },
          "metadata": {},
          "execution_count": 53
        }
      ]
    },
    {
      "cell_type": "code",
      "source": [
        "squares[2]=12"
      ],
      "metadata": {
        "id": "D0YesFRcVwU_"
      },
      "execution_count": null,
      "outputs": []
    },
    {
      "cell_type": "code",
      "source": [
        "squares"
      ],
      "metadata": {
        "colab": {
          "base_uri": "https://localhost:8080/"
        },
        "id": "afQRj2ylVzxl",
        "outputId": "6abb8f92-86a3-44a3-cc60-44837138ba3f"
      },
      "execution_count": null,
      "outputs": [
        {
          "output_type": "execute_result",
          "data": {
            "text/plain": [
              "[2, 5, 12, 19, 24]"
            ]
          },
          "metadata": {},
          "execution_count": 55
        }
      ]
    },
    {
      "cell_type": "code",
      "source": [
        "squares[4]=4*4"
      ],
      "metadata": {
        "id": "_6ruVgoHn5lj"
      },
      "execution_count": null,
      "outputs": []
    },
    {
      "cell_type": "code",
      "source": [
        "squares"
      ],
      "metadata": {
        "colab": {
          "base_uri": "https://localhost:8080/"
        },
        "id": "I7xha5dZn-Qe",
        "outputId": "58675b43-b1fb-480e-f3e7-a7c106efb24c"
      },
      "execution_count": null,
      "outputs": [
        {
          "output_type": "execute_result",
          "data": {
            "text/plain": [
              "[2, 5, 12, 19, 16]"
            ]
          },
          "metadata": {},
          "execution_count": 57
        }
      ]
    },
    {
      "cell_type": "code",
      "source": [
        "s=4*17\n",
        "squares[2]=s\n",
        "squares"
      ],
      "metadata": {
        "colab": {
          "base_uri": "https://localhost:8080/"
        },
        "id": "XzobnVxqoDub",
        "outputId": "eb6c3ffe-79ad-47b2-9422-7048b90365f5"
      },
      "execution_count": null,
      "outputs": [
        {
          "output_type": "execute_result",
          "data": {
            "text/plain": [
              "[2, 5, 68, 19, 16]"
            ]
          },
          "metadata": {},
          "execution_count": 74
        }
      ]
    },
    {
      "cell_type": "code",
      "source": [
        "7*2"
      ],
      "metadata": {
        "colab": {
          "base_uri": "https://localhost:8080/"
        },
        "id": "9nqPEACUbmHy",
        "outputId": "8643d989-b609-42c3-d045-110c46f0fe1e"
      },
      "execution_count": null,
      "outputs": [
        {
          "output_type": "execute_result",
          "data": {
            "text/plain": [
              "14"
            ]
          },
          "metadata": {},
          "execution_count": 170
        }
      ]
    },
    {
      "cell_type": "code",
      "source": [
        "7**2"
      ],
      "metadata": {
        "id": "4chNcgK0boHJ",
        "outputId": "5bd8d1f1-4231-46f8-8578-fc1000f5c7fe",
        "colab": {
          "base_uri": "https://localhost:8080/"
        }
      },
      "execution_count": null,
      "outputs": [
        {
          "output_type": "execute_result",
          "data": {
            "text/plain": [
              "49"
            ]
          },
          "metadata": {},
          "execution_count": 169
        }
      ]
    },
    {
      "cell_type": "code",
      "source": [
        "squares"
      ],
      "metadata": {
        "colab": {
          "base_uri": "https://localhost:8080/"
        },
        "id": "_Nemfe4rWVdu",
        "outputId": "2321ac1d-75b0-4e53-df0c-e5d7bd5c10ce"
      },
      "execution_count": null,
      "outputs": [
        {
          "output_type": "execute_result",
          "data": {
            "text/plain": [
              "[2, 5, 68, 12, 16]"
            ]
          },
          "metadata": {},
          "execution_count": 171
        }
      ]
    },
    {
      "cell_type": "code",
      "source": [
        "#New items can be added at the end of a list by using append() method\n",
        "\n",
        "squares.append(225)\n",
        "squares.append(7**2) # the square of 7\n",
        "squares"
      ],
      "metadata": {
        "colab": {
          "base_uri": "https://localhost:8080/"
        },
        "id": "4hGnrvKAoVli",
        "outputId": "3f64e3ae-9552-49e2-b22f-0c7966f8731d"
      },
      "execution_count": null,
      "outputs": [
        {
          "output_type": "execute_result",
          "data": {
            "text/plain": [
              "[2, 5, 12, 19, 16, 225, 49]"
            ]
          },
          "metadata": {},
          "execution_count": 58
        }
      ]
    },
    {
      "cell_type": "markdown",
      "source": [
        "\n",
        "\n",
        "---\n",
        "\n"
      ],
      "metadata": {
        "id": "mv1EcgZnoxrA"
      }
    },
    {
      "cell_type": "markdown",
      "source": [
        "**First Steps Towards Programming**"
      ],
      "metadata": {
        "id": "_kRP4y9soyHE"
      }
    },
    {
      "cell_type": "markdown",
      "source": [
        "***4. While* Loops**"
      ],
      "metadata": {
        "id": "3DRAZC_Nvfci"
      }
    },
    {
      "cell_type": "code",
      "source": [
        "i=1\n",
        "while i<6:\n",
        "  print(i)  #Print i as long as i is less than 6\n",
        "  i+=1\n"
      ],
      "metadata": {
        "colab": {
          "base_uri": "https://localhost:8080/"
        },
        "id": "AjdeVLi6d5P-",
        "outputId": "2ac93814-414f-4a19-e73c-fb948fa6796b"
      },
      "execution_count": null,
      "outputs": [
        {
          "output_type": "stream",
          "name": "stdout",
          "text": [
            "1\n",
            "2\n",
            "3\n",
            "4\n",
            "5\n"
          ]
        }
      ]
    },
    {
      "cell_type": "code",
      "source": [
        "i=1\n",
        "while i<6:\n",
        "\n",
        "  i+=1\n",
        "  print(i)  #Print i as long as i is less than 6\n"
      ],
      "metadata": {
        "colab": {
          "base_uri": "https://localhost:8080/"
        },
        "id": "-6kFG41Uvqja",
        "outputId": "622e9f20-46c5-49b2-d998-c0ac8d344d01"
      },
      "execution_count": null,
      "outputs": [
        {
          "output_type": "stream",
          "name": "stdout",
          "text": [
            "2\n",
            "3\n",
            "4\n",
            "5\n",
            "6\n"
          ]
        }
      ]
    },
    {
      "cell_type": "markdown",
      "source": [
        "*Break statement*"
      ],
      "metadata": {
        "id": "cQK420anwOD1"
      }
    },
    {
      "cell_type": "code",
      "source": [
        "i=1  #Exit the loop when i is 3\n",
        "while i<6:\n",
        "  print(i)\n",
        "  if i==2:\n",
        "    break\n",
        "  i+=1"
      ],
      "metadata": {
        "colab": {
          "base_uri": "https://localhost:8080/"
        },
        "id": "e3Acvl7Yv_eo",
        "outputId": "42f7c4f3-cf6d-499d-835e-07f47e74edb1"
      },
      "execution_count": null,
      "outputs": [
        {
          "output_type": "stream",
          "name": "stdout",
          "text": [
            "1\n",
            "2\n"
          ]
        }
      ]
    },
    {
      "cell_type": "code",
      "source": [
        "i=1 #Exit the loop when i is greater than 9\n",
        "while i<11:\n",
        "  print(i)\n",
        "  if i>9:\n",
        "    break\n",
        "  i+=1"
      ],
      "metadata": {
        "colab": {
          "base_uri": "https://localhost:8080/"
        },
        "id": "PvnVLAP1wSCF",
        "outputId": "21fcac33-9bb1-4ab6-e1ca-3875b03c5cbf"
      },
      "execution_count": null,
      "outputs": [
        {
          "output_type": "stream",
          "name": "stdout",
          "text": [
            "1\n",
            "2\n",
            "3\n",
            "4\n",
            "5\n",
            "6\n",
            "7\n",
            "8\n",
            "9\n",
            "10\n"
          ]
        }
      ]
    },
    {
      "cell_type": "code",
      "source": [
        "i=0 #Continue to the next iteration if i is 3 (Skip 3)\n",
        "while i<6:\n",
        "  i+=1\n",
        "  if i==3:\n",
        "    continue\n",
        "  print(i)\n"
      ],
      "metadata": {
        "colab": {
          "base_uri": "https://localhost:8080/"
        },
        "id": "iQ6_PYJSwmw3",
        "outputId": "16da35ed-c5e1-4bf0-ca0b-f7bdcf57dad3"
      },
      "execution_count": null,
      "outputs": [
        {
          "output_type": "stream",
          "name": "stdout",
          "text": [
            "1\n",
            "2\n",
            "4\n",
            "5\n",
            "6\n"
          ]
        }
      ]
    },
    {
      "cell_type": "code",
      "source": [
        "i=1  #Print a message when the condition is false (exhausted)\n",
        "while i<6:\n",
        "  print(i)\n",
        "  i+=1\n",
        "else:\n",
        "  print(\" i is no longer less than 6\")"
      ],
      "metadata": {
        "colab": {
          "base_uri": "https://localhost:8080/"
        },
        "id": "8xGBWbs7w4zi",
        "outputId": "9e66f5a0-dacc-414c-8cc7-a010edb315fd"
      },
      "execution_count": null,
      "outputs": [
        {
          "output_type": "stream",
          "name": "stdout",
          "text": [
            "1\n",
            "2\n",
            "3\n",
            "4\n",
            "5\n",
            " i is no longer less than 6\n"
          ]
        }
      ]
    },
    {
      "cell_type": "markdown",
      "source": [
        "**The Fibonacci Series**"
      ],
      "metadata": {
        "id": "2L4Ej_FKo7-I"
      }
    },
    {
      "cell_type": "code",
      "source": [
        "a,b=0, 1\n",
        "while a<1000:\n",
        "    print(a, end=',')\n",
        "    a,b=b, a+b"
      ],
      "metadata": {
        "colab": {
          "base_uri": "https://localhost:8080/"
        },
        "id": "qvJgxojMrHXY",
        "outputId": "7076ff51-5f56-4852-b3e1-327035592d29"
      },
      "execution_count": null,
      "outputs": [
        {
          "output_type": "stream",
          "name": "stdout",
          "text": [
            "0,1,1,2,3,5,8,13,21,34,55,89,144,233,377,610,987,"
          ]
        }
      ]
    },
    {
      "cell_type": "markdown",
      "source": [
        "a=0, b=1, a+b=0+1=1|a=b, b=a+b|a=1, b=1, a+b=2|a=1, b=2, a+b=3|a=2, b=3, a+b=5|a=3, b=5, a+b=8|a=5, b=8, a+b=13\n"
      ],
      "metadata": {
        "id": "1N5wA5xHFss4"
      }
    },
    {
      "cell_type": "markdown",
      "source": [
        "**5. *if* Statements**"
      ],
      "metadata": {
        "id": "MYqysceir0Fs"
      }
    },
    {
      "cell_type": "code",
      "source": [
        "a=20\n",
        "b=200\n",
        "if a>b:\n",
        "  print(\"Clearly, a is greater than b\")\n",
        "elif a==b:\n",
        "  print(\"a equal to b\")\n",
        "elif a<b:\n",
        "  print(\"a is less than b\")"
      ],
      "metadata": {
        "colab": {
          "base_uri": "https://localhost:8080/"
        },
        "id": "82h0CK7YtKHz",
        "outputId": "bff0313d-7587-46d6-f2f0-8b0cedebb138"
      },
      "execution_count": null,
      "outputs": [
        {
          "output_type": "stream",
          "name": "stdout",
          "text": [
            "a is less than b\n"
          ]
        }
      ]
    },
    {
      "cell_type": "code",
      "source": [
        "a=12\n",
        "b=123\n",
        "if b>a:\n",
        "  print(\"b is greater than a\")\n",
        "elif a==b:\n",
        "  print(\"a and be are equal\")"
      ],
      "metadata": {
        "colab": {
          "base_uri": "https://localhost:8080/"
        },
        "id": "PIHPzkcatSAt",
        "outputId": "da51afdf-ffae-49ec-f6f4-a0797828a866"
      },
      "execution_count": null,
      "outputs": [
        {
          "output_type": "stream",
          "name": "stdout",
          "text": [
            "b is greater than a\n"
          ]
        }
      ]
    },
    {
      "cell_type": "code",
      "source": [
        "a=200\n",
        "b=33\n",
        "if b>a:\n",
        "  print(\"b is greater than a\")\n",
        "elif a==b:\n",
        "  print(\"a and b are equal\")\n",
        "else:\n",
        "  print(\"None of the conditions are true\")"
      ],
      "metadata": {
        "colab": {
          "base_uri": "https://localhost:8080/"
        },
        "id": "JFfw0-g0tjxt",
        "outputId": "ec3bba9f-f1ba-4b0c-a33b-a2f5a1a860f4"
      },
      "execution_count": null,
      "outputs": [
        {
          "output_type": "stream",
          "name": "stdout",
          "text": [
            "None of the conditions are true\n"
          ]
        }
      ]
    },
    {
      "cell_type": "code",
      "source": [
        "if b>a:\n",
        "  print (\"b is greater than a\")\n",
        "elif b==a:\n",
        "  print(\"b is equal to a\")\n",
        "else:\n",
        "  print(\"The class is over\")"
      ],
      "metadata": {
        "colab": {
          "base_uri": "https://localhost:8080/"
        },
        "id": "JUH0Kdvbt9M-",
        "outputId": "fe9bd515-ea58-4365-ff3a-51a01952aeca"
      },
      "execution_count": null,
      "outputs": [
        {
          "output_type": "stream",
          "name": "stdout",
          "text": [
            "The class is over\n"
          ]
        }
      ]
    },
    {
      "cell_type": "code",
      "source": [
        "a=200\n",
        "b=200"
      ],
      "metadata": {
        "id": "V9Rv5rspQgav"
      },
      "execution_count": null,
      "outputs": []
    },
    {
      "cell_type": "code",
      "source": [],
      "metadata": {
        "id": "LrBESW6U0MZm"
      },
      "execution_count": null,
      "outputs": []
    },
    {
      "cell_type": "code",
      "source": [
        "print(\"Green\") if a==b else print(\"Yellow\")"
      ],
      "metadata": {
        "colab": {
          "base_uri": "https://localhost:8080/"
        },
        "id": "YgjmsS2TuJXz",
        "outputId": "997cd069-7be1-4fc6-c133-436ae9f83343"
      },
      "execution_count": null,
      "outputs": [
        {
          "output_type": "stream",
          "name": "stdout",
          "text": [
            "Green\n"
          ]
        }
      ]
    },
    {
      "cell_type": "code",
      "source": [
        "print(\"Alexander\") if b>a else print(\"Victor\")"
      ],
      "metadata": {
        "colab": {
          "base_uri": "https://localhost:8080/"
        },
        "id": "6QPgbUeZuYQQ",
        "outputId": "76d264c7-856c-4420-d672-5234fe17f56d"
      },
      "execution_count": null,
      "outputs": [
        {
          "output_type": "stream",
          "name": "stdout",
          "text": [
            "Victor\n"
          ]
        }
      ]
    },
    {
      "cell_type": "code",
      "source": [
        "a=200\n",
        "b=330\n",
        "c=500\n",
        "if a>b and c>a:\n",
        "  print(\"Both conditions are true\")\n",
        "else:\n",
        "  print(\"The conditions is not satisfied\")"
      ],
      "metadata": {
        "colab": {
          "base_uri": "https://localhost:8080/"
        },
        "id": "p_MWaNdGukto",
        "outputId": "750835cb-2d48-4cec-ba61-0fa13ec50b4e"
      },
      "execution_count": null,
      "outputs": [
        {
          "output_type": "stream",
          "name": "stdout",
          "text": [
            "The conditions is not satisfied\n"
          ]
        }
      ]
    },
    {
      "cell_type": "code",
      "source": [
        "a=200\n",
        "b=33\n",
        "c=500\n",
        "if a>b and c>a:\n",
        "  print(\"At least one of the conditions are true\")\n",
        "else:\n",
        "  print(\"No condition is true\")"
      ],
      "metadata": {
        "colab": {
          "base_uri": "https://localhost:8080/"
        },
        "id": "nwzZloWKu0Dv",
        "outputId": "2be7914a-87dd-46e1-f03e-3322763d3baf"
      },
      "execution_count": null,
      "outputs": [
        {
          "output_type": "stream",
          "name": "stdout",
          "text": [
            "At least one of the conditions are true\n"
          ]
        }
      ]
    },
    {
      "cell_type": "code",
      "source": [
        "x=2\n",
        "if x < 3:\n",
        "  x=0\n",
        "  print('Negative changed to zero')\n",
        "elif x==0:\n",
        "  print('zero')\n",
        "elif x==2:\n",
        "  print('Single')\n",
        "else:\n",
        "  print('Anything else')"
      ],
      "metadata": {
        "colab": {
          "base_uri": "https://localhost:8080/"
        },
        "id": "fIcJYkI2sQZH",
        "outputId": "0deb7f6e-43ca-4fea-f3fe-1af5f52f1949"
      },
      "execution_count": null,
      "outputs": [
        {
          "output_type": "stream",
          "name": "stdout",
          "text": [
            "Negative changed to zero\n"
          ]
        }
      ]
    },
    {
      "cell_type": "code",
      "source": [
        "x=23 #Keep changing values of x and run it to see the output\n",
        "if x>10:\n",
        "  print(\"Above ten,\")\n",
        "  if x>20:\n",
        "    print(\"and also above 20!\")\n",
        "  else:\n",
        "    print(\"but not above 20.\")"
      ],
      "metadata": {
        "colab": {
          "base_uri": "https://localhost:8080/"
        },
        "id": "JEG25uwKu76n",
        "outputId": "6fef181c-7732-4d0f-810a-78fb1d779d32"
      },
      "execution_count": null,
      "outputs": [
        {
          "output_type": "stream",
          "name": "stdout",
          "text": [
            "Above ten,\n",
            "and also above 20!\n"
          ]
        }
      ]
    },
    {
      "cell_type": "markdown",
      "source": [
        "**6. *for* Statements**"
      ],
      "metadata": {
        "id": "-0544cBcyQRH"
      }
    },
    {
      "cell_type": "code",
      "source": [
        "words=['cat','window', 'technical']\n",
        "for i in words:\n",
        "  print(i)"
      ],
      "metadata": {
        "colab": {
          "base_uri": "https://localhost:8080/"
        },
        "id": "7PuKg2m3vVK2",
        "outputId": "090c2452-2fc4-44ab-e397-c8edcd4f87a9"
      },
      "execution_count": null,
      "outputs": [
        {
          "output_type": "stream",
          "name": "stdout",
          "text": [
            "cat\n",
            "window\n",
            "technical\n"
          ]
        }
      ]
    },
    {
      "cell_type": "code",
      "source": [
        "fruits=['apple', 'banana', 'cherry'] #Loops through the variable fruits and prints each fruit with their character length\n",
        "for x in fruits:\n",
        "  print(x, len(x))"
      ],
      "metadata": {
        "colab": {
          "base_uri": "https://localhost:8080/"
        },
        "id": "ZkCs2q8wyuYR",
        "outputId": "6cad40ed-9c59-4978-eb76-cde7c94ced63"
      },
      "execution_count": null,
      "outputs": [
        {
          "output_type": "stream",
          "name": "stdout",
          "text": [
            "apple 5\n",
            "banana 6\n",
            "cherry 6\n"
          ]
        }
      ]
    },
    {
      "cell_type": "code",
      "source": [
        "fruits=['apple', 'banana', 'cherry'] #Loops through the variable fruits and prints each fruit\n",
        "for x in fruits:\n",
        "  print(x)"
      ],
      "metadata": {
        "colab": {
          "base_uri": "https://localhost:8080/"
        },
        "id": "mRGeIAOhy5Xh",
        "outputId": "7d3e7f92-1324-4604-d797-68a2c10171ed"
      },
      "execution_count": null,
      "outputs": [
        {
          "output_type": "stream",
          "name": "stdout",
          "text": [
            "apple\n",
            "banana\n",
            "cherry\n"
          ]
        }
      ]
    },
    {
      "cell_type": "code",
      "source": [
        "s=[2,43,5,78,5,3,3]\n",
        "for x in s: #Loops through the letters in the word \"banana\"\n",
        "  print(x)"
      ],
      "metadata": {
        "colab": {
          "base_uri": "https://localhost:8080/"
        },
        "id": "DKHvyZJby9fp",
        "outputId": "777f401d-73d5-4e8f-8fe8-0d1056f658c9"
      },
      "execution_count": null,
      "outputs": [
        {
          "output_type": "stream",
          "name": "stdout",
          "text": [
            "2\n",
            "43\n",
            "5\n",
            "78\n",
            "5\n",
            "3\n",
            "3\n"
          ]
        }
      ]
    },
    {
      "cell_type": "code",
      "source": [
        "fruit=\"banana\"\n",
        "for x in fruit:\n",
        "  print(x)"
      ],
      "metadata": {
        "colab": {
          "base_uri": "https://localhost:8080/"
        },
        "id": "Pf7-0PMfzG4L",
        "outputId": "2b11a314-da06-416e-834f-f958ff8796d9"
      },
      "execution_count": null,
      "outputs": [
        {
          "output_type": "stream",
          "name": "stdout",
          "text": [
            "b\n",
            "a\n",
            "n\n",
            "a\n",
            "n\n",
            "a\n"
          ]
        }
      ]
    },
    {
      "cell_type": "markdown",
      "source": [
        "break statement"
      ],
      "metadata": {
        "id": "Q1wVXidszflw"
      }
    },
    {
      "cell_type": "code",
      "source": [
        "fruits=['apple', 'banana', 'cherry'] #Exits the loop when x is banana\n",
        "for x in fruits:\n",
        "  print(x)\n",
        "  if x==\"banana\":\n",
        "    break"
      ],
      "metadata": {
        "colab": {
          "base_uri": "https://localhost:8080/"
        },
        "id": "DG4LYl8Uzg-g",
        "outputId": "614d2a74-9f06-4c07-9786-1cb60801a8fe"
      },
      "execution_count": null,
      "outputs": [
        {
          "output_type": "stream",
          "name": "stdout",
          "text": [
            "apple\n",
            "banana\n"
          ]
        }
      ]
    },
    {
      "cell_type": "code",
      "source": [
        "fruits=['apple', 'banana', 'cherry'] #Exits the loop when x is banana and breaks before the print\n",
        "for x in fruits:\n",
        "  if x==\"banana\":\n",
        "    break\n",
        "  print(x)"
      ],
      "metadata": {
        "colab": {
          "base_uri": "https://localhost:8080/"
        },
        "id": "KVnhbD_6zvBg",
        "outputId": "f26bd6c7-3997-4c7a-fbf4-a32f4749cabe"
      },
      "execution_count": null,
      "outputs": [
        {
          "output_type": "stream",
          "name": "stdout",
          "text": [
            "apple\n"
          ]
        }
      ]
    },
    {
      "cell_type": "markdown",
      "source": [
        "continue statement"
      ],
      "metadata": {
        "id": "G1I4QWUA0I9b"
      }
    },
    {
      "cell_type": "code",
      "source": [
        "fruits=['apple', 'banana', 'cherry'] #Do not print banana\n",
        "for x in fruits:\n",
        "  if x==\"banana\":\n",
        "    continue\n",
        "  print(x)"
      ],
      "metadata": {
        "colab": {
          "base_uri": "https://localhost:8080/"
        },
        "id": "sr_UGTpF0ID6",
        "outputId": "d8266789-9b4f-4b19-e8a1-941299426f8a"
      },
      "execution_count": null,
      "outputs": [
        {
          "output_type": "stream",
          "name": "stdout",
          "text": [
            "apple\n",
            "cherry\n"
          ]
        }
      ]
    },
    {
      "cell_type": "markdown",
      "source": [
        "The range() function"
      ],
      "metadata": {
        "id": "e1ts3_Fr0eJS"
      }
    },
    {
      "cell_type": "code",
      "source": [
        "for x in range(6):  #Starts with 0 and increment by 1 and ends at the specific range\n",
        "  print(x)"
      ],
      "metadata": {
        "colab": {
          "base_uri": "https://localhost:8080/"
        },
        "id": "nkM91zUm0c_8",
        "outputId": "892aa4b7-6371-4c7e-dadb-2e2cf43af96b"
      },
      "execution_count": null,
      "outputs": [
        {
          "output_type": "stream",
          "name": "stdout",
          "text": [
            "0\n",
            "1\n",
            "2\n",
            "3\n",
            "4\n",
            "5\n"
          ]
        }
      ]
    },
    {
      "cell_type": "code",
      "source": [
        "for i in range(4):\n",
        "  print(i)"
      ],
      "metadata": {
        "colab": {
          "base_uri": "https://localhost:8080/"
        },
        "id": "TOj94DH_0r_D",
        "outputId": "950cc4d8-cce5-425b-c444-038702a61cc8"
      },
      "execution_count": null,
      "outputs": [
        {
          "output_type": "stream",
          "name": "stdout",
          "text": [
            "0\n",
            "1\n",
            "2\n",
            "3\n"
          ]
        }
      ]
    },
    {
      "cell_type": "code",
      "source": [
        "for x in range(2,6): #Starts with 2 but not including 6\n",
        "  print(x)"
      ],
      "metadata": {
        "colab": {
          "base_uri": "https://localhost:8080/"
        },
        "id": "BoB54Ctu0xP4",
        "outputId": "6b498c6e-035c-4581-fd71-3701e062f9da"
      },
      "execution_count": null,
      "outputs": [
        {
          "output_type": "stream",
          "name": "stdout",
          "text": [
            "2\n",
            "3\n",
            "4\n",
            "5\n"
          ]
        }
      ]
    },
    {
      "cell_type": "code",
      "source": [
        "for i in range(2,30,3): #Starts with 2, increment by 3 and less than 30\n",
        "  print(i)"
      ],
      "metadata": {
        "colab": {
          "base_uri": "https://localhost:8080/"
        },
        "id": "qfigCwJN1CS5",
        "outputId": "22640731-c019-4e62-b125-bf70e8c8390a"
      },
      "execution_count": null,
      "outputs": [
        {
          "output_type": "stream",
          "name": "stdout",
          "text": [
            "2\n",
            "5\n",
            "8\n",
            "11\n",
            "14\n",
            "17\n",
            "20\n",
            "23\n",
            "26\n",
            "29\n"
          ]
        }
      ]
    },
    {
      "cell_type": "markdown",
      "source": [
        "*Else* in *For* Loop"
      ],
      "metadata": {
        "id": "3i076Qsz1OXR"
      }
    },
    {
      "cell_type": "code",
      "source": [
        "for x in range(6):\n",
        "  print(x)\n",
        "else:\n",
        "  print(\"The end!\")"
      ],
      "metadata": {
        "colab": {
          "base_uri": "https://localhost:8080/"
        },
        "id": "9gSGe_W51UfB",
        "outputId": "9cae0db9-086f-4f66-d700-7b182c5a87bc"
      },
      "execution_count": null,
      "outputs": [
        {
          "output_type": "stream",
          "name": "stdout",
          "text": [
            "0\n",
            "1\n",
            "2\n",
            "3\n",
            "4\n",
            "5\n",
            "The end!\n"
          ]
        }
      ]
    },
    {
      "cell_type": "code",
      "source": [
        "for x in range(8):\n",
        "  if x==8:\n",
        "    break\n",
        "  print(x)\n",
        "else:\n",
        "  print(\"Finally finished\")"
      ],
      "metadata": {
        "colab": {
          "base_uri": "https://localhost:8080/"
        },
        "id": "pY9TKDW_1hfD",
        "outputId": "c6ef8937-0a05-4093-f04f-6df41c060be7"
      },
      "execution_count": null,
      "outputs": [
        {
          "output_type": "stream",
          "name": "stdout",
          "text": [
            "0\n",
            "1\n",
            "2\n",
            "3\n",
            "4\n",
            "5\n",
            "6\n",
            "7\n",
            "Finally finished\n"
          ]
        }
      ]
    },
    {
      "cell_type": "markdown",
      "source": [
        "Nested Loops"
      ],
      "metadata": {
        "id": "vQfY75q81ozJ"
      }
    },
    {
      "cell_type": "code",
      "source": [
        "adj=[\"red\",\"big\",\"tasty\", \"fresh\"]\n",
        "fruits=[\"apple\",\"banana\",\"cherry\"]\n",
        "prices=[2,3,4,5,6,7]\n",
        "\n",
        "for x in adj:\n",
        "  for y in fruits:\n",
        "    for z in prices:\n",
        "\n",
        "      print(x,y,z)"
      ],
      "metadata": {
        "colab": {
          "base_uri": "https://localhost:8080/"
        },
        "id": "QTo1hG1w2NCY",
        "outputId": "8ed831b2-1b2e-40c1-d946-d9c8a1c1fde0"
      },
      "execution_count": null,
      "outputs": [
        {
          "output_type": "stream",
          "name": "stdout",
          "text": [
            "red apple 2\n",
            "red apple 3\n",
            "red apple 4\n",
            "red apple 5\n",
            "red apple 6\n",
            "red apple 7\n",
            "red banana 2\n",
            "red banana 3\n",
            "red banana 4\n",
            "red banana 5\n",
            "red banana 6\n",
            "red banana 7\n",
            "red cherry 2\n",
            "red cherry 3\n",
            "red cherry 4\n",
            "red cherry 5\n",
            "red cherry 6\n",
            "red cherry 7\n",
            "big apple 2\n",
            "big apple 3\n",
            "big apple 4\n",
            "big apple 5\n",
            "big apple 6\n",
            "big apple 7\n",
            "big banana 2\n",
            "big banana 3\n",
            "big banana 4\n",
            "big banana 5\n",
            "big banana 6\n",
            "big banana 7\n",
            "big cherry 2\n",
            "big cherry 3\n",
            "big cherry 4\n",
            "big cherry 5\n",
            "big cherry 6\n",
            "big cherry 7\n",
            "tasty apple 2\n",
            "tasty apple 3\n",
            "tasty apple 4\n",
            "tasty apple 5\n",
            "tasty apple 6\n",
            "tasty apple 7\n",
            "tasty banana 2\n",
            "tasty banana 3\n",
            "tasty banana 4\n",
            "tasty banana 5\n",
            "tasty banana 6\n",
            "tasty banana 7\n",
            "tasty cherry 2\n",
            "tasty cherry 3\n",
            "tasty cherry 4\n",
            "tasty cherry 5\n",
            "tasty cherry 6\n",
            "tasty cherry 7\n",
            "fresh apple 2\n",
            "fresh apple 3\n",
            "fresh apple 4\n",
            "fresh apple 5\n",
            "fresh apple 6\n",
            "fresh apple 7\n",
            "fresh banana 2\n",
            "fresh banana 3\n",
            "fresh banana 4\n",
            "fresh banana 5\n",
            "fresh banana 6\n",
            "fresh banana 7\n",
            "fresh cherry 2\n",
            "fresh cherry 3\n",
            "fresh cherry 4\n",
            "fresh cherry 5\n",
            "fresh cherry 6\n",
            "fresh cherry 7\n"
          ]
        }
      ]
    },
    {
      "cell_type": "code",
      "source": [
        "adj=[\"red\",\"big\",\"tasty\"]\n",
        "fruits=[\"apple\",\"banana\",\"cherry\"]\n",
        "\n",
        "for x in adj:\n",
        "  for y in fruits:\n",
        "    print(x,  y, len(x), len(y))"
      ],
      "metadata": {
        "colab": {
          "base_uri": "https://localhost:8080/"
        },
        "id": "XFRH4I7i2H-D",
        "outputId": "a5dd7d16-3fcf-4ba4-e47e-d8de894290dd"
      },
      "execution_count": null,
      "outputs": [
        {
          "output_type": "stream",
          "name": "stdout",
          "text": [
            "red apple 3 5\n",
            "red banana 3 6\n",
            "red cherry 3 6\n",
            "big apple 3 5\n",
            "big banana 3 6\n",
            "big cherry 3 6\n",
            "tasty apple 5 5\n",
            "tasty banana 5 6\n",
            "tasty cherry 5 6\n"
          ]
        }
      ]
    },
    {
      "cell_type": "code",
      "source": [
        "adj=[\"red\",\"big\",\"tasty\"]\n",
        "fruits=[\"apple\",\"banana\",\"cherry\"]\n",
        "\n",
        "for x in adj:\n",
        "  for y in fruits:\n",
        "    print(x, len(x), y, len(y))"
      ],
      "metadata": {
        "colab": {
          "base_uri": "https://localhost:8080/"
        },
        "id": "4zObjKeF1ob6",
        "outputId": "63f41596-68bd-4504-c954-2f7579df5bfa"
      },
      "execution_count": null,
      "outputs": [
        {
          "output_type": "stream",
          "name": "stdout",
          "text": [
            "red 3 apple 5\n",
            "red 3 banana 6\n",
            "red 3 cherry 6\n",
            "big 3 apple 5\n",
            "big 3 banana 6\n",
            "big 3 cherry 6\n",
            "tasty 5 apple 5\n",
            "tasty 5 banana 6\n",
            "tasty 5 cherry 6\n"
          ]
        }
      ]
    },
    {
      "cell_type": "code",
      "source": [
        "a=['Mary','had','a','little','lamb']\n",
        "for i in range(len(a)):\n",
        "  print(i,a[i])"
      ],
      "metadata": {
        "colab": {
          "base_uri": "https://localhost:8080/"
        },
        "id": "KD8uGjXU2nTw",
        "outputId": "3f99dc00-d189-4502-f356-9fc8c16c9d8b"
      },
      "execution_count": null,
      "outputs": [
        {
          "output_type": "stream",
          "name": "stdout",
          "text": [
            "0 Mary\n",
            "1 had\n",
            "2 a\n",
            "3 little\n",
            "4 lamb\n"
          ]
        }
      ]
    },
    {
      "cell_type": "code",
      "source": [
        "for n in range(2,20):\n",
        "  for x in range(2,n):\n",
        "    if n % x==0:\n",
        "      print(n, 'equals', x, '*', n//x)\n",
        "      break\n",
        "\n",
        "  else:\n",
        "    #Loop fell through without finding a factor/multiple\n",
        "    print(n, 'is a prime number')"
      ],
      "metadata": {
        "colab": {
          "base_uri": "https://localhost:8080/"
        },
        "id": "OaiaXT6b3E8d",
        "outputId": "661de1cc-6f69-40fd-9328-6388186dce17"
      },
      "execution_count": null,
      "outputs": [
        {
          "output_type": "stream",
          "name": "stdout",
          "text": [
            "2 is a prime number\n",
            "3 is a prime number\n",
            "4 equals 2 * 2\n",
            "5 is a prime number\n",
            "6 equals 2 * 3\n",
            "7 is a prime number\n",
            "8 equals 2 * 4\n",
            "9 equals 3 * 3\n",
            "10 equals 2 * 5\n",
            "11 is a prime number\n",
            "12 equals 2 * 6\n",
            "13 is a prime number\n",
            "14 equals 2 * 7\n",
            "15 equals 3 * 5\n",
            "16 equals 2 * 8\n",
            "17 is a prime number\n",
            "18 equals 2 * 9\n",
            "19 is a prime number\n"
          ]
        }
      ]
    },
    {
      "cell_type": "markdown",
      "source": [
        "**Defining Functions**"
      ],
      "metadata": {
        "id": "CrnXAGiq4XA5"
      }
    },
    {
      "cell_type": "markdown",
      "source": [
        "Defining the Fibonacci series"
      ],
      "metadata": {
        "id": "tiR1uA1e4dTb"
      }
    },
    {
      "cell_type": "code",
      "source": [
        "PI = 3.14159\n",
        "\n",
        "def calculate_area(radius):\n",
        "    area = PI * radius**2\n",
        "    return area\n",
        "\n",
        "radius = 5\n",
        "area = calculate_area(radius)\n",
        "print(f\"The area of the circle is {area}\")"
      ],
      "metadata": {
        "colab": {
          "base_uri": "https://localhost:8080/"
        },
        "id": "V1HvxYbm-_CB",
        "outputId": "68294c75-592f-4ce9-c5c8-5dc1bdc21b56"
      },
      "execution_count": null,
      "outputs": [
        {
          "output_type": "stream",
          "name": "stdout",
          "text": [
            "The area of the circle is 78.53975\n"
          ]
        }
      ]
    },
    {
      "cell_type": "code",
      "source": [
        "def fib(n):\n",
        "  a,b=0,1\n",
        "  while a<n:\n",
        "    print(a, end=' ')\n",
        "    a,b=b,a+b\n",
        "  print()"
      ],
      "metadata": {
        "id": "3fcJW_6_4WJa"
      },
      "execution_count": null,
      "outputs": []
    },
    {
      "cell_type": "markdown",
      "source": [
        "Now call the \"fib\" function we just defined and use it as you please"
      ],
      "metadata": {
        "id": "nPVvTg0c4y96"
      }
    },
    {
      "cell_type": "code",
      "source": [
        "fib(1000)\n"
      ],
      "metadata": {
        "colab": {
          "base_uri": "https://localhost:8080/"
        },
        "id": "7CckSDoo4wl5",
        "outputId": "f67fb4ad-4a54-40bf-a77b-472e680018d3"
      },
      "execution_count": null,
      "outputs": [
        {
          "output_type": "stream",
          "name": "stdout",
          "text": [
            "0 1 1 2 3 5 8 13 21 34 55 89 144 233 377 610 987 \n"
          ]
        }
      ]
    },
    {
      "cell_type": "code",
      "source": [
        "fib(2000)"
      ],
      "metadata": {
        "colab": {
          "base_uri": "https://localhost:8080/"
        },
        "id": "QHET9qrB45L7",
        "outputId": "56ec1672-0cb3-4eab-e362-ca8815f7a613"
      },
      "execution_count": null,
      "outputs": [
        {
          "output_type": "stream",
          "name": "stdout",
          "text": [
            "0 1 1 2 3 5 8 13 21 34 55 89 144 233 377 610 987 1597 \n"
          ]
        }
      ]
    },
    {
      "cell_type": "code",
      "source": [
        "fib(10)"
      ],
      "metadata": {
        "colab": {
          "base_uri": "https://localhost:8080/"
        },
        "id": "Ygpu91Bw47Dm",
        "outputId": "c74ef2be-7cd6-4108-aea0-2c186a07b7da"
      },
      "execution_count": null,
      "outputs": [
        {
          "output_type": "stream",
          "name": "stdout",
          "text": [
            "0 1 1 2 3 5 8 \n"
          ]
        }
      ]
    },
    {
      "cell_type": "code",
      "source": [
        "fib"
      ],
      "metadata": {
        "colab": {
          "base_uri": "https://localhost:8080/",
          "height": 103
        },
        "id": "k1OpXd4F5CVF",
        "outputId": "b76f82a6-cf94-4dae-8fed-6c024c3a599d"
      },
      "execution_count": null,
      "outputs": [
        {
          "output_type": "execute_result",
          "data": {
            "text/plain": [
              "<function __main__.fib(n)>"
            ],
            "text/html": [
              "<div style=\"max-width:800px; border: 1px solid var(--colab-border-color);\"><style>\n",
              "      pre.function-repr-contents {\n",
              "        overflow-x: auto;\n",
              "        padding: 8px 12px;\n",
              "        max-height: 500px;\n",
              "      }\n",
              "\n",
              "      pre.function-repr-contents.function-repr-contents-collapsed {\n",
              "        cursor: pointer;\n",
              "        max-height: 100px;\n",
              "      }\n",
              "    </style>\n",
              "    <pre style=\"white-space: initial; background:\n",
              "         var(--colab-secondary-surface-color); padding: 8px 12px;\n",
              "         border-bottom: 1px solid var(--colab-border-color);\"><b>fib</b><br/>def fib(n)</pre><pre class=\"function-repr-contents function-repr-contents-collapsed\" style=\"\"><a class=\"filepath\" style=\"display:none\" href=\"#\">/content/&lt;ipython-input-22-dc80abfbb2ad&gt;</a>&lt;no docstring&gt;</pre></div>"
            ]
          },
          "metadata": {},
          "execution_count": 26
        }
      ]
    },
    {
      "cell_type": "code",
      "source": [
        "f=fib\n",
        "f(1000)"
      ],
      "metadata": {
        "colab": {
          "base_uri": "https://localhost:8080/"
        },
        "id": "3tXq7Z2G5GG2",
        "outputId": "f3c0c97f-cdf9-4393-bc4f-c05d7e4984de"
      },
      "execution_count": null,
      "outputs": [
        {
          "output_type": "stream",
          "name": "stdout",
          "text": [
            "0 1 1 2 3 5 8 13 21 34 55 89 144 233 377 610 987 \n"
          ]
        }
      ]
    },
    {
      "cell_type": "code",
      "source": [
        "fib(0)\n",
        "print(fib(0))"
      ],
      "metadata": {
        "id": "ArIeMY2L5KQ2",
        "outputId": "1daac0a8-5be5-4016-9275-d6e86a185c21",
        "colab": {
          "base_uri": "https://localhost:8080/"
        }
      },
      "execution_count": null,
      "outputs": [
        {
          "output_type": "stream",
          "name": "stdout",
          "text": [
            "\n",
            "\n",
            "None\n"
          ]
        }
      ]
    },
    {
      "cell_type": "markdown",
      "source": [
        "**Default Argument Values**"
      ],
      "metadata": {
        "id": "J96uqGKw6O-_"
      }
    },
    {
      "cell_type": "markdown",
      "source": [
        "The most useful form is to specify a default value for one or more arguments. This creates a function that\n",
        "can be called with fewer arguments than it is defined to allow. For example:\n"
      ],
      "metadata": {
        "id": "Ul41Ipyu7P1P"
      }
    },
    {
      "cell_type": "code",
      "source": [
        "def ask_ok(prompt, retries=4, reminder='Please try again later'):\n",
        "  while True:\n",
        "    ok=input(prompt)\n",
        "    if ok in ('y', 'ye', 'yes'):\n",
        "      return True\n",
        "    if ok in ('n', 'no', 'nop', 'nope'):\n",
        "      return False\n",
        "    retries = retries - 1\n",
        "    if retries < 0:\n",
        "      raise ValueError('invalid user response')\n",
        "\n",
        "    print(reminder)\n",
        "response=ask_ok(\"Do you want to continue (Y/N):\")\n",
        "print(f\"User response: {response}\")"
      ],
      "metadata": {
        "id": "yu38n-4t6Kni",
        "colab": {
          "base_uri": "https://localhost:8080/"
        },
        "outputId": "64d2a3bb-6d0b-408c-b90e-953962c983fb"
      },
      "execution_count": null,
      "outputs": [
        {
          "output_type": "stream",
          "name": "stdout",
          "text": [
            "Do you want to continue (Y/N):e\n",
            "Please try again later\n",
            "Do you want to continue (Y/N):w\n",
            "Please try again later\n",
            "Do you want to continue (Y/N):y\n",
            "User response: True\n"
          ]
        }
      ]
    },
    {
      "cell_type": "markdown",
      "source": [
        "This function can be called in several ways:\n",
        "*   giving only the mandatory argument: ask_ok('Do you really want to quit?')\n",
        "*   giving one of the optional arguments: ask_ok('OK to overwrite the file?', 2)\n",
        "*   or even giving all arguments: ask_ok('OK to overwrite the file?', 2, 'Come on, only yes or\n",
        "no!')\n",
        "This example also introduces the in keyword. This tests whether or not a sequence contains a certain value."
      ],
      "metadata": {
        "id": "eEh0Qr_z7Uwu"
      }
    },
    {
      "cell_type": "markdown",
      "source": [
        "**Keyword Arguments**"
      ],
      "metadata": {
        "id": "sC9hjP1k8mvQ"
      }
    },
    {
      "cell_type": "markdown",
      "source": [
        "Functions can also be called using keyword arguments of the form kwarg=value. For instance, the following\n",
        "function:\n"
      ],
      "metadata": {
        "id": "5qe0X6Mk8u1L"
      }
    },
    {
      "cell_type": "code",
      "source": [
        "def parrot(voltage, state='a stiff', action='voom', type='Norwegian Blue'):\n",
        "  print(\"-- This parrot wouldn't\", action, end=' ')\n",
        "  print(\"if you put\", voltage, \"volts through it.\")\n",
        "  print(\"-- Lovely plumage, the\", type)\n",
        "  print(\"-- It's\", state, \"!\")"
      ],
      "metadata": {
        "id": "dMfJ1vdS8v17"
      },
      "execution_count": null,
      "outputs": []
    },
    {
      "cell_type": "markdown",
      "source": [
        "accepts one required argument (voltage) and three optional arguments (state, action, and type). This\n",
        "function can be called in any of the following ways:"
      ],
      "metadata": {
        "id": "5uATQAzR86Zq"
      }
    },
    {
      "cell_type": "code",
      "source": [
        "parrot(1000) # 1 positional argument\n",
        "parrot(voltage=1000) # 1 keyword argument\n",
        "parrot(voltage=1000000, action='VOOOOOM') # 2 keyword arguments\n",
        "parrot(action='VOOOOOM', voltage=1000000) # 2 keyword arguments\n",
        "parrot('a million', 'bereft of life', 'jump') # 3 positional arguments\n",
        "parrot('a thousand', state='pushing up the daisies') # 1 positional, 1 keyword"
      ],
      "metadata": {
        "colab": {
          "base_uri": "https://localhost:8080/"
        },
        "id": "aoO0ezBw897R",
        "outputId": "bff554fd-dc02-4364-9a2f-3bc898c5f8c2"
      },
      "execution_count": null,
      "outputs": [
        {
          "output_type": "stream",
          "name": "stdout",
          "text": [
            "-- This parrot wouldn't voom if you put 1000 volts through it.\n",
            "-- Lovely plumage, the Norwegian Blue\n",
            "-- It's a stiff !\n",
            "-- This parrot wouldn't voom if you put 1000 volts through it.\n",
            "-- Lovely plumage, the Norwegian Blue\n",
            "-- It's a stiff !\n",
            "-- This parrot wouldn't VOOOOOM if you put 1000000 volts through it.\n",
            "-- Lovely plumage, the Norwegian Blue\n",
            "-- It's a stiff !\n",
            "-- This parrot wouldn't VOOOOOM if you put 1000000 volts through it.\n",
            "-- Lovely plumage, the Norwegian Blue\n",
            "-- It's a stiff !\n",
            "-- This parrot wouldn't jump if you put a million volts through it.\n",
            "-- Lovely plumage, the Norwegian Blue\n",
            "-- It's bereft of life !\n",
            "-- This parrot wouldn't voom if you put a thousand volts through it.\n",
            "-- Lovely plumage, the Norwegian Blue\n",
            "-- It's pushing up the daisies !\n"
          ]
        }
      ]
    },
    {
      "cell_type": "markdown",
      "source": [
        "**Another Example**"
      ],
      "metadata": {
        "id": "0uAIC7L69v3a"
      }
    },
    {
      "cell_type": "code",
      "source": [
        "def cheeseshop(kind, *arguments, **keywords):\n",
        "  print(\"-- Do you have any\", kind, \"?\")\n",
        "  print(\"-- I'm sorry, we're all out of\", kind)\n",
        "  for arg in arguments:\n",
        "    print(arg)\n",
        "  print(\"-\" * 40)\n",
        "  for kw in keywords:\n",
        "    print(kw, \":\", keywords[kw])"
      ],
      "metadata": {
        "id": "vKVy8FEC95Aw"
      },
      "execution_count": null,
      "outputs": []
    },
    {
      "cell_type": "markdown",
      "source": [
        "It could be called like this:"
      ],
      "metadata": {
        "id": "VIy5kIaa-OFz"
      }
    },
    {
      "cell_type": "code",
      "source": [
        "cheeseshop(\"Limburger\", \"It's very runny, sir.\",\n",
        "\"It's really very, VERY runny, sir.\",\n",
        "shopkeeper=\"Michael Palin\",\n",
        "client=\"John Cleese\",\n",
        "sketch=\"Cheese Shop Sketch\")"
      ],
      "metadata": {
        "colab": {
          "base_uri": "https://localhost:8080/"
        },
        "id": "D4xi7qzM-D-J",
        "outputId": "f0f36825-9827-4155-885f-e9a8ea06175e"
      },
      "execution_count": null,
      "outputs": [
        {
          "output_type": "stream",
          "name": "stdout",
          "text": [
            "-- Do you have any Limburger ?\n",
            "-- I'm sorry, we're all out of Limburger\n",
            "It's very runny, sir.\n",
            "It's really very, VERY runny, sir.\n",
            "----------------------------------------\n",
            "shopkeeper : Michael Palin\n",
            "client : John Cleese\n",
            "sketch : Cheese Shop Sketch\n"
          ]
        }
      ]
    },
    {
      "cell_type": "markdown",
      "source": [
        "**Arbitrary Arguments Lists**"
      ],
      "metadata": {
        "id": "XddCIzz--ZrJ"
      }
    },
    {
      "cell_type": "markdown",
      "source": [
        "Finally, the least frequently used option is to specify that a function can be called with an arbitrary number\n",
        "of arguments. These arguments will be wrapped up in a tuple. Before the\n",
        "variable number of arguments, zero or more normal arguments may occur."
      ],
      "metadata": {
        "id": "_G0Ha2ZQ-oog"
      }
    },
    {
      "cell_type": "code",
      "source": [
        "def write_multiple_items(file, separator, *args):\n",
        "  file.write(separator.join(args))"
      ],
      "metadata": {
        "id": "Ik5Zcrmu-RwR"
      },
      "execution_count": null,
      "outputs": []
    },
    {
      "cell_type": "markdown",
      "source": [
        "Normally, these variadic arguments will be last in the list of formal parameters, because they scoop up\n",
        "all remaining input arguments that are passed to the function."
      ],
      "metadata": {
        "id": "hLQ_nstv-u1u"
      }
    },
    {
      "cell_type": "code",
      "source": [
        "def concat(*args, sep=\"/\"):\n",
        "  return sep.join(args)"
      ],
      "metadata": {
        "id": "AIzvpog-8MhF"
      },
      "execution_count": null,
      "outputs": []
    },
    {
      "cell_type": "code",
      "source": [
        "concat(\"earth\", \"mars\", \"venues\")"
      ],
      "metadata": {
        "colab": {
          "base_uri": "https://localhost:8080/",
          "height": 35
        },
        "id": "a-pUKb0H8bjb",
        "outputId": "5302c8bb-2b8d-4d9b-c64b-71865d9e6e91"
      },
      "execution_count": null,
      "outputs": [
        {
          "output_type": "execute_result",
          "data": {
            "text/plain": [
              "'earth/mars/venues'"
            ],
            "application/vnd.google.colaboratory.intrinsic+json": {
              "type": "string"
            }
          },
          "metadata": {},
          "execution_count": 9
        }
      ]
    },
    {
      "cell_type": "code",
      "source": [
        "concat(\"earth\", \"mars\", \"venues\", sep=\".\")"
      ],
      "metadata": {
        "colab": {
          "base_uri": "https://localhost:8080/",
          "height": 35
        },
        "id": "qSTkx3L8-25X",
        "outputId": "084ec88d-cd06-4bb1-9f78-f6bebb5ef31c"
      },
      "execution_count": null,
      "outputs": [
        {
          "output_type": "execute_result",
          "data": {
            "text/plain": [
              "'earth.mars.venues'"
            ],
            "application/vnd.google.colaboratory.intrinsic+json": {
              "type": "string"
            }
          },
          "metadata": {},
          "execution_count": 10
        }
      ]
    },
    {
      "cell_type": "markdown",
      "source": [
        "**Lambda Expressions**"
      ],
      "metadata": {
        "id": "K1jlRdzjJ2tO"
      }
    },
    {
      "cell_type": "markdown",
      "source": [
        "Lambda functions can be used wherever function objects are required.\n",
        "They are syntactically restricted to a single expression."
      ],
      "metadata": {
        "id": "N59p3tSNKZCQ"
      }
    },
    {
      "cell_type": "code",
      "source": [
        "def make_increments(n):\n",
        "  return lambda x:x+n\n"
      ],
      "metadata": {
        "id": "Q4dvdNiUJ2Gx"
      },
      "execution_count": null,
      "outputs": []
    },
    {
      "cell_type": "code",
      "source": [
        "f=make_increments(42)"
      ],
      "metadata": {
        "id": "gE5U7eHAc0I3"
      },
      "execution_count": null,
      "outputs": []
    },
    {
      "cell_type": "code",
      "source": [
        "f(3)"
      ],
      "metadata": {
        "colab": {
          "base_uri": "https://localhost:8080/"
        },
        "id": "bDHuw7s6KLSY",
        "outputId": "44a99c88-f048-47fe-8877-84719cb9568d"
      },
      "execution_count": null,
      "outputs": [
        {
          "output_type": "execute_result",
          "data": {
            "text/plain": [
              "45"
            ]
          },
          "metadata": {},
          "execution_count": 85
        }
      ]
    },
    {
      "cell_type": "code",
      "source": [
        "f(100)"
      ],
      "metadata": {
        "colab": {
          "base_uri": "https://localhost:8080/"
        },
        "id": "6-XkQ5TkKNEM",
        "outputId": "25c5d7b0-304c-4da2-aebb-73ce823deab0"
      },
      "execution_count": null,
      "outputs": [
        {
          "output_type": "execute_result",
          "data": {
            "text/plain": [
              "142"
            ]
          },
          "metadata": {},
          "execution_count": 86
        }
      ]
    },
    {
      "cell_type": "code",
      "source": [
        "f(-26)"
      ],
      "metadata": {
        "colab": {
          "base_uri": "https://localhost:8080/"
        },
        "id": "YjCzgaQtc6nJ",
        "outputId": "c6dc3c45-875a-4015-852a-af387189d8f2"
      },
      "execution_count": null,
      "outputs": [
        {
          "output_type": "execute_result",
          "data": {
            "text/plain": [
              "16"
            ]
          },
          "metadata": {},
          "execution_count": 87
        }
      ]
    },
    {
      "cell_type": "markdown",
      "source": [
        "**Input and Output**"
      ],
      "metadata": {
        "id": "R0MTkE0vK0bm"
      }
    },
    {
      "cell_type": "markdown",
      "source": [
        "To use formating strings literals, beign a string with f or F before opening quatation mark or triple quotation marks."
      ],
      "metadata": {
        "id": "faAiKxscLDqt"
      }
    },
    {
      "cell_type": "code",
      "source": [
        "year=2024; event=\"Constitutional Review\"\n",
        "f'Results of the {year} {event}'\n",
        "print(\"Results of the\", year, event)"
      ],
      "metadata": {
        "colab": {
          "base_uri": "https://localhost:8080/"
        },
        "id": "jwoSpv0sK3EP",
        "outputId": "376587a9-1813-44b5-afc0-e9168470bfdb"
      },
      "execution_count": null,
      "outputs": [
        {
          "output_type": "stream",
          "name": "stdout",
          "text": [
            "Results of the 2024 Constitutional Review\n"
          ]
        }
      ]
    },
    {
      "cell_type": "code",
      "source": [
        "name=\"Jason\"; activity=\"Loves to write python program\"; frequency=\"24/7\"\n",
        "f'There is a student called {name} who {activity} {frequency}'"
      ],
      "metadata": {
        "colab": {
          "base_uri": "https://localhost:8080/",
          "height": 35
        },
        "id": "Thnl5DX9LjPw",
        "outputId": "5d19651a-c7a5-4990-bd31-f88ab5dc5540"
      },
      "execution_count": null,
      "outputs": [
        {
          "output_type": "execute_result",
          "data": {
            "text/plain": [
              "'There is a student called Jason who Loves to write python program 24/7'"
            ],
            "application/vnd.google.colaboratory.intrinsic+json": {
              "type": "string"
            }
          },
          "metadata": {},
          "execution_count": 7
        }
      ]
    },
    {
      "cell_type": "markdown",
      "source": [
        "**Manuel String Formatting**"
      ],
      "metadata": {
        "id": "x8r3SuaJMPZe"
      }
    },
    {
      "cell_type": "code",
      "source": [
        "for x in range (1,11):\n",
        "  print(repr(x).rjust(2), repr(x*x).rjust(3), end='')\n",
        "  print(repr(x*x*x).rjust(4))"
      ],
      "metadata": {
        "colab": {
          "base_uri": "https://localhost:8080/"
        },
        "id": "GK6XcqLUMTF8",
        "outputId": "561ba4b6-1e60-41d5-ad00-b45d40575c39"
      },
      "execution_count": null,
      "outputs": [
        {
          "output_type": "stream",
          "name": "stdout",
          "text": [
            " 1   1   1\n",
            " 2   4   8\n",
            " 3   9  27\n",
            " 4  16  64\n",
            " 5  25 125\n",
            " 6  36 216\n",
            " 7  49 343\n",
            " 8  64 512\n",
            " 9  81 729\n",
            "10 1001000\n"
          ]
        }
      ]
    },
    {
      "cell_type": "markdown",
      "source": [
        "**Reading and Writing Files**"
      ],
      "metadata": {
        "id": "-o3ysJI2Njj-"
      }
    },
    {
      "cell_type": "markdown",
      "source": [
        "The first argument is a string containing the filename. The second argument is another string containing a\n",
        "few characters describing the way in which the file will be used. mode can be 'r' when the file will only\n",
        "be read, 'w' for only writing (an existing file with the same name will be erased), and 'a' opens the file\n",
        "for appending; any data written to the file is automatically added to the end. 'r+' opens the file for both\n",
        "reading and writing."
      ],
      "metadata": {
        "id": "uQNonNxaOCyX"
      }
    },
    {
      "cell_type": "code",
      "source": [
        "f=open('workfile', 'w')"
      ],
      "metadata": {
        "id": "qpYgzIQJNkX2"
      },
      "execution_count": null,
      "outputs": []
    },
    {
      "cell_type": "code",
      "source": [
        "f=open('workfile', 'r')"
      ],
      "metadata": {
        "id": "CBvfzI2yNw22"
      },
      "execution_count": null,
      "outputs": []
    },
    {
      "cell_type": "code",
      "source": [
        "with open('workfile') as f:\n",
        "  read_data=f.read()"
      ],
      "metadata": {
        "id": "BM6XOYcLOQuw"
      },
      "execution_count": null,
      "outputs": []
    },
    {
      "cell_type": "code",
      "source": [
        "f.closed"
      ],
      "metadata": {
        "colab": {
          "base_uri": "https://localhost:8080/"
        },
        "id": "zVRPHU6bOaWJ",
        "outputId": "9a553082-fecb-497f-b6a7-d13685cbefc5"
      },
      "execution_count": null,
      "outputs": [
        {
          "output_type": "execute_result",
          "data": {
            "text/plain": [
              "True"
            ]
          },
          "metadata": {},
          "execution_count": 13
        }
      ]
    },
    {
      "cell_type": "markdown",
      "source": [
        "**NumPy Basics: Arrays and Vectorized Computation**"
      ],
      "metadata": {
        "id": "GTG8m0BdQHrc"
      }
    },
    {
      "cell_type": "markdown",
      "source": [],
      "metadata": {
        "id": "IBnfJuxKQSkM"
      }
    },
    {
      "cell_type": "code",
      "source": [
        "import numpy as np\n"
      ],
      "metadata": {
        "id": "3S05jC2uOdDy"
      },
      "execution_count": null,
      "outputs": []
    },
    {
      "cell_type": "code",
      "source": [
        "my_array=np.arange(1_000_000)"
      ],
      "metadata": {
        "id": "JEtIzZTnQ-II"
      },
      "execution_count": null,
      "outputs": []
    },
    {
      "cell_type": "code",
      "source": [
        "my_array"
      ],
      "metadata": {
        "colab": {
          "base_uri": "https://localhost:8080/"
        },
        "id": "MV5LMNMyRFE7",
        "outputId": "fbf0bda4-01d4-40f7-ae0e-ded50e105af6"
      },
      "execution_count": null,
      "outputs": [
        {
          "output_type": "execute_result",
          "data": {
            "text/plain": [
              "array([     0,      1,      2, ..., 999997, 999998, 999999])"
            ]
          },
          "metadata": {},
          "execution_count": 3
        }
      ]
    },
    {
      "cell_type": "code",
      "source": [
        "my_list=list(range(1_000_000))"
      ],
      "metadata": {
        "id": "jZXD14MZRH1I"
      },
      "execution_count": null,
      "outputs": []
    },
    {
      "cell_type": "markdown",
      "source": [
        "**The NumPy ndarray: A multidimensional array object**"
      ],
      "metadata": {
        "id": "D8jHwEGHRYDi"
      }
    },
    {
      "cell_type": "markdown",
      "source": [
        "One of the key features of NumPy is its N-dimensional array object, or ndarray,\n",
        "which is a fast, flexible container for large datasets in Python. Arrays enable you to\n",
        "perform mathematical operations on whole blocks of data using similar syntax to the\n",
        "equivalent operations between scalar eleme"
      ],
      "metadata": {
        "id": "VmmCGQmoRfwO"
      }
    },
    {
      "cell_type": "code",
      "source": [
        "import numpy as np\n",
        "data=np.array([[1.5, -0.1,3],[0,-3,6.5]])\n",
        "data"
      ],
      "metadata": {
        "colab": {
          "base_uri": "https://localhost:8080/"
        },
        "id": "V5A41H7nRP7K",
        "outputId": "915fc354-ffd6-4330-98ba-a9e749c983ca"
      },
      "execution_count": null,
      "outputs": [
        {
          "output_type": "execute_result",
          "data": {
            "text/plain": [
              "array([[ 1.5, -0.1,  3. ],\n",
              "       [ 0. , -3. ,  6.5]])"
            ]
          },
          "metadata": {},
          "execution_count": 113
        }
      ]
    },
    {
      "cell_type": "code",
      "source": [
        "data*5"
      ],
      "metadata": {
        "colab": {
          "base_uri": "https://localhost:8080/"
        },
        "id": "dqB3iaMPRw1C",
        "outputId": "984c000b-17c9-40fe-d3a4-fc7a188784a6"
      },
      "execution_count": null,
      "outputs": [
        {
          "output_type": "execute_result",
          "data": {
            "text/plain": [
              "array([[  7.5,  -0.5,  15. ],\n",
              "       [  0. , -15. ,  32.5]])"
            ]
          },
          "metadata": {},
          "execution_count": 114
        }
      ]
    },
    {
      "cell_type": "code",
      "source": [
        "data/4"
      ],
      "metadata": {
        "colab": {
          "base_uri": "https://localhost:8080/"
        },
        "id": "F6VsZe7yRzGC",
        "outputId": "b7af4555-7d80-45ad-8f98-287f060c504a"
      },
      "execution_count": null,
      "outputs": [
        {
          "output_type": "execute_result",
          "data": {
            "text/plain": [
              "array([[ 0.375, -0.025,  0.75 ],\n",
              "       [ 0.   , -0.75 ,  1.625]])"
            ]
          },
          "metadata": {},
          "execution_count": 115
        }
      ]
    },
    {
      "cell_type": "code",
      "source": [
        "data"
      ],
      "metadata": {
        "colab": {
          "base_uri": "https://localhost:8080/"
        },
        "id": "FnmttPc3fgic",
        "outputId": "8f9af447-4598-498a-a8bc-949dea365651"
      },
      "execution_count": null,
      "outputs": [
        {
          "output_type": "execute_result",
          "data": {
            "text/plain": [
              "array([[ 1.5, -0.1,  3. ],\n",
              "       [ 0. , -3. ,  6.5]])"
            ]
          },
          "metadata": {},
          "execution_count": 118
        }
      ]
    },
    {
      "cell_type": "code",
      "source": [
        "data2=np.array([[2,-0.5,6.1],[2.1,0,0.75]])\n",
        "data2"
      ],
      "metadata": {
        "colab": {
          "base_uri": "https://localhost:8080/"
        },
        "id": "W_JZpAy8R182",
        "outputId": "8d212b01-4e17-431c-f911-3bd9f3ce3b26"
      },
      "execution_count": null,
      "outputs": [
        {
          "output_type": "execute_result",
          "data": {
            "text/plain": [
              "array([[ 2.  , -0.5 ,  6.1 ],\n",
              "       [ 2.1 ,  0.  ,  0.75]])"
            ]
          },
          "metadata": {},
          "execution_count": 116
        }
      ]
    },
    {
      "cell_type": "code",
      "source": [
        "data+data2"
      ],
      "metadata": {
        "colab": {
          "base_uri": "https://localhost:8080/"
        },
        "id": "aC_YTHBmR_Vf",
        "outputId": "74355ec2-2663-4dab-9a98-a1efde088e42"
      },
      "execution_count": null,
      "outputs": [
        {
          "output_type": "execute_result",
          "data": {
            "text/plain": [
              "array([[ 3.5 , -0.6 ,  9.1 ],\n",
              "       [ 2.1 , -3.  ,  7.25]])"
            ]
          },
          "metadata": {},
          "execution_count": 117
        }
      ]
    },
    {
      "cell_type": "code",
      "source": [
        "data1=data+data2\n",
        "data"
      ],
      "metadata": {
        "colab": {
          "base_uri": "https://localhost:8080/"
        },
        "id": "OZVf6ypZSBpE",
        "outputId": "71551dce-58ba-45f9-cbdd-db55d0d42d7f"
      },
      "execution_count": null,
      "outputs": [
        {
          "output_type": "execute_result",
          "data": {
            "text/plain": [
              "array([[ 1.5, -0.1,  3. ],\n",
              "       [ 0. , -3. ,  6.5]])"
            ]
          },
          "metadata": {},
          "execution_count": 119
        }
      ]
    },
    {
      "cell_type": "code",
      "source": [
        "datas=data+data1+data2\n",
        "datas"
      ],
      "metadata": {
        "colab": {
          "base_uri": "https://localhost:8080/"
        },
        "id": "zlqobg34SmLX",
        "outputId": "8283f5f7-ef30-4c97-85a6-f6978a3742d0"
      },
      "execution_count": null,
      "outputs": [
        {
          "output_type": "execute_result",
          "data": {
            "text/plain": [
              "array([[ 7. , -1.2, 18.2],\n",
              "       [ 4.2, -6. , 14.5]])"
            ]
          },
          "metadata": {},
          "execution_count": 120
        }
      ]
    },
    {
      "cell_type": "code",
      "source": [
        "data.shape"
      ],
      "metadata": {
        "colab": {
          "base_uri": "https://localhost:8080/"
        },
        "id": "QMBzQy0MTD94",
        "outputId": "37062f5b-5fc9-4041-a19e-8db1c5210780"
      },
      "execution_count": null,
      "outputs": [
        {
          "output_type": "execute_result",
          "data": {
            "text/plain": [
              "(2, 3)"
            ]
          },
          "metadata": {},
          "execution_count": 121
        }
      ]
    },
    {
      "cell_type": "markdown",
      "source": [
        "**Creating ndarrays**"
      ],
      "metadata": {
        "id": "GF7GtC6zTOF3"
      }
    },
    {
      "cell_type": "code",
      "source": [
        "data_new=[6,7.5,8,0,1]\n",
        "arr1=np.array(data_new)"
      ],
      "metadata": {
        "id": "alqJAivWTRrX"
      },
      "execution_count": null,
      "outputs": []
    },
    {
      "cell_type": "code",
      "source": [
        "arr1"
      ],
      "metadata": {
        "colab": {
          "base_uri": "https://localhost:8080/"
        },
        "id": "tHTDfvaNTzt-",
        "outputId": "97a467ff-cb7d-4890-cfcc-bef9a20cd1d6"
      },
      "execution_count": null,
      "outputs": [
        {
          "output_type": "execute_result",
          "data": {
            "text/plain": [
              "array([6. , 7.5, 8. , 0. , 1. ])"
            ]
          },
          "metadata": {},
          "execution_count": 123
        }
      ]
    },
    {
      "cell_type": "markdown",
      "source": [
        "Nested sequences, like a list of equal-length lists, will be converted into a multidimen‐\n",
        "sional array:"
      ],
      "metadata": {
        "id": "PE4SUzn6UUJb"
      }
    },
    {
      "cell_type": "code",
      "source": [
        "data2=[[1,2,3,4],[5,6,7,8]]\n",
        "arr2=np.array(data2)"
      ],
      "metadata": {
        "id": "gNktjUMIUVPc"
      },
      "execution_count": null,
      "outputs": []
    },
    {
      "cell_type": "code",
      "source": [
        "arr2"
      ],
      "metadata": {
        "colab": {
          "base_uri": "https://localhost:8080/"
        },
        "id": "4FYPBCP2Ugnq",
        "outputId": "60378055-53cc-41af-b0b8-34a9c19ec6e5"
      },
      "execution_count": null,
      "outputs": [
        {
          "output_type": "execute_result",
          "data": {
            "text/plain": [
              "array([[1, 2, 3, 4],\n",
              "       [5, 6, 7, 8]])"
            ]
          },
          "metadata": {},
          "execution_count": 40
        }
      ]
    },
    {
      "cell_type": "code",
      "source": [
        " np.zeros(10)"
      ],
      "metadata": {
        "colab": {
          "base_uri": "https://localhost:8080/"
        },
        "id": "dmIo-CyTVJKK",
        "outputId": "2c24e2fb-9b4f-4674-8ebb-de7dbeb90cfe"
      },
      "execution_count": null,
      "outputs": [
        {
          "output_type": "execute_result",
          "data": {
            "text/plain": [
              "array([0., 0., 0., 0., 0., 0., 0., 0., 0., 0.])"
            ]
          },
          "metadata": {},
          "execution_count": 41
        }
      ]
    },
    {
      "cell_type": "code",
      "source": [
        "np.zeros((3,6))"
      ],
      "metadata": {
        "colab": {
          "base_uri": "https://localhost:8080/"
        },
        "id": "y0QvmlDiVOJN",
        "outputId": "190c42e9-a718-428d-dd43-f7339c5e57a4"
      },
      "execution_count": null,
      "outputs": [
        {
          "output_type": "execute_result",
          "data": {
            "text/plain": [
              "array([[0., 0., 0., 0., 0., 0.],\n",
              "       [0., 0., 0., 0., 0., 0.],\n",
              "       [0., 0., 0., 0., 0., 0.]])"
            ]
          },
          "metadata": {},
          "execution_count": 43
        }
      ]
    },
    {
      "cell_type": "code",
      "source": [
        "np.empty((2,3,2))"
      ],
      "metadata": {
        "colab": {
          "base_uri": "https://localhost:8080/"
        },
        "id": "77haDlV6Ve5_",
        "outputId": "11001df4-b179-47e7-ea62-fa3544527304"
      },
      "execution_count": null,
      "outputs": [
        {
          "output_type": "execute_result",
          "data": {
            "text/plain": [
              "array([[[6.62128759e-310, 0.00000000e+000],\n",
              "        [0.00000000e+000, 0.00000000e+000],\n",
              "        [0.00000000e+000, 0.00000000e+000]],\n",
              "\n",
              "       [[0.00000000e+000, 0.00000000e+000],\n",
              "        [0.00000000e+000, 0.00000000e+000],\n",
              "        [0.00000000e+000, 0.00000000e+000]]])"
            ]
          },
          "metadata": {},
          "execution_count": 5
        }
      ]
    },
    {
      "cell_type": "code",
      "source": [
        "np.arange(15)"
      ],
      "metadata": {
        "colab": {
          "base_uri": "https://localhost:8080/"
        },
        "id": "zN2G7Ww3VvsE",
        "outputId": "865917fd-c7b5-4498-ccff-7749cdbda90b"
      },
      "execution_count": null,
      "outputs": [
        {
          "output_type": "execute_result",
          "data": {
            "text/plain": [
              "array([ 0,  1,  2,  3,  4,  5,  6,  7,  8,  9, 10, 11, 12, 13, 14])"
            ]
          },
          "metadata": {},
          "execution_count": 45
        }
      ]
    },
    {
      "cell_type": "markdown",
      "source": [
        "**Arithmetic with NumPy Arrays**"
      ],
      "metadata": {
        "id": "Y_VYDwjiWRjF"
      }
    },
    {
      "cell_type": "code",
      "source": [
        "arr=np.array([[1.,2.,3.],[4.,5.,6.]])"
      ],
      "metadata": {
        "id": "86O2dOIeWRGA"
      },
      "execution_count": null,
      "outputs": []
    },
    {
      "cell_type": "code",
      "source": [
        "arr"
      ],
      "metadata": {
        "colab": {
          "base_uri": "https://localhost:8080/"
        },
        "id": "KuVT4ilgX8IV",
        "outputId": "01a2a0fb-c1c4-4a2f-ac29-399d6273695c"
      },
      "execution_count": null,
      "outputs": [
        {
          "output_type": "execute_result",
          "data": {
            "text/plain": [
              "array([[1., 2., 3.],\n",
              "       [4., 5., 6.]])"
            ]
          },
          "metadata": {},
          "execution_count": 47
        }
      ]
    },
    {
      "cell_type": "code",
      "source": [
        "arr-arr"
      ],
      "metadata": {
        "colab": {
          "base_uri": "https://localhost:8080/"
        },
        "id": "Kg1sPPRbYDOJ",
        "outputId": "e8fd7dab-1d0f-43cb-ab4c-4190e3752aa7"
      },
      "execution_count": null,
      "outputs": [
        {
          "output_type": "execute_result",
          "data": {
            "text/plain": [
              "array([[0., 0., 0.],\n",
              "       [0., 0., 0.]])"
            ]
          },
          "metadata": {},
          "execution_count": 48
        }
      ]
    },
    {
      "cell_type": "code",
      "source": [
        "1/arr"
      ],
      "metadata": {
        "colab": {
          "base_uri": "https://localhost:8080/"
        },
        "id": "eHQYMGI7YGHx",
        "outputId": "24bc8695-422f-41a0-a92b-7cd6e993c947"
      },
      "execution_count": null,
      "outputs": [
        {
          "output_type": "execute_result",
          "data": {
            "text/plain": [
              "array([[1.        , 0.5       , 0.33333333],\n",
              "       [0.25      , 0.2       , 0.16666667]])"
            ]
          },
          "metadata": {},
          "execution_count": 49
        }
      ]
    },
    {
      "cell_type": "code",
      "source": [
        "arr**2"
      ],
      "metadata": {
        "colab": {
          "base_uri": "https://localhost:8080/"
        },
        "id": "b-ARtrB5YKHf",
        "outputId": "9f920847-5402-4249-8bf1-6097f945724f"
      },
      "execution_count": null,
      "outputs": [
        {
          "output_type": "execute_result",
          "data": {
            "text/plain": [
              "array([[ 1.,  4.,  9.],\n",
              "       [16., 25., 36.]])"
            ]
          },
          "metadata": {},
          "execution_count": 50
        }
      ]
    },
    {
      "cell_type": "code",
      "source": [
        "arr2=np.array([[0.,4.,1.],[7.,2.,12.]])"
      ],
      "metadata": {
        "id": "1ZuDHR-GYNgT"
      },
      "execution_count": null,
      "outputs": []
    },
    {
      "cell_type": "code",
      "source": [
        "arr2"
      ],
      "metadata": {
        "colab": {
          "base_uri": "https://localhost:8080/"
        },
        "id": "66vo-KSoYeSs",
        "outputId": "98f1ad14-9ce1-49e8-d137-b0d3a9f75508"
      },
      "execution_count": null,
      "outputs": [
        {
          "output_type": "execute_result",
          "data": {
            "text/plain": [
              "array([[ 0.,  4.,  1.],\n",
              "       [ 7.,  2., 12.]])"
            ]
          },
          "metadata": {},
          "execution_count": 52
        }
      ]
    },
    {
      "cell_type": "code",
      "source": [
        "arr2>arr"
      ],
      "metadata": {
        "colab": {
          "base_uri": "https://localhost:8080/"
        },
        "id": "TmjuIdH6Yg9F",
        "outputId": "a28cf585-f881-4720-b152-b8df87faf761"
      },
      "execution_count": null,
      "outputs": [
        {
          "output_type": "execute_result",
          "data": {
            "text/plain": [
              "array([[False,  True, False],\n",
              "       [ True, False,  True]])"
            ]
          },
          "metadata": {},
          "execution_count": 53
        }
      ]
    },
    {
      "cell_type": "markdown",
      "source": [
        "**Boolean Indexing**"
      ],
      "metadata": {
        "id": "bNq4FE1vYzWw"
      }
    },
    {
      "cell_type": "code",
      "source": [
        "names=np.array([\"Bob\",\"Joe\",\"Will\",\"Bob\",\"Will\",\"Joe\",\"Joe\"])"
      ],
      "metadata": {
        "id": "vjw4ZkDWY3EE"
      },
      "execution_count": null,
      "outputs": []
    },
    {
      "cell_type": "code",
      "source": [
        "data=np.array([[4,7],[0,2],[-5,6],[0,0],[1,2],[-12,-4],[3,4]])"
      ],
      "metadata": {
        "id": "QWTWNEAXZDe9"
      },
      "execution_count": null,
      "outputs": []
    },
    {
      "cell_type": "code",
      "source": [
        "names"
      ],
      "metadata": {
        "colab": {
          "base_uri": "https://localhost:8080/"
        },
        "id": "9ehOprFzZP72",
        "outputId": "806cb65b-89c0-488b-c2d9-328f9e12f114"
      },
      "execution_count": null,
      "outputs": [
        {
          "output_type": "execute_result",
          "data": {
            "text/plain": [
              "array(['Bob', 'Joe', 'Will', 'Bob', 'Will', 'Joe', 'Joe'], dtype='<U4')"
            ]
          },
          "metadata": {},
          "execution_count": 56
        }
      ]
    },
    {
      "cell_type": "code",
      "source": [
        "data"
      ],
      "metadata": {
        "colab": {
          "base_uri": "https://localhost:8080/"
        },
        "id": "Q6PArlbRZSEm",
        "outputId": "f9a30c9f-5652-48a7-8fcb-0d300ffdf901"
      },
      "execution_count": null,
      "outputs": [
        {
          "output_type": "execute_result",
          "data": {
            "text/plain": [
              "array([[  4,   7],\n",
              "       [  0,   2],\n",
              "       [ -5,   6],\n",
              "       [  0,   0],\n",
              "       [  1,   2],\n",
              "       [-12,  -4],\n",
              "       [  3,   4]])"
            ]
          },
          "metadata": {},
          "execution_count": 57
        }
      ]
    },
    {
      "cell_type": "markdown",
      "source": [
        "Suppose each name corresponds to a row in the data array and we wanted to\n",
        "select all the rows with the corresponding name \"Bob\". Like arithmetic operations,\n",
        "comparisons (such as ==) with arrays are also vectorized. Thus, comparing names\n",
        "with the string \"Bob\" yields a Boolean array:"
      ],
      "metadata": {
        "id": "f6pjv56BZah8"
      }
    },
    {
      "cell_type": "code",
      "source": [
        "names==\"Bob\""
      ],
      "metadata": {
        "colab": {
          "base_uri": "https://localhost:8080/"
        },
        "id": "HLpS6PPuZd40",
        "outputId": "6565a170-b6c7-4c9a-d5f8-3e0878f97ff5"
      },
      "execution_count": null,
      "outputs": [
        {
          "output_type": "execute_result",
          "data": {
            "text/plain": [
              "array([ True, False, False,  True, False, False, False])"
            ]
          },
          "metadata": {},
          "execution_count": 58
        }
      ]
    },
    {
      "cell_type": "markdown",
      "source": [
        "This Boolean array can be passed when indexing the"
      ],
      "metadata": {
        "id": "wHVkSHrjZnhS"
      }
    },
    {
      "cell_type": "code",
      "source": [
        "data[names==\"Bob\"]"
      ],
      "metadata": {
        "colab": {
          "base_uri": "https://localhost:8080/"
        },
        "id": "seLwgzwFZovl",
        "outputId": "d7d5f2f6-9c8d-482f-8056-63c7ea0954a6"
      },
      "execution_count": null,
      "outputs": [
        {
          "output_type": "execute_result",
          "data": {
            "text/plain": [
              "array([[4, 7],\n",
              "       [0, 0]])"
            ]
          },
          "metadata": {},
          "execution_count": 59
        }
      ]
    },
    {
      "cell_type": "code",
      "source": [
        "data[names==\"Bob\",1:]"
      ],
      "metadata": {
        "colab": {
          "base_uri": "https://localhost:8080/"
        },
        "id": "Ntmjuo8GZvHU",
        "outputId": "4e4318f5-249d-4eea-d99f-2cf4e2e9552f"
      },
      "execution_count": null,
      "outputs": [
        {
          "output_type": "execute_result",
          "data": {
            "text/plain": [
              "array([[7],\n",
              "       [0]])"
            ]
          },
          "metadata": {},
          "execution_count": 60
        }
      ]
    },
    {
      "cell_type": "code",
      "source": [
        "data[names==\"Bob\",:1]"
      ],
      "metadata": {
        "colab": {
          "base_uri": "https://localhost:8080/"
        },
        "id": "7s2hKB9aZzww",
        "outputId": "bf08ca08-cfa9-4e33-bb85-57067a71c7b8"
      },
      "execution_count": null,
      "outputs": [
        {
          "output_type": "execute_result",
          "data": {
            "text/plain": [
              "array([[4],\n",
              "       [0]])"
            ]
          },
          "metadata": {},
          "execution_count": 63
        }
      ]
    },
    {
      "cell_type": "markdown",
      "source": [
        "**Fancy Indexing**"
      ],
      "metadata": {
        "id": "yyEOz7QNaAd1"
      }
    },
    {
      "cell_type": "markdown",
      "source": [
        "Fancy indexing is a term adopted by NumPy to describe indexing using integer arrays.\n",
        "Suppose we had an 8 × 4 array"
      ],
      "metadata": {
        "id": "k3bPNcDxaDkR"
      }
    },
    {
      "cell_type": "code",
      "source": [
        "arr=np.zeros((8,4))"
      ],
      "metadata": {
        "id": "QSyVqNyVaIK6"
      },
      "execution_count": null,
      "outputs": []
    },
    {
      "cell_type": "code",
      "source": [
        "for i in range(8):\n",
        "  arr[i]=i"
      ],
      "metadata": {
        "id": "dZAJO1qIaOib"
      },
      "execution_count": null,
      "outputs": []
    },
    {
      "cell_type": "code",
      "source": [
        "arr"
      ],
      "metadata": {
        "colab": {
          "base_uri": "https://localhost:8080/"
        },
        "id": "ILHDO164aTaA",
        "outputId": "ecd8ebf3-6f5f-48be-ba08-e1eec262842c"
      },
      "execution_count": null,
      "outputs": [
        {
          "output_type": "execute_result",
          "data": {
            "text/plain": [
              "array([[0., 0., 0., 0.],\n",
              "       [1., 1., 1., 1.],\n",
              "       [2., 2., 2., 2.],\n",
              "       [3., 3., 3., 3.],\n",
              "       [4., 4., 4., 4.],\n",
              "       [5., 5., 5., 5.],\n",
              "       [6., 6., 6., 6.],\n",
              "       [7., 7., 7., 7.]])"
            ]
          },
          "metadata": {},
          "execution_count": 66
        }
      ]
    },
    {
      "cell_type": "code",
      "source": [
        "arr=np.arange(32).reshape((8,4))"
      ],
      "metadata": {
        "id": "cpN0fzFCbke0"
      },
      "execution_count": null,
      "outputs": []
    },
    {
      "cell_type": "code",
      "source": [
        "arr"
      ],
      "metadata": {
        "colab": {
          "base_uri": "https://localhost:8080/"
        },
        "id": "upOI7goUbueO",
        "outputId": "536763bd-e99b-4240-c0a3-dee0c94d0314"
      },
      "execution_count": null,
      "outputs": [
        {
          "output_type": "execute_result",
          "data": {
            "text/plain": [
              "array([[ 0,  1,  2,  3],\n",
              "       [ 4,  5,  6,  7],\n",
              "       [ 8,  9, 10, 11],\n",
              "       [12, 13, 14, 15],\n",
              "       [16, 17, 18, 19],\n",
              "       [20, 21, 22, 23],\n",
              "       [24, 25, 26, 27],\n",
              "       [28, 29, 30, 31]])"
            ]
          },
          "metadata": {},
          "execution_count": 68
        }
      ]
    },
    {
      "cell_type": "markdown",
      "source": [
        "**Transposing Arrays and Swapping Axes**"
      ],
      "metadata": {
        "id": "SuySitYTcLr_"
      }
    },
    {
      "cell_type": "markdown",
      "source": [
        "Transposing is a special form of reshaping that similarly returns a view on the\n",
        "underlying data without copying anything. Arrays have the transpose method and\n",
        "the special T attribute:"
      ],
      "metadata": {
        "id": "PH4uW0XmcSwp"
      }
    },
    {
      "cell_type": "code",
      "source": [
        "arr=np.arange(15).reshape((3,5))"
      ],
      "metadata": {
        "id": "6RRbi5GUcTrQ"
      },
      "execution_count": null,
      "outputs": []
    },
    {
      "cell_type": "code",
      "source": [
        "arr"
      ],
      "metadata": {
        "colab": {
          "base_uri": "https://localhost:8080/"
        },
        "id": "sn4tB4pPcaIs",
        "outputId": "008328b4-fabc-400a-e1a6-5fe8ba7f0e03"
      },
      "execution_count": null,
      "outputs": [
        {
          "output_type": "execute_result",
          "data": {
            "text/plain": [
              "array([[ 0,  1,  2,  3,  4],\n",
              "       [ 5,  6,  7,  8,  9],\n",
              "       [10, 11, 12, 13, 14]])"
            ]
          },
          "metadata": {},
          "execution_count": 70
        }
      ]
    },
    {
      "cell_type": "code",
      "source": [
        "arr.T"
      ],
      "metadata": {
        "colab": {
          "base_uri": "https://localhost:8080/"
        },
        "id": "1tOt05hOcb8V",
        "outputId": "72ade9d0-bf1c-4388-a28a-e8cb9f839d4b"
      },
      "execution_count": null,
      "outputs": [
        {
          "output_type": "execute_result",
          "data": {
            "text/plain": [
              "array([[ 0,  5, 10],\n",
              "       [ 1,  6, 11],\n",
              "       [ 2,  7, 12],\n",
              "       [ 3,  8, 13],\n",
              "       [ 4,  9, 14]])"
            ]
          },
          "metadata": {},
          "execution_count": 71
        }
      ]
    },
    {
      "cell_type": "markdown",
      "source": [
        "Dot product"
      ],
      "metadata": {
        "id": "MUYkt2iBc0DW"
      }
    },
    {
      "cell_type": "code",
      "source": [
        "np.dot(arr.T,arr)"
      ],
      "metadata": {
        "colab": {
          "base_uri": "https://localhost:8080/"
        },
        "id": "mdI8hrT-csIf",
        "outputId": "17de6a74-21fe-4d49-bf89-1c0cd4d8d377"
      },
      "execution_count": null,
      "outputs": [
        {
          "output_type": "execute_result",
          "data": {
            "text/plain": [
              "array([[125, 140, 155, 170, 185],\n",
              "       [140, 158, 176, 194, 212],\n",
              "       [155, 176, 197, 218, 239],\n",
              "       [170, 194, 218, 242, 266],\n",
              "       [185, 212, 239, 266, 293]])"
            ]
          },
          "metadata": {},
          "execution_count": 72
        }
      ]
    },
    {
      "cell_type": "code",
      "source": [
        "arr.T@arr"
      ],
      "metadata": {
        "colab": {
          "base_uri": "https://localhost:8080/"
        },
        "id": "IZ-cuK9Vc5X1",
        "outputId": "f8059b73-d64e-4337-b0aa-3b6dc368cedd"
      },
      "execution_count": null,
      "outputs": [
        {
          "output_type": "execute_result",
          "data": {
            "text/plain": [
              "array([[125, 140, 155, 170, 185],\n",
              "       [140, 158, 176, 194, 212],\n",
              "       [155, 176, 197, 218, 239],\n",
              "       [170, 194, 218, 242, 266],\n",
              "       [185, 212, 239, 266, 293]])"
            ]
          },
          "metadata": {},
          "execution_count": 73
        }
      ]
    },
    {
      "cell_type": "code",
      "source": [
        "arr"
      ],
      "metadata": {
        "colab": {
          "base_uri": "https://localhost:8080/"
        },
        "id": "bWqoTK-Tc_xq",
        "outputId": "408a4607-8496-4ef0-e8a1-24c880fd5ea6"
      },
      "execution_count": null,
      "outputs": [
        {
          "output_type": "execute_result",
          "data": {
            "text/plain": [
              "array([[ 0,  1,  2,  3,  4],\n",
              "       [ 5,  6,  7,  8,  9],\n",
              "       [10, 11, 12, 13, 14]])"
            ]
          },
          "metadata": {},
          "execution_count": 74
        }
      ]
    },
    {
      "cell_type": "markdown",
      "source": [
        "**Array-Oriented Programming with Arrays**"
      ],
      "metadata": {
        "id": "i_2IS_LRdc06"
      }
    },
    {
      "cell_type": "markdown",
      "source": [
        "Using NumPy arrays enables you to express many kinds of data processing tasks as\n",
        "concise array expressions that might otherwise require writing loops. This practice\n",
        "of replacing explicit loops with array expressions is referred to by some people\n",
        "as *vectorization*."
      ],
      "metadata": {
        "id": "RsjoOdvWdrG0"
      }
    },
    {
      "cell_type": "markdown",
      "source": [
        "As a simple example, suppose we wished to evaluate the function sqrt(x^2 +\n",
        "y^2) across a regular grid of values. The numpy.meshgrid function takes two one-\n",
        "dimensional arrays and produces two two-dimensional matrices corresponding to all\n",
        "pairs of (x, y) in the two arrays"
      ],
      "metadata": {
        "id": "tP7OvxWgdu_q"
      }
    },
    {
      "cell_type": "code",
      "source": [
        "points=np.arange(-5,5,0.01) #100 equally space points"
      ],
      "metadata": {
        "id": "A3Wl7yu9dx9R"
      },
      "execution_count": null,
      "outputs": []
    },
    {
      "cell_type": "code",
      "source": [
        "xs, ys=np.meshgrid(points, points)"
      ],
      "metadata": {
        "id": "mHxQVGRmd65d"
      },
      "execution_count": null,
      "outputs": []
    },
    {
      "cell_type": "code",
      "source": [
        "ys"
      ],
      "metadata": {
        "colab": {
          "base_uri": "https://localhost:8080/"
        },
        "id": "fr8m36WMeAyw",
        "outputId": "ddd8f1df-f3fc-45f0-cafa-a64f093720cf"
      },
      "execution_count": null,
      "outputs": [
        {
          "output_type": "execute_result",
          "data": {
            "text/plain": [
              "array([[-5.  , -5.  , -5.  , ..., -5.  , -5.  , -5.  ],\n",
              "       [-4.99, -4.99, -4.99, ..., -4.99, -4.99, -4.99],\n",
              "       [-4.98, -4.98, -4.98, ..., -4.98, -4.98, -4.98],\n",
              "       ...,\n",
              "       [ 4.97,  4.97,  4.97, ...,  4.97,  4.97,  4.97],\n",
              "       [ 4.98,  4.98,  4.98, ...,  4.98,  4.98,  4.98],\n",
              "       [ 4.99,  4.99,  4.99, ...,  4.99,  4.99,  4.99]])"
            ]
          },
          "metadata": {},
          "execution_count": 213
        }
      ]
    },
    {
      "cell_type": "code",
      "source": [
        "xs"
      ],
      "metadata": {
        "colab": {
          "base_uri": "https://localhost:8080/"
        },
        "id": "iYDC3AGoeCo7",
        "outputId": "7a249c38-ead1-49d3-8df9-56a876bcbcdc"
      },
      "execution_count": null,
      "outputs": [
        {
          "output_type": "execute_result",
          "data": {
            "text/plain": [
              "array([[-5.  , -4.99, -4.98, ...,  4.97,  4.98,  4.99],\n",
              "       [-5.  , -4.99, -4.98, ...,  4.97,  4.98,  4.99],\n",
              "       [-5.  , -4.99, -4.98, ...,  4.97,  4.98,  4.99],\n",
              "       ...,\n",
              "       [-5.  , -4.99, -4.98, ...,  4.97,  4.98,  4.99],\n",
              "       [-5.  , -4.99, -4.98, ...,  4.97,  4.98,  4.99],\n",
              "       [-5.  , -4.99, -4.98, ...,  4.97,  4.98,  4.99]])"
            ]
          },
          "metadata": {},
          "execution_count": 214
        }
      ]
    },
    {
      "cell_type": "markdown",
      "source": [
        "Now, evaluating the function is a matter of writing the same expression you would\n",
        "write with two points"
      ],
      "metadata": {
        "id": "EI9bpncmeK1q"
      }
    },
    {
      "cell_type": "code",
      "source": [
        "z=np.sqrt(xs**2+ys**2)\n",
        "z"
      ],
      "metadata": {
        "colab": {
          "base_uri": "https://localhost:8080/"
        },
        "id": "TeEzclRKeKi8",
        "outputId": "9b02337a-595a-4dd1-9b5d-5fad92734c42"
      },
      "execution_count": null,
      "outputs": [
        {
          "output_type": "execute_result",
          "data": {
            "text/plain": [
              "array([[7.07106781, 7.06400028, 7.05693985, ..., 7.04988652, 7.05693985,\n",
              "        7.06400028],\n",
              "       [7.06400028, 7.05692568, 7.04985815, ..., 7.04279774, 7.04985815,\n",
              "        7.05692568],\n",
              "       [7.05693985, 7.04985815, 7.04278354, ..., 7.03571603, 7.04278354,\n",
              "        7.04985815],\n",
              "       ...,\n",
              "       [7.04988652, 7.04279774, 7.03571603, ..., 7.0286414 , 7.03571603,\n",
              "        7.04279774],\n",
              "       [7.05693985, 7.04985815, 7.04278354, ..., 7.03571603, 7.04278354,\n",
              "        7.04985815],\n",
              "       [7.06400028, 7.05692568, 7.04985815, ..., 7.04279774, 7.04985815,\n",
              "        7.05692568]])"
            ]
          },
          "metadata": {},
          "execution_count": 215
        }
      ]
    },
    {
      "cell_type": "code",
      "source": [
        "import matplotlib.pyplot as plt\n",
        "plt.imshow(z, cmap=plt.cm.gray, extent=[-5,5,-5,5])\n",
        "plt.title(\"Image plot of $\\sqrt{x^2+y^2}$ for a grid of values\")"
      ],
      "metadata": {
        "colab": {
          "base_uri": "https://localhost:8080/",
          "height": 479
        },
        "id": "rRA-8wpdehWW",
        "outputId": "8a04326a-1e3e-4d9d-c5e2-427ec5d65c7a"
      },
      "execution_count": null,
      "outputs": [
        {
          "output_type": "execute_result",
          "data": {
            "text/plain": [
              "Text(0.5, 1.0, 'Image plot of $\\\\sqrt{x^2+y^2}$ for a grid of values')"
            ]
          },
          "metadata": {},
          "execution_count": 216
        },
        {
          "output_type": "display_data",
          "data": {
            "text/plain": [
              "<Figure size 640x480 with 1 Axes>"
            ],
            "image/png": "[encoded data removed]"
          },
          "metadata": {}
        }
      ]
    },
    {
      "cell_type": "markdown",
      "source": [
        "**Mathematical and Statistical Methods**"
      ],
      "metadata": {
        "id": "fKbNrBH6fqa6"
      }
    },
    {
      "cell_type": "markdown",
      "source": [
        "A set of mathematical functions that compute statistics about an entire array or\n",
        "about the data along an axis are accessible as methods of the array class. You can\n",
        "use aggregations (sometimes called reductions) like sum, mean, and std (standard\n",
        "deviation) either by calling the array instance method or using the top-level NumPy\n",
        "function. When you use the NumPy function, like numpy.sum, you have to pass the\n",
        "array you want to aggregate as the first argum"
      ],
      "metadata": {
        "id": "skO0Y_fOfzcS"
      }
    },
    {
      "cell_type": "code",
      "source": [
        "arr.mean()"
      ],
      "metadata": {
        "colab": {
          "base_uri": "https://localhost:8080/"
        },
        "id": "y2ZYkl18f1ea",
        "outputId": "d2d423fa-c632-4c73-979a-acb3eb67a11b"
      },
      "execution_count": null,
      "outputs": [
        {
          "output_type": "execute_result",
          "data": {
            "text/plain": [
              "7.0"
            ]
          },
          "metadata": {},
          "execution_count": 87
        }
      ]
    },
    {
      "cell_type": "code",
      "source": [
        "arr.sum()"
      ],
      "metadata": {
        "colab": {
          "base_uri": "https://localhost:8080/"
        },
        "id": "sBz7hQUPgRUD",
        "outputId": "e5d17a84-57a9-4852-ef27-9cf8cb2adfb1"
      },
      "execution_count": null,
      "outputs": [
        {
          "output_type": "execute_result",
          "data": {
            "text/plain": [
              "105"
            ]
          },
          "metadata": {},
          "execution_count": 89
        }
      ]
    },
    {
      "cell_type": "code",
      "source": [
        "np.mean(arr)"
      ],
      "metadata": {
        "colab": {
          "base_uri": "https://localhost:8080/"
        },
        "id": "QlQL3W1hgXjR",
        "outputId": "9d0f0a90-216d-434f-ad26-ded3b38c52d9"
      },
      "execution_count": null,
      "outputs": [
        {
          "output_type": "execute_result",
          "data": {
            "text/plain": [
              "7.0"
            ]
          },
          "metadata": {},
          "execution_count": 90
        }
      ]
    },
    {
      "cell_type": "code",
      "source": [
        "np.sum(arr2)"
      ],
      "metadata": {
        "colab": {
          "base_uri": "https://localhost:8080/"
        },
        "id": "CoAYHwe3gbTy",
        "outputId": "40a843d7-6c2e-4990-8b3b-ac97bbaeee06"
      },
      "execution_count": null,
      "outputs": [
        {
          "output_type": "execute_result",
          "data": {
            "text/plain": [
              "26.0"
            ]
          },
          "metadata": {},
          "execution_count": 91
        }
      ]
    },
    {
      "cell_type": "code",
      "source": [
        "arr.mean(axis=1)"
      ],
      "metadata": {
        "colab": {
          "base_uri": "https://localhost:8080/"
        },
        "id": "69AIz50wglup",
        "outputId": "ec4bc69d-18b7-4cc7-9e72-9727645e23bb"
      },
      "execution_count": null,
      "outputs": [
        {
          "output_type": "execute_result",
          "data": {
            "text/plain": [
              "array([ 2.,  7., 12.])"
            ]
          },
          "metadata": {},
          "execution_count": 92
        }
      ]
    },
    {
      "cell_type": "code",
      "source": [
        "arr.sum(axis=0)"
      ],
      "metadata": {
        "colab": {
          "base_uri": "https://localhost:8080/"
        },
        "id": "lSFj9vERgqbV",
        "outputId": "141e670c-de6c-478b-edb3-be443b70d027"
      },
      "execution_count": null,
      "outputs": [
        {
          "output_type": "execute_result",
          "data": {
            "text/plain": [
              "array([15, 18, 21, 24, 27])"
            ]
          },
          "metadata": {},
          "execution_count": 93
        }
      ]
    },
    {
      "cell_type": "markdown",
      "source": [
        "Other methods like cumsum and cumprod do not aggregate, instead producing an array\n",
        "of the intermediate result"
      ],
      "metadata": {
        "id": "GLd7jw26hCy2"
      }
    },
    {
      "cell_type": "code",
      "source": [
        "arr.cumsum()"
      ],
      "metadata": {
        "colab": {
          "base_uri": "https://localhost:8080/"
        },
        "id": "BsP4laDLg6RN",
        "outputId": "60159f17-2138-4cfe-ee6f-733692b58111"
      },
      "execution_count": null,
      "outputs": [
        {
          "output_type": "execute_result",
          "data": {
            "text/plain": [
              "array([  0,   1,   3,   6,  10,  15,  21,  28,  36,  45,  55,  66,  78,\n",
              "        91, 105])"
            ]
          },
          "metadata": {},
          "execution_count": 94
        }
      ]
    },
    {
      "cell_type": "code",
      "source": [
        "arr.cumprod()"
      ],
      "metadata": {
        "colab": {
          "base_uri": "https://localhost:8080/"
        },
        "id": "-Crh6kXyhHYS",
        "outputId": "9d73e50b-0e79-4719-d3df-ee9f98c047e8"
      },
      "execution_count": null,
      "outputs": [
        {
          "output_type": "execute_result",
          "data": {
            "text/plain": [
              "array([0, 0, 0, 0, 0, 0, 0, 0, 0, 0, 0, 0, 0, 0, 0])"
            ]
          },
          "metadata": {},
          "execution_count": 95
        }
      ]
    },
    {
      "cell_type": "markdown",
      "source": [
        "**Linear Algebra**"
      ],
      "metadata": {
        "id": "Uu6IfsrOhXDR"
      }
    },
    {
      "cell_type": "markdown",
      "source": [
        "Linear algebra operations, like matrix multiplication, decompositions, determinants,\n",
        "and other square matrix math, are an important part of many array libraries. Multi‐\n",
        "plying two two-dimensional arrays with * is an element-wise product, while matrix multiplications require using a function. Thus, there is a function dot, both an array\n",
        "method and a function in the numpy namespace, for matrix multiplication."
      ],
      "metadata": {
        "id": "_Za_SrpvhyUB"
      }
    },
    {
      "cell_type": "code",
      "source": [
        "x=np.array([[1.,2.,3.],[4.,5.,6.]])"
      ],
      "metadata": {
        "id": "OUkvnHW3h9T4"
      },
      "execution_count": null,
      "outputs": []
    },
    {
      "cell_type": "code",
      "source": [
        "y=np.array([[6.,23.],[-1,7],[8,9]])"
      ],
      "metadata": {
        "id": "rZzaORE-iGUS"
      },
      "execution_count": null,
      "outputs": []
    },
    {
      "cell_type": "code",
      "source": [
        "x"
      ],
      "metadata": {
        "colab": {
          "base_uri": "https://localhost:8080/"
        },
        "id": "uxKkZUd4iOvh",
        "outputId": "227b10d5-ec92-4be7-90b6-8a8a759e060a"
      },
      "execution_count": null,
      "outputs": [
        {
          "output_type": "execute_result",
          "data": {
            "text/plain": [
              "array([[1., 2., 3.],\n",
              "       [4., 5., 6.]])"
            ]
          },
          "metadata": {},
          "execution_count": 98
        }
      ]
    },
    {
      "cell_type": "code",
      "source": [
        "y"
      ],
      "metadata": {
        "colab": {
          "base_uri": "https://localhost:8080/"
        },
        "id": "ZoUKJ2mhiP96",
        "outputId": "cbcbbd44-b961-4a8f-f5e0-023e7c7c5142"
      },
      "execution_count": null,
      "outputs": [
        {
          "output_type": "execute_result",
          "data": {
            "text/plain": [
              "array([[ 6., 23.],\n",
              "       [-1.,  7.],\n",
              "       [ 8.,  9.]])"
            ]
          },
          "metadata": {},
          "execution_count": 99
        }
      ]
    },
    {
      "cell_type": "code",
      "source": [
        "x.dot(y)"
      ],
      "metadata": {
        "colab": {
          "base_uri": "https://localhost:8080/"
        },
        "id": "5xrYmacJiRxh",
        "outputId": "44475357-c6e0-4fab-ebd8-9605d86e6f71"
      },
      "execution_count": null,
      "outputs": [
        {
          "output_type": "execute_result",
          "data": {
            "text/plain": [
              "array([[ 28.,  64.],\n",
              "       [ 67., 181.]])"
            ]
          },
          "metadata": {},
          "execution_count": 100
        }
      ]
    },
    {
      "cell_type": "code",
      "source": [
        "np.dot(x,y)"
      ],
      "metadata": {
        "colab": {
          "base_uri": "https://localhost:8080/"
        },
        "id": "UVMorPhQiUdb",
        "outputId": "94e2619a-f2ab-4b65-a47f-0e77d252150e"
      },
      "execution_count": null,
      "outputs": [
        {
          "output_type": "execute_result",
          "data": {
            "text/plain": [
              "array([[ 28.,  64.],\n",
              "       [ 67., 181.]])"
            ]
          },
          "metadata": {},
          "execution_count": 101
        }
      ]
    }
  ]
}