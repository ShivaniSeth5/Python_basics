{
  "nbformat": 4,
  "nbformat_minor": 0,
  "metadata": {
    "colab": {
      "provenance": []
    },
    "kernelspec": {
      "name": "python3",
      "display_name": "Python 3"
    },
    "language_info": {
      "name": "python"
    }
  },
  "cells": [
    {
      "cell_type": "markdown",
      "source": [
        "* Lecture Name: Alexander Victor, PhD\n",
        "* Module Code: B9DA108\n",
        "* Module Title: Programming for Data Analysis\n",
        "* Contact: alexander.victor@dbs.ie"
      ],
      "metadata": {
        "id": "hfbNxHL5jcg8"
      }
    },
    {
      "cell_type": "markdown",
      "source": [
        "**Python Data Types**\n",
        "\n",
        "Python Data types are the classification or categorization of data items. It represents the kind of value that tells what operations can be performed on a particular data. Since everything is an object in Python programming, Python data types are classes and variables are instances (objects) of these classes. The following are the standard or built-in data types in Python:\n",
        "\n",
        "* Numeric\n",
        "* Sequence Type\n",
        "* Boolean\n",
        "* Set\n",
        "* Dictionary\n",
        "* Binary Types( memoryview, bytearray, bytes)"
      ],
      "metadata": {
        "id": "3XKxQp-SjtXw"
      }
    },
    {
      "cell_type": "markdown",
      "source": [
        "Each assignment replaces the previous value, making ‘x’ take on the data type and value of the most recent assignment."
      ],
      "metadata": {
        "id": "MrGZcK4Rkh47"
      }
    },
    {
      "cell_type": "code",
      "execution_count": null,
      "metadata": {
        "id": "fW_SyFkhjJbz"
      },
      "outputs": [],
      "source": [
        "x = \"Hello World\"\n",
        "x = 50\n",
        "x = 60.5\n",
        "x = 3j\n",
        "x = [\"dublin\", \"business\", \"school\"]\n",
        "x = (\"dublin\", \"business\", \"school\")\n",
        "x = range(10)\n",
        "x = {\"name\": \"Suraj\", \"age\": 24}\n",
        "x = {\"dublin\", \"business\", \"school\"}\n",
        "x = frozenset({\"dublin\", \"business\", \"school\"})\n",
        "x = True\n",
        "x = b\"Dublin\"\n",
        "x = bytearray(4)\n",
        "x = memoryview(bytes(6))\n",
        "x = None"
      ]
    },
    {
      "cell_type": "code",
      "source": [
        "x"
      ],
      "metadata": {
        "id": "4kmEpPX0saWq"
      },
      "execution_count": null,
      "outputs": []
    },
    {
      "cell_type": "markdown",
      "source": [
        "**1. Numeric Data Types in Python**\n",
        "\n",
        "The numeric data type in Python represents the data that has a numeric value. A numeric value can be an integer, a floating number, or even a complex number. These values are defined as Python int, Python float, and Python complex classes in Python."
      ],
      "metadata": {
        "id": "P3hDBi66k46k"
      }
    },
    {
      "cell_type": "markdown",
      "source": [
        "**Example:** This code demonstrates how to determine the data type of variables in Python using the type() function. It prints the data types of three variables: a (integer), b (float), and c (complex). The output shows the respective data type Python for each variable."
      ],
      "metadata": {
        "id": "qwOsZUs9lIdG"
      }
    },
    {
      "cell_type": "code",
      "source": [
        "a = 5\n",
        "print(\"Type of a: \", type(a))\n",
        "\n",
        "b = 5.0\n",
        "print(\"\\nType of b: \", type(b))\n",
        "\n",
        "c = 2 + 4j\n",
        "print(\"\\nType of c: \", type(c))"
      ],
      "metadata": {
        "colab": {
          "base_uri": "https://localhost:8080/"
        },
        "id": "gpXfu2bglPOa",
        "outputId": "8247dd6f-7223-4ed7-ccc9-ccbdee40cc1a"
      },
      "execution_count": null,
      "outputs": [
        {
          "output_type": "stream",
          "name": "stdout",
          "text": [
            "Type of a:  <class 'int'>\n",
            "\n",
            "Type of b:  <class 'float'>\n",
            "\n",
            "Type of c:  <class 'complex'>\n"
          ]
        }
      ]
    },
    {
      "cell_type": "code",
      "source": [
        "a= \"Hello World\"\n",
        "type(a)"
      ],
      "metadata": {
        "colab": {
          "base_uri": "https://localhost:8080/"
        },
        "id": "J70b1tgXjzf3",
        "outputId": "d7101727-fd2b-4e3d-8c03-43e23cb73ab5"
      },
      "execution_count": null,
      "outputs": [
        {
          "output_type": "execute_result",
          "data": {
            "text/plain": [
              "str"
            ]
          },
          "metadata": {},
          "execution_count": 2
        }
      ]
    },
    {
      "cell_type": "markdown",
      "source": [
        "**2. Sequence Data Types in Python**\n",
        "\n",
        "The sequence Data Type in Python is the ordered collection of similar or different Python data types. Sequences allow storing of multiple values in an organized and efficient fashion. There are several sequence data types of Python:\n",
        "\n",
        "* Python String\n",
        "* Python List\n",
        "* Python Tuple"
      ],
      "metadata": {
        "id": "klHoVkKqlYro"
      }
    },
    {
      "cell_type": "markdown",
      "source": [
        "**String Data Type**\n",
        "\n",
        "A string is a collection of one or more characters put in a single quote, double-quote, or triple-quote. In Python, there is no character data type Python, a character is a string of length one. It is represented by ***str*** class.  "
      ],
      "metadata": {
        "id": "DE860CZ7ly_m"
      }
    },
    {
      "cell_type": "markdown",
      "source": [
        "**Example:** This Python code showcases various string creation methods. It uses single quotes, double quotes, and triple quotes to create strings with different content and includes a multiline string. The code also demonstrates printing the strings and checking their data types"
      ],
      "metadata": {
        "id": "0V4meZTNmDhV"
      }
    },
    {
      "cell_type": "code",
      "source": [
        "a=\"3\"\n",
        "type(a)"
      ],
      "metadata": {
        "colab": {
          "base_uri": "https://localhost:8080/"
        },
        "id": "9UvlZwOokQCa",
        "outputId": "506d4cd8-d112-4015-d2fd-b76d4b729463"
      },
      "execution_count": null,
      "outputs": [
        {
          "output_type": "execute_result",
          "data": {
            "text/plain": [
              "str"
            ]
          },
          "metadata": {},
          "execution_count": 4
        }
      ]
    },
    {
      "cell_type": "code",
      "source": [
        "String1 = 'Welcome to the Dublin Business School'\n",
        "print(\"String with the use of Single Quotes: \")\n",
        "print(String1)\n",
        "String1 = \"I'm a Geek\"\n",
        "print(\"\\nString with the use of Double Quotes: \")\n",
        "print(String1)\n",
        "print(type(String1))\n",
        "String1 = '''I'm a student at Dublin Business School, Ireland'''\n",
        "print(\"\\nString with the use of Triple Quotes: \")\n",
        "print(String1)\n",
        "print(type(String1))\n",
        "\n",
        "String1 = '''Programming\n",
        "            For\n",
        "            Life'''\n",
        "print(\"\\nCreating a multiline String: \")\n",
        "print(String1)"
      ],
      "metadata": {
        "colab": {
          "base_uri": "https://localhost:8080/"
        },
        "id": "JCNLnt24mFM3",
        "outputId": "2d5807f1-8a81-4a2b-bf05-b0fb66b3f552"
      },
      "execution_count": null,
      "outputs": [
        {
          "output_type": "stream",
          "name": "stdout",
          "text": [
            "String with the use of Single Quotes: \n",
            "Welcome to the Dublin Business School\n",
            "\n",
            "String with the use of Double Quotes: \n",
            "I'm a Geek\n",
            "<class 'str'>\n",
            "\n",
            "String with the use of Triple Quotes: \n",
            "I'm a student at Dublin Business School, Ireland\n",
            "<class 'str'>\n",
            "\n",
            "Creating a multiline String: \n",
            "Programming\n",
            "            For\n",
            "            Life\n"
          ]
        }
      ]
    },
    {
      "cell_type": "markdown",
      "source": [
        "**List Data Type**\n",
        "\n",
        "Lists are just like arrays, declared in other languages which is an ordered collection of data. It is very flexible as the items in a list do not need to be of the same type.  "
      ],
      "metadata": {
        "id": "jjL8mR0amjg1"
      }
    },
    {
      "cell_type": "markdown",
      "source": [
        "**Example:** This Python code demonstrates list creation and manipulation. It starts with an empty list and prints it. It creates a list containing a single string element and prints it. It creates a list with multiple string elements and prints selected elements from the list. It creates a multi-dimensional list (a list of lists) and prints it."
      ],
      "metadata": {
        "id": "sEPyKJ07mvvM"
      }
    },
    {
      "cell_type": "code",
      "source": [
        "List = []\n",
        "print(\"Initial blank List: \")\n",
        "print(List)\n",
        "List = ['DublinBusinessSchool']\n",
        "print(\"\\nList with the use of String: \")\n",
        "print(List)\n",
        "List = [\"Dublin\", \"Business\", \"School\"]\n",
        "print(\"\\nList containing multiple values: \")\n",
        "print(List[0])\n",
        "print(List[1])\n",
        "List = [['Dublin', 'Business'], ['School']]\n",
        "print(\"\\nMulti-Dimensional List: \")\n",
        "print(List)"
      ],
      "metadata": {
        "colab": {
          "base_uri": "https://localhost:8080/"
        },
        "id": "QByRkpDhmx27",
        "outputId": "4cfc82a8-4878-48fe-b74b-3eb7397a0e49"
      },
      "execution_count": null,
      "outputs": [
        {
          "output_type": "stream",
          "name": "stdout",
          "text": [
            "Initial blank List: \n",
            "[]\n",
            "\n",
            "List with the use of String: \n",
            "['DublinBusinessSchool']\n",
            "\n",
            "List containing multiple values: \n",
            "Dublin\n",
            "Business\n",
            "\n",
            "Multi-Dimensional List: \n",
            "[['Dublin', 'Business'], ['School']]\n"
          ]
        }
      ]
    },
    {
      "cell_type": "code",
      "source": [
        "x=(2,3,4,5,6)\n",
        "x"
      ],
      "metadata": {
        "colab": {
          "base_uri": "https://localhost:8080/"
        },
        "id": "WGz7jt4fwZ8r",
        "outputId": "8eec4aa5-0ed0-4b19-df17-d1437fd960d2"
      },
      "execution_count": null,
      "outputs": [
        {
          "output_type": "execute_result",
          "data": {
            "text/plain": [
              "(2, 3, 4, 5, 6)"
            ]
          },
          "metadata": {},
          "execution_count": 12
        }
      ]
    },
    {
      "cell_type": "code",
      "source": [
        "x*3"
      ],
      "metadata": {
        "colab": {
          "base_uri": "https://localhost:8080/"
        },
        "id": "bXGfY2_1l0_-",
        "outputId": "766d2a1d-bf5d-43c4-e18a-4899488d418a"
      },
      "execution_count": null,
      "outputs": [
        {
          "output_type": "execute_result",
          "data": {
            "text/plain": [
              "(2, 3, 4, 5, 6, 2, 3, 4, 5, 6, 2, 3, 4, 5, 6)"
            ]
          },
          "metadata": {},
          "execution_count": 13
        }
      ]
    },
    {
      "cell_type": "code",
      "source": [
        "x+[3,5,6,7,3]"
      ],
      "metadata": {
        "colab": {
          "base_uri": "https://localhost:8080/"
        },
        "id": "snd-22vVwdgr",
        "outputId": "ee27daff-70ef-4c6b-af04-1e1313af4387"
      },
      "execution_count": null,
      "outputs": [
        {
          "output_type": "execute_result",
          "data": {
            "text/plain": [
              "[2, 3, 4, 5, 6, 3, 5, 6, 7, 3]"
            ]
          },
          "metadata": {},
          "execution_count": 10
        }
      ]
    },
    {
      "cell_type": "markdown",
      "source": [
        "**Tuple Data Type**\n",
        "\n",
        "Just like a list, a tuple is also an ordered collection of Python objects. The only difference between a tuple and a list is that tuples are immutable i.e. tuples cannot be modified after it is created. It is represented by a tuple class."
      ],
      "metadata": {
        "id": "NgLcz533nQ8L"
      }
    },
    {
      "cell_type": "markdown",
      "source": [
        "**Example:** This Python code demonstrates different methods of creating and working with tuples. It starts with an empty tuple and prints it. It creates a tuple containing string elements and prints it. It converts a list into a tuple and prints the result. It creates a tuple from a string using the tuple() function. It forms a tuple with nested tuples and displays the result."
      ],
      "metadata": {
        "id": "2kLE1OatoQZV"
      }
    },
    {
      "cell_type": "code",
      "source": [
        "Tuple1 = ()\n",
        "print(\"Initial empty Tuple: \")\n",
        "print(Tuple1)\n",
        "Tuple1 = ('Dublin', 'Business')\n",
        "print(\"\\nTuple with the use of String: \")\n",
        "print(Tuple1)\n",
        "list1 = [1, 2, 4, 5, 6]\n",
        "print(\"\\nTuple using List: \")\n",
        "print(tuple(list1))\n",
        "Tuple1 = tuple('Ireland')\n",
        "print(\"\\nTuple with the use of function: \")\n",
        "print(Tuple1)\n",
        "Tuple1 = (0, 1, 2, 3)\n",
        "Tuple2 = ('Dublin', 'Business')\n",
        "Tuple3 = (Tuple1, Tuple2)\n",
        "print(\"\\nTuple with nested tuples: \")\n",
        "print(Tuple3)"
      ],
      "metadata": {
        "colab": {
          "base_uri": "https://localhost:8080/"
        },
        "id": "Oi6G-eg4oTy_",
        "outputId": "fb90a3a0-9605-4d84-ab83-b18d47ebef92"
      },
      "execution_count": null,
      "outputs": [
        {
          "output_type": "stream",
          "name": "stdout",
          "text": [
            "Initial empty Tuple: \n",
            "()\n",
            "\n",
            "Tuple with the use of String: \n",
            "('Dublin', 'Business')\n",
            "\n",
            "Tuple using List: \n",
            "(1, 2, 4, 5, 6)\n",
            "\n",
            "Tuple with the use of function: \n",
            "('I', 'r', 'e', 'l', 'a', 'n', 'd')\n",
            "\n",
            "Tuple with nested tuples: \n",
            "((0, 1, 2, 3), ('Dublin', 'Business'))\n"
          ]
        }
      ]
    },
    {
      "cell_type": "markdown",
      "source": [
        "**3. Boolean Data Type in Python**\n",
        "\n",
        "Python Data type with one of the two built-in values, True or False. Boolean objects that are equal to True are truthy (true), and those equal to False are falsy (false)."
      ],
      "metadata": {
        "id": "zQU7lqFSo-0g"
      }
    },
    {
      "cell_type": "code",
      "source": [
        "print(type(True))\n",
        "print(type(False))"
      ],
      "metadata": {
        "colab": {
          "base_uri": "https://localhost:8080/"
        },
        "id": "biMtBKl0pMZ5",
        "outputId": "58b64306-acde-4a78-f215-7d619910a4a6"
      },
      "execution_count": null,
      "outputs": [
        {
          "output_type": "stream",
          "name": "stdout",
          "text": [
            "<class 'bool'>\n",
            "<class 'bool'>\n"
          ]
        }
      ]
    },
    {
      "cell_type": "code",
      "source": [
        "print(type(true))\n",
        "print(type(false))"
      ],
      "metadata": {
        "id": "NCKOMLQdpV6w",
        "colab": {
          "base_uri": "https://localhost:8080/",
          "height": 156
        },
        "outputId": "a432bdc5-e5fd-4773-fe1a-60a68fb143bd"
      },
      "execution_count": null,
      "outputs": [
        {
          "output_type": "error",
          "ename": "NameError",
          "evalue": "name 'true' is not defined",
          "traceback": [
            "\u001b[0;31m---------------------------------------------------------------------------\u001b[0m",
            "\u001b[0;31mNameError\u001b[0m                                 Traceback (most recent call last)",
            "\u001b[0;32m<ipython-input-17-a86703ddc052>\u001b[0m in \u001b[0;36m<cell line: 1>\u001b[0;34m()\u001b[0m\n\u001b[0;32m----> 1\u001b[0;31m \u001b[0mprint\u001b[0m\u001b[0;34m(\u001b[0m\u001b[0mtype\u001b[0m\u001b[0;34m(\u001b[0m\u001b[0mtrue\u001b[0m\u001b[0;34m)\u001b[0m\u001b[0;34m)\u001b[0m\u001b[0;34m\u001b[0m\u001b[0;34m\u001b[0m\u001b[0m\n\u001b[0m\u001b[1;32m      2\u001b[0m \u001b[0mprint\u001b[0m\u001b[0;34m(\u001b[0m\u001b[0mtype\u001b[0m\u001b[0;34m(\u001b[0m\u001b[0mfalse\u001b[0m\u001b[0;34m)\u001b[0m\u001b[0;34m)\u001b[0m\u001b[0;34m\u001b[0m\u001b[0;34m\u001b[0m\u001b[0m\n",
            "\u001b[0;31mNameError\u001b[0m: name 'true' is not defined"
          ]
        }
      ]
    },
    {
      "cell_type": "markdown",
      "source": [
        "**4. Dictionary Data Type in Python**\n",
        "\n",
        "A dictionary in Python is an unordered collection of data values, used to store data values like a map, unlike other Python Data Types that hold only a single value as an element, a Dictionary holds a key: value pair. Key-value is provided in the dictionary to make it more optimized. Each key-value pair in a Dictionary is separated by a colon : , whereas each key is separated by a ‘comma’."
      ],
      "metadata": {
        "id": "ociEASr0pkWK"
      }
    },
    {
      "cell_type": "markdown",
      "source": [
        "**Example:** This code creates and prints a variety of dictionaries. The first dictionary is empty. The second dictionary has integer keys and string values. The third dictionary has mixed keys, with one string key and one integer key. The fourth dictionary is created using the dict() function, and the fifth dictionary is created using the ***[(key, value)]*** syntax"
      ],
      "metadata": {
        "id": "rY4YNMXnpuro"
      }
    },
    {
      "cell_type": "code",
      "source": [
        "Dict = {}\n",
        "print(\"Empty Dictionary: \")\n",
        "print(Dict)\n",
        "Dict = {1: 'Dublin', 2: 'Business', 3: 'School'}\n",
        "print(\"\\nDictionary with the use of Integer Keys: \")\n",
        "print(Dict)\n",
        "Dict = {'Name': 'Ireland', 1: [1, 2, 3, 4]}\n",
        "print(\"\\nDictionary with the use of Mixed Keys: \")\n",
        "print(Dict)\n",
        "Dict = dict({1: 'Dublin', 2: 'Business', 3: 'School'})\n",
        "print(\"\\nDictionary with the use of dict(): \")\n",
        "print(Dict)\n",
        "Dict = dict([(1, 'Ireland'), (2, 'For')])\n",
        "print(\"\\nDictionary with each item as a pair: \")\n",
        "print(Dict)"
      ],
      "metadata": {
        "colab": {
          "base_uri": "https://localhost:8080/"
        },
        "id": "7PUkrORppoqS",
        "outputId": "0f81c201-2e60-426c-98df-1a131e026100"
      },
      "execution_count": null,
      "outputs": [
        {
          "output_type": "stream",
          "name": "stdout",
          "text": [
            "Empty Dictionary: \n",
            "{}\n",
            "\n",
            "Dictionary with the use of Integer Keys: \n",
            "{1: 'Dublin', 2: 'Business', 3: 'School'}\n",
            "\n",
            "Dictionary with the use of Mixed Keys: \n",
            "{'Name': 'Ireland', 1: [1, 2, 3, 4]}\n",
            "\n",
            "Dictionary with the use of dict(): \n",
            "{1: 'Dublin', 2: 'Business', 3: 'School'}\n",
            "\n",
            "Dictionary with each item as a pair: \n",
            "{1: 'Ireland', 2: 'For'}\n"
          ]
        }
      ]
    },
    {
      "cell_type": "markdown",
      "source": [
        "**Accessing Key-value in Dictionary**\n",
        "\n",
        "In order to access the items of a dictionary refer to its key name. Key can be used inside square brackets. There is also a method called get() that will also help in accessing the element from a dictionary."
      ],
      "metadata": {
        "id": "1WfVfdb7qmor"
      }
    },
    {
      "cell_type": "code",
      "source": [
        "Dict = {1: 'Business', 'name': 'For', 3: 'School'}\n",
        "print(\"Accessing a element using key:\")\n",
        "print(Dict[3])\n",
        "print(\"Accessing a element using get:\")\n",
        "print(Dict.get(1))\n"
      ],
      "metadata": {
        "colab": {
          "base_uri": "https://localhost:8080/"
        },
        "id": "xKQRvUE3qqQo",
        "outputId": "01609422-2e8a-4f48-f2d0-d9b25b90d423"
      },
      "execution_count": null,
      "outputs": [
        {
          "output_type": "stream",
          "name": "stdout",
          "text": [
            "Accessing a element using key:\n",
            "School\n",
            "Accessing a element using get:\n",
            "Business\n"
          ]
        }
      ]
    },
    {
      "cell_type": "markdown",
      "source": [
        "# **Python Variables**"
      ],
      "metadata": {
        "id": "u47kqfD50TLR"
      }
    },
    {
      "cell_type": "markdown",
      "source": [
        "Python Variable is containers that store values."
      ],
      "metadata": {
        "id": "F2pJNbUT0gZE"
      }
    },
    {
      "cell_type": "code",
      "source": [
        "Var = \"DublinBusinessSchool\"\n",
        "print(Var)"
      ],
      "metadata": {
        "id": "el2rEZVh0jXj",
        "colab": {
          "base_uri": "https://localhost:8080/"
        },
        "outputId": "d42b1d29-4dc6-406a-8797-3a356246fd5a"
      },
      "execution_count": null,
      "outputs": [
        {
          "output_type": "stream",
          "name": "stdout",
          "text": [
            "DublinBusinessSchool\n"
          ]
        }
      ]
    },
    {
      "cell_type": "markdown",
      "source": [
        "**Rules for Python variables**\n",
        "\n",
        "* A Python variable name must start with a letter or the underscore character.\n",
        "* A Python variable name cannot start with a number.\n",
        "* A Python variable name can only contain alpha-numeric characters and underscores (A-z, 0-9, and _ ).\n",
        "* Variable in Python names are case-sensitive (name, Name, and NAME are three different variables).\n",
        "* The reserved words(keywords) in Python cannot be used to name the variable in Python."
      ],
      "metadata": {
        "id": "S7aTtpYD0yWf"
      }
    },
    {
      "cell_type": "code",
      "source": [
        "# valid variable name\n",
        "dublin = 1\n",
        "Dublin = 2\n",
        "Du_bl_in = 5\n",
        "_dublin = 6\n",
        "dublin_ = 7\n",
        "_DUBLIN_ = 8\n",
        "\n",
        "print(dublin, Dublin, Du_bl_in)\n",
        "print(_dublin, dublin_, _DUBLIN_)"
      ],
      "metadata": {
        "id": "FXVgxiBp0599",
        "colab": {
          "base_uri": "https://localhost:8080/"
        },
        "outputId": "554ff8a7-2caa-4ddd-d42f-131c8d175dcc"
      },
      "execution_count": null,
      "outputs": [
        {
          "output_type": "stream",
          "name": "stdout",
          "text": [
            "1 2 5\n",
            "6 7 8\n"
          ]
        }
      ]
    },
    {
      "cell_type": "markdown",
      "source": [
        "**Variables Assignment in Python**"
      ],
      "metadata": {
        "id": "zxqmP4g81c8P"
      }
    },
    {
      "cell_type": "code",
      "source": [
        "# An integer assignment\n",
        "age = 45\n",
        "\n",
        "# A floating point\n",
        "salary = 1456.8\n",
        "\n",
        "# A string\n",
        "name = \"John\"\n",
        "name=\"Sumit\"\n",
        "print(age)\n",
        "print(salary)\n",
        "print(name)"
      ],
      "metadata": {
        "id": "ebMYMLlg1Wyh",
        "colab": {
          "base_uri": "https://localhost:8080/"
        },
        "outputId": "e6b098e8-3ac5-4e81-a0bb-56877c50d3e8"
      },
      "execution_count": null,
      "outputs": [
        {
          "output_type": "stream",
          "name": "stdout",
          "text": [
            "45\n",
            "1456.8\n",
            "Sumit\n"
          ]
        }
      ]
    },
    {
      "cell_type": "markdown",
      "source": [
        "**Declaration and Initialization of Variables**"
      ],
      "metadata": {
        "id": "O6vY9gxS1hr-"
      }
    },
    {
      "cell_type": "code",
      "source": [
        "# declaring the var\n",
        "Number = 100\n",
        "\n",
        "# display\n",
        "print( Number)"
      ],
      "metadata": {
        "id": "OIA3q-0x1lZ9",
        "colab": {
          "base_uri": "https://localhost:8080/"
        },
        "outputId": "b481d3df-e09a-48ba-ad02-41a28a989cf2"
      },
      "execution_count": null,
      "outputs": [
        {
          "output_type": "stream",
          "name": "stdout",
          "text": [
            "100\n"
          ]
        }
      ]
    },
    {
      "cell_type": "markdown",
      "source": [
        "**Redeclaring variables in Python**"
      ],
      "metadata": {
        "id": "rSVrRyzv1v1p"
      }
    },
    {
      "cell_type": "code",
      "source": [
        "# declaring the var\n",
        "Number = 100\n",
        "\n",
        "# display\n",
        "print(\"Before declare: \", Number)\n",
        "\n",
        "# re-declare the var\n",
        "Number = 120.3\n",
        "\n",
        "print(\"After re-declare:\", Number)"
      ],
      "metadata": {
        "id": "sOUfDp4i1zdJ",
        "colab": {
          "base_uri": "https://localhost:8080/"
        },
        "outputId": "3a0cdf06-12e4-4b9e-bc6f-0b775529e7f3"
      },
      "execution_count": null,
      "outputs": [
        {
          "output_type": "stream",
          "name": "stdout",
          "text": [
            "Before declare:  100\n",
            "After re-declare: 120.3\n"
          ]
        }
      ]
    },
    {
      "cell_type": "markdown",
      "source": [
        "**Python Assign Values to Multiple Variables**"
      ],
      "metadata": {
        "id": "hfuO3iQw162W"
      }
    },
    {
      "cell_type": "code",
      "source": [
        "a = b = c = 10\n",
        "\n",
        "print(a)\n",
        "print(b)\n",
        "print(c)"
      ],
      "metadata": {
        "id": "KdZKhIli1-cS",
        "colab": {
          "base_uri": "https://localhost:8080/"
        },
        "outputId": "48c374f0-f53d-4925-8dc7-c09c25ce5014"
      },
      "execution_count": null,
      "outputs": [
        {
          "output_type": "stream",
          "name": "stdout",
          "text": [
            "10\n",
            "10\n",
            "10\n"
          ]
        }
      ]
    },
    {
      "cell_type": "markdown",
      "source": [
        "Assigning different values to multiple variables"
      ],
      "metadata": {
        "id": "u-qQ3LqV2EK7"
      }
    },
    {
      "cell_type": "code",
      "source": [
        "a, b, c = 1, 20.2, \"DublinBusinessSchool\"\n",
        "\n",
        "print(a)\n",
        "print(b)\n",
        "print(c)"
      ],
      "metadata": {
        "id": "JGXTNPnW2HL_",
        "colab": {
          "base_uri": "https://localhost:8080/"
        },
        "outputId": "0b9642d3-e321-467a-d6f0-5a10c1eb5a11"
      },
      "execution_count": null,
      "outputs": [
        {
          "output_type": "stream",
          "name": "stdout",
          "text": [
            "1\n",
            "20.2\n",
            "DublinBusinessSchool\n"
          ]
        }
      ]
    },
    {
      "cell_type": "markdown",
      "source": [
        "**Global and Local Python Variables**\n",
        "\n",
        "Local variables in Python are the ones that are defined and declared inside a function. We can not call this variable outside the function."
      ],
      "metadata": {
        "id": "UZG9LLCq2kFG"
      }
    },
    {
      "cell_type": "code",
      "source": [
        "# This function uses local variable s\n",
        "def f():\n",
        "  s = \"Welcome students\"\n",
        "  print(s)"
      ],
      "metadata": {
        "id": "3EaZ5e6l2o5S"
      },
      "execution_count": null,
      "outputs": []
    },
    {
      "cell_type": "code",
      "source": [
        "f()"
      ],
      "metadata": {
        "colab": {
          "base_uri": "https://localhost:8080/"
        },
        "id": "T3EJB_Aur0pQ",
        "outputId": "00b1e577-5b22-44ef-8fb2-666ccf2b2465"
      },
      "execution_count": null,
      "outputs": [
        {
          "output_type": "stream",
          "name": "stdout",
          "text": [
            "Welcome students\n"
          ]
        }
      ]
    },
    {
      "cell_type": "code",
      "source": [
        "s=45"
      ],
      "metadata": {
        "id": "CcBIfZGU7FAa"
      },
      "execution_count": null,
      "outputs": []
    },
    {
      "cell_type": "code",
      "source": [
        "f()"
      ],
      "metadata": {
        "colab": {
          "base_uri": "https://localhost:8080/"
        },
        "id": "ANUvNhVj6uiE",
        "outputId": "d4dd2137-c271-43c7-ee19-d449a00a2b5e"
      },
      "execution_count": null,
      "outputs": [
        {
          "output_type": "stream",
          "name": "stdout",
          "text": [
            "Welcome students\n"
          ]
        }
      ]
    },
    {
      "cell_type": "markdown",
      "source": [
        "Global variables in Python are the ones that are defined and declared outside a function, and we need to use them inside a function."
      ],
      "metadata": {
        "id": "ipr4HEZt252e"
      }
    },
    {
      "cell_type": "code",
      "source": [
        "# This function has a variable with\n",
        "# name same as s\n",
        "def f():\n",
        "    print(s)\n",
        "\n",
        "# Global scope\n",
        "s = \"I love Dublin Business School\"\n"
      ],
      "metadata": {
        "id": "00JQnnkw28il"
      },
      "execution_count": null,
      "outputs": []
    },
    {
      "cell_type": "code",
      "source": [
        "f()"
      ],
      "metadata": {
        "colab": {
          "base_uri": "https://localhost:8080/"
        },
        "id": "du7vWSKcsUUl",
        "outputId": "d3192619-8a39-4fdd-9fa6-21930caf1e70"
      },
      "execution_count": null,
      "outputs": [
        {
          "output_type": "stream",
          "name": "stdout",
          "text": [
            "45\n"
          ]
        }
      ]
    },
    {
      "cell_type": "code",
      "source": [
        "s=45"
      ],
      "metadata": {
        "id": "Xxn08rgs7VfH"
      },
      "execution_count": null,
      "outputs": []
    },
    {
      "cell_type": "code",
      "source": [
        "s=\"Bank Holiday\""
      ],
      "metadata": {
        "id": "C9mBEr0-7YND"
      },
      "execution_count": null,
      "outputs": []
    },
    {
      "cell_type": "code",
      "source": [
        "f()"
      ],
      "metadata": {
        "colab": {
          "base_uri": "https://localhost:8080/"
        },
        "id": "gG8ZgzTU7Tsh",
        "outputId": "d9e5f491-ac78-48ea-9d52-4ee48ce5736a"
      },
      "execution_count": null,
      "outputs": [
        {
          "output_type": "stream",
          "name": "stdout",
          "text": [
            "Bank Holiday\n"
          ]
        }
      ]
    },
    {
      "cell_type": "code",
      "source": [
        "x = 15\n",
        "\n",
        "def change():\n",
        "\n",
        "    # using a global keyword\n",
        "    global x\n",
        "\n",
        "    # increment value of a by 5\n",
        "    x = x + 5\n",
        "    print(\"Value of x inside a function :\", x)\n",
        "\n",
        "\n",
        "change()\n",
        "print(\"Value of x outside a function :\", x)"
      ],
      "metadata": {
        "colab": {
          "base_uri": "https://localhost:8080/"
        },
        "id": "HDj8BT0E3XaU",
        "outputId": "5c6b31f3-57d1-4305-ecbe-39d5e43854b0"
      },
      "execution_count": null,
      "outputs": [
        {
          "output_type": "stream",
          "name": "stdout",
          "text": [
            "Value of x inside a function : 20\n",
            "Value of x outside a function : 20\n"
          ]
        }
      ]
    },
    {
      "cell_type": "markdown",
      "source": [
        "**Variable Types in Python**\n",
        "\n",
        "Data types are the classification or categorization of data items."
      ],
      "metadata": {
        "id": "ET0Rq2GP3nAQ"
      }
    },
    {
      "cell_type": "code",
      "source": [
        "# numberic\n",
        "var = 123\n",
        "print(\"Numeric data : \", var)\n",
        "\n",
        "# Sequence Type\n",
        "String1 = 'Welcome to Dublin Business School'\n",
        "print(\"String with the use of Single Quotes: \")\n",
        "print(String1)\n",
        "\n",
        "# Boolean\n",
        "print(type(True))\n",
        "print(type(False))\n",
        "\n",
        "# Creating a Set with\n",
        "# the use of a String\n",
        "set1 = set(\"DublinBusinessSchool\")\n",
        "print(\"\\nSet with the use of String: \")\n",
        "print(set1)\n",
        "\n",
        "# Creating a Dictionary\n",
        "# with Integer Keys\n",
        "Dict = {1: 'Dublin', 2: 'Business', 3: 'School'}\n",
        "print(\"\\nDictionary with the use of Integer Keys: \")\n",
        "print(Dict)\n"
      ],
      "metadata": {
        "id": "-Bz1FRIK34xB",
        "colab": {
          "base_uri": "https://localhost:8080/"
        },
        "outputId": "d010a430-42e1-4fcc-93bd-c2b4bbf0132b"
      },
      "execution_count": null,
      "outputs": [
        {
          "output_type": "stream",
          "name": "stdout",
          "text": [
            "Numeric data :  123\n",
            "String with the use of Single Quotes: \n",
            "Welcome to Dublin Business School\n",
            "<class 'bool'>\n",
            "<class 'bool'>\n",
            "\n",
            "Set with the use of String: \n",
            "{'h', 'l', 'S', 'b', 'B', 'o', 'e', 'D', 'n', 'c', 'i', 's', 'u'}\n",
            "\n",
            "Dictionary with the use of Integer Keys: \n",
            "{1: 'Dublin', 2: 'Business', 3: 'School'}\n"
          ]
        }
      ]
    },
    {
      "cell_type": "markdown",
      "source": [
        "# **Taking input in Python**"
      ],
      "metadata": {
        "id": "gDlkFFIn43QI"
      }
    },
    {
      "cell_type": "markdown",
      "source": [
        "Developers often have a need to interact with users, either to get data or to provide some sort of result. Most programs today use a dialog box as a way of asking the user to provide some type of input.\n",
        "\n",
        "* input ( prompt )"
      ],
      "metadata": {
        "id": "ToC_UkTQ5Ftj"
      }
    },
    {
      "cell_type": "code",
      "source": [
        "# Python program showing\n",
        "# a use of input()\n",
        "\n",
        "val = input(\"Enter your values of your choice: \")\n",
        "print(val)\n"
      ],
      "metadata": {
        "colab": {
          "base_uri": "https://localhost:8080/"
        },
        "id": "dI609pII5kyt",
        "outputId": "1913fb2d-9159-4097-c146-03ec54083999"
      },
      "execution_count": null,
      "outputs": [
        {
          "output_type": "stream",
          "name": "stdout",
          "text": [
            "Enter your values of your choice: 6\n",
            "6\n"
          ]
        }
      ]
    },
    {
      "cell_type": "code",
      "source": [
        "name = input('What is your name?\\n')\t # \\n ---> newline ---> It causes a line break\n",
        "print(name)\n"
      ],
      "metadata": {
        "colab": {
          "base_uri": "https://localhost:8080/"
        },
        "id": "zGJirbsk5txj",
        "outputId": "87562cdd-4fbb-4711-919c-46776f0bda46"
      },
      "execution_count": null,
      "outputs": [
        {
          "output_type": "stream",
          "name": "stdout",
          "text": [
            "What is your name?\n",
            "Sumit\n",
            "Sumit\n"
          ]
        }
      ]
    },
    {
      "cell_type": "code",
      "source": [
        "# Program to check input\n",
        "# type in Python\n",
        "\n",
        "num = input (\"Enter number :\")\n",
        "print(num)\n",
        "name1 = input(\"Enter name : \")\n",
        "print(name1)\n",
        "\n",
        "# Printing type of input value\n",
        "print (\"type of number\", type(num))\n",
        "print (\"type of name\", type(name1))\n"
      ],
      "metadata": {
        "colab": {
          "base_uri": "https://localhost:8080/"
        },
        "id": "WTyfKmYP6BXg",
        "outputId": "566a653d-630e-4d44-ebc4-b6ffab4ae352"
      },
      "execution_count": null,
      "outputs": [
        {
          "output_type": "stream",
          "name": "stdout",
          "text": [
            "Enter number :56\n",
            "56\n",
            "Enter name : Raj\n",
            "Raj\n",
            "type of number <class 'str'>\n",
            "type of name <class 'str'>\n"
          ]
        }
      ]
    },
    {
      "cell_type": "markdown",
      "source": [
        "# **Casting Data Types**"
      ],
      "metadata": {
        "id": "_I6s1CEmviYw"
      }
    },
    {
      "cell_type": "code",
      "source": [
        "num = int(input(\"Enter a number: \"))\n",
        "print(num, \" \", type(num))\n",
        "\n",
        "\n",
        "floatNum = float(input(\"Enter a decimal number: \"))\n",
        "print(floatNum, \" \", type(floatNum))\n",
        "\n",
        "num1 = str(input(\"Enter a name:\"))\n",
        "print(num1, \" \", type(num1))\n"
      ],
      "metadata": {
        "colab": {
          "base_uri": "https://localhost:8080/"
        },
        "id": "r3vP1-x06nPL",
        "outputId": "735fea62-5bcf-482b-bbc5-d4776a5c201f"
      },
      "execution_count": null,
      "outputs": [
        {
          "output_type": "stream",
          "name": "stdout",
          "text": [
            "Enter a number: 5\n",
            "5   <class 'int'>\n",
            "Enter a decimal number: 6\n",
            "6.0   <class 'float'>\n",
            "Enter a name:Sheila\n",
            "Sheila   <class 'str'>\n"
          ]
        }
      ]
    },
    {
      "cell_type": "markdown",
      "source": [
        "# **Type Conversion in Python**"
      ],
      "metadata": {
        "id": "XKr57dJ960uA"
      }
    },
    {
      "cell_type": "markdown",
      "source": [
        "Python defines type conversion functions to directly convert one data type to another which is useful in day-to-day and competitive programming. This article is aimed at providing information about certain conversion functions.\n",
        "\n",
        "There are two types of Type Conversion in Python:\n",
        "\n",
        "* Python Implicit Type Conversion\n",
        "* Python Explicit Type Conversion"
      ],
      "metadata": {
        "id": "GOCAop3U66b-"
      }
    },
    {
      "cell_type": "markdown",
      "source": [
        "**Implicit Type Conversion in Python**\n",
        "\n",
        "In Implicit type conversion of data types in Python, the Python interpreter automatically converts one data type to another without any user involvement."
      ],
      "metadata": {
        "id": "trd-bacf7K__"
      }
    },
    {
      "cell_type": "code",
      "source": [
        "x = 10\n",
        "\n",
        "print(\"x is of type:\",type(x))\n",
        "\n",
        "y = 10.6\n",
        "print(\"y is of type:\",type(y))\n",
        "\n",
        "z = x + y\n",
        "\n",
        "print(z)\n",
        "print(\"z is of type:\",type(z))\n"
      ],
      "metadata": {
        "id": "-U3Y0t3n7PAL",
        "colab": {
          "base_uri": "https://localhost:8080/"
        },
        "outputId": "63835e3c-f39b-4286-ddae-d5ad50d39f21"
      },
      "execution_count": null,
      "outputs": [
        {
          "output_type": "stream",
          "name": "stdout",
          "text": [
            "x is of type: <class 'int'>\n",
            "y is of type: <class 'float'>\n",
            "20.6\n",
            "z is of type: <class 'float'>\n"
          ]
        }
      ]
    },
    {
      "cell_type": "markdown",
      "source": [
        "**Explicit Type Conversion in Python**\n",
        "\n",
        "In Explicit Type Conversion in Python, the data type is manually changed by the user as per their requirement."
      ],
      "metadata": {
        "id": "iV5dQh2v7TKX"
      }
    },
    {
      "cell_type": "code",
      "source": [
        "# initializing string\n",
        "s = \"10010\"\n",
        "\n",
        "# printing string converting to int base 2\n",
        "c = int(s,2)\n",
        "print (\"After converting to integer base 2 : \", end=\"\")\n",
        "print (c)\n",
        "\n",
        "d= int(s)\n",
        "print(\"After converting to interger:\", end=\"\")\n",
        "print(d)\n",
        "\n",
        "# printing string converting to float\n",
        "e = float(s)\n",
        "print (\"After converting to float : \", end=\"\")\n",
        "print (e)\n"
      ],
      "metadata": {
        "id": "PYhy2crd7eN5",
        "colab": {
          "base_uri": "https://localhost:8080/"
        },
        "outputId": "d3fb513c-0093-4c82-fe06-105b1942e52a"
      },
      "execution_count": null,
      "outputs": [
        {
          "output_type": "stream",
          "name": "stdout",
          "text": [
            "After converting to integer base 2 : 18\n",
            "After converting to interger:10010\n",
            "After converting to float : 10010.0\n"
          ]
        }
      ]
    },
    {
      "cell_type": "code",
      "source": [
        "# initializing integer\n",
        "s = '4'\n",
        "\n",
        "# printing character converting to integer\n",
        "c = ord(s)\n",
        "print (\"After converting character to integer : \",end=\"\")\n",
        "print (c)\n",
        "\n",
        "# printing integer converting to hexadecimal string\n",
        "c = hex(56)\n",
        "print (\"After converting 56 to hexadecimal string : \",end=\"\")\n",
        "print (c)\n",
        "\n",
        "# printing integer converting to octal string\n",
        "c = oct(56)\n",
        "print (\"After converting 56 to octal string : \",end=\"\")\n",
        "print (c)\n"
      ],
      "metadata": {
        "id": "f4NJJtPZ78WT",
        "colab": {
          "base_uri": "https://localhost:8080/"
        },
        "outputId": "023a2102-1e52-4ade-98d1-b151509aaaa1"
      },
      "execution_count": null,
      "outputs": [
        {
          "output_type": "stream",
          "name": "stdout",
          "text": [
            "After converting character to integer : 52\n",
            "After converting 56 to hexadecimal string : 0x38\n",
            "After converting 56 to octal string : 0o70\n"
          ]
        }
      ]
    },
    {
      "cell_type": "code",
      "source": [
        "# initializing string\n",
        "s = 'geeks'\n",
        "\n",
        "# printing string converting to tuple\n",
        "c = tuple(s)\n",
        "print (\"After converting string to tuple : \",end=\"\")\n",
        "print (c)\n",
        "\n",
        "# printing string converting to set\n",
        "c = set(s)\n",
        "print (\"After converting string to set : \",end=\"\")\n",
        "print (c)\n",
        "\n",
        "# printing string converting to list\n",
        "c = list(s)\n",
        "print (\"After converting string to list : \",end=\"\")\n",
        "print (c)\n"
      ],
      "metadata": {
        "id": "YF8PfiIf7_uV",
        "colab": {
          "base_uri": "https://localhost:8080/"
        },
        "outputId": "9c82ac92-f906-46b3-c0fb-1dfd6ed500ee"
      },
      "execution_count": null,
      "outputs": [
        {
          "output_type": "stream",
          "name": "stdout",
          "text": [
            "After converting string to tuple : ('g', 'e', 'e', 'k', 's')\n",
            "After converting string to set : {'e', 'g', 'k', 's'}\n",
            "After converting string to list : ['g', 'e', 'e', 'k', 's']\n"
          ]
        }
      ]
    },
    {
      "cell_type": "code",
      "source": [
        "# initializing integers\n",
        "a = 1\n",
        "b = 2\n",
        "\n",
        "# initializing tuple\n",
        "tup = (('a', 1) ,('f', 2), ('g', 3))\n",
        "\n",
        "# printing integer converting to complex number\n",
        "c = complex(4,5)\n",
        "print (\"After converting integer to complex number : \",end=\"\")\n",
        "print (c)\n",
        "\n",
        "# printing integer converting to string\n",
        "c = str(a)\n",
        "print (\"After converting integer to string : \",end=\"\")\n",
        "print (c)\n",
        "\n",
        "# printing tuple converting to expression dictionary\n",
        "c = dict(tup)\n",
        "print (\"After converting tuple to dictionary : \",end=\"\")\n",
        "print (c)\n"
      ],
      "metadata": {
        "id": "fX5UukOg8Dtw",
        "colab": {
          "base_uri": "https://localhost:8080/"
        },
        "outputId": "95ad1106-cc0b-413d-ed0a-c794f91f8080"
      },
      "execution_count": null,
      "outputs": [
        {
          "output_type": "stream",
          "name": "stdout",
          "text": [
            "After converting integer to complex number : (4+5j)\n",
            "After converting integer to string : 1\n",
            "After converting tuple to dictionary : {'a': 1, 'f': 2, 'g': 3}\n"
          ]
        }
      ]
    }
  ]
}